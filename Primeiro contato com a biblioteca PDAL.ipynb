{
 "cells": [
  {
   "cell_type": "markdown",
   "metadata": {},
   "source": [
    "# Primeiro contato com a biblioteca PDAL\n",
    "\n",
    "Esse primeiro notebook tem como objetivo introduzir ao acesso da base de dados EntiWine atravéz da biblioteca PDAL"
   ]
  },
  {
   "cell_type": "code",
   "execution_count": 1,
   "metadata": {},
   "outputs": [],
   "source": [
    "import pdal\n",
    "import json"
   ]
  },
  {
   "cell_type": "markdown",
   "metadata": {},
   "source": [
    "## Acessando os dados\n",
    "\n",
    "Primeiro é necessário acessar a nuvem de pontos. Podemos fazer isso por um serviço EPT (EntWine Tile of Points). Nesse caso vamos escolher uma área pequena, do coreto do Parque da Luz."
   ]
  },
  {
   "cell_type": "code",
   "execution_count": 2,
   "metadata": {},
   "outputs": [],
   "source": [
    "bounds = ([333060, 333090], [7396500, 7396530])"
   ]
  },
  {
   "cell_type": "code",
   "execution_count": 3,
   "metadata": {},
   "outputs": [
    {
     "data": {
      "text/plain": [
       "'([333060, 333090], [7396500, 7396530])'"
      ]
     },
     "execution_count": 3,
     "metadata": {},
     "output_type": "execute_result"
    }
   ],
   "source": [
    "str(bounds)"
   ]
  },
  {
   "cell_type": "code",
   "execution_count": 4,
   "metadata": {},
   "outputs": [
    {
     "name": "stdout",
     "output_type": "stream",
     "text": [
      "CPU times: user 1.44 s, sys: 47.6 ms, total: 1.49 s\n",
      "Wall time: 2.26 s\n",
      "Pipeline selected 13496 points\n"
     ]
    }
   ],
   "source": [
    "ept = [\n",
    "    {\n",
    "      \"type\": \"readers.ept\",\n",
    "      \"filename\": \"https://ept-m3dc-pmsp.s3-sa-east-1.amazonaws.com/ept.json\",\n",
    "      \"bounds\": str(bounds)\n",
    "    },\n",
    "    {   \n",
    "        \"type\":\"filters.hag_delaunay\"\n",
    "#     },\n",
    "#     {   \"type\":\"filters.eigenvalues\",\n",
    "#         \"knn\":16\n",
    "    },\n",
    "#     {   \"type\":\"filters.normal\",\n",
    "#         \"knn\":16\n",
    "#     },\n",
    "#     {\n",
    "#         \"type\":\"filters.cluster\"\n",
    "#     },\n",
    "]\n",
    "\n",
    "pipeline = pdal.Pipeline(json.dumps(ept))\n",
    "pipeline.validate()\n",
    "%time n_points = pipeline.execute()\n",
    "print(f'Pipeline selected {n_points} points')"
   ]
  },
  {
   "cell_type": "markdown",
   "metadata": {},
   "source": [
    "## Estrutura de dados\n",
    "\n",
    "Os dados estão estruturados e podemos usar a biblioteca Pandas para acessá-los"
   ]
  },
  {
   "cell_type": "code",
   "execution_count": 5,
   "metadata": {},
   "outputs": [
    {
     "data": {
      "text/plain": [
       "{'schema': {'dimensions': [{'name': 'X', 'size': 8, 'type': 'floating'},\n",
       "   {'name': 'Y', 'size': 8, 'type': 'floating'},\n",
       "   {'name': 'Z', 'size': 8, 'type': 'floating'},\n",
       "   {'name': 'Intensity', 'size': 2, 'type': 'unsigned'},\n",
       "   {'name': 'ReturnNumber', 'size': 1, 'type': 'unsigned'},\n",
       "   {'name': 'NumberOfReturns', 'size': 1, 'type': 'unsigned'},\n",
       "   {'name': 'ScanDirectionFlag', 'size': 1, 'type': 'unsigned'},\n",
       "   {'name': 'EdgeOfFlightLine', 'size': 1, 'type': 'unsigned'},\n",
       "   {'name': 'Classification', 'size': 1, 'type': 'unsigned'},\n",
       "   {'name': 'ScanAngleRank', 'size': 4, 'type': 'floating'},\n",
       "   {'name': 'UserData', 'size': 1, 'type': 'unsigned'},\n",
       "   {'name': 'PointSourceId', 'size': 2, 'type': 'unsigned'},\n",
       "   {'name': 'GpsTime', 'size': 8, 'type': 'floating'},\n",
       "   {'name': 'Red', 'size': 2, 'type': 'unsigned'},\n",
       "   {'name': 'Green', 'size': 2, 'type': 'unsigned'},\n",
       "   {'name': 'Blue', 'size': 2, 'type': 'unsigned'},\n",
       "   {'name': 'OriginId', 'size': 4, 'type': 'unsigned'},\n",
       "   {'name': 'HeightAboveGround', 'size': 8, 'type': 'floating'}]}}"
      ]
     },
     "execution_count": 5,
     "metadata": {},
     "output_type": "execute_result"
    }
   ],
   "source": [
    "pipeline.schema"
   ]
  },
  {
   "cell_type": "code",
   "execution_count": 6,
   "metadata": {},
   "outputs": [
    {
     "data": {
      "text/html": [
       "<div>\n",
       "<style scoped>\n",
       "    .dataframe tbody tr th:only-of-type {\n",
       "        vertical-align: middle;\n",
       "    }\n",
       "\n",
       "    .dataframe tbody tr th {\n",
       "        vertical-align: top;\n",
       "    }\n",
       "\n",
       "    .dataframe thead th {\n",
       "        text-align: right;\n",
       "    }\n",
       "</style>\n",
       "<table border=\"1\" class=\"dataframe\">\n",
       "  <thead>\n",
       "    <tr style=\"text-align: right;\">\n",
       "      <th></th>\n",
       "      <th>X</th>\n",
       "      <th>Y</th>\n",
       "      <th>Z</th>\n",
       "      <th>Intensity</th>\n",
       "      <th>ReturnNumber</th>\n",
       "      <th>NumberOfReturns</th>\n",
       "      <th>ScanDirectionFlag</th>\n",
       "      <th>EdgeOfFlightLine</th>\n",
       "      <th>Classification</th>\n",
       "      <th>ScanAngleRank</th>\n",
       "      <th>UserData</th>\n",
       "      <th>PointSourceId</th>\n",
       "      <th>GpsTime</th>\n",
       "      <th>Red</th>\n",
       "      <th>Green</th>\n",
       "      <th>Blue</th>\n",
       "      <th>OriginId</th>\n",
       "      <th>HeightAboveGround</th>\n",
       "    </tr>\n",
       "  </thead>\n",
       "  <tbody>\n",
       "    <tr>\n",
       "      <th>0</th>\n",
       "      <td>333069.84</td>\n",
       "      <td>7396523.41</td>\n",
       "      <td>737.12</td>\n",
       "      <td>6</td>\n",
       "      <td>2</td>\n",
       "      <td>2</td>\n",
       "      <td>1</td>\n",
       "      <td>0</td>\n",
       "      <td>2</td>\n",
       "      <td>18.0</td>\n",
       "      <td>0</td>\n",
       "      <td>6</td>\n",
       "      <td>358517.058422</td>\n",
       "      <td>22272</td>\n",
       "      <td>24320</td>\n",
       "      <td>23808</td>\n",
       "      <td>2416</td>\n",
       "      <td>0.000000</td>\n",
       "    </tr>\n",
       "    <tr>\n",
       "      <th>1</th>\n",
       "      <td>333060.54</td>\n",
       "      <td>7396515.26</td>\n",
       "      <td>737.35</td>\n",
       "      <td>14</td>\n",
       "      <td>1</td>\n",
       "      <td>1</td>\n",
       "      <td>1</td>\n",
       "      <td>0</td>\n",
       "      <td>2</td>\n",
       "      <td>-10.0</td>\n",
       "      <td>0</td>\n",
       "      <td>6</td>\n",
       "      <td>358026.122710</td>\n",
       "      <td>7168</td>\n",
       "      <td>10240</td>\n",
       "      <td>15616</td>\n",
       "      <td>2416</td>\n",
       "      <td>0.000000</td>\n",
       "    </tr>\n",
       "    <tr>\n",
       "      <th>2</th>\n",
       "      <td>333080.45</td>\n",
       "      <td>7396516.96</td>\n",
       "      <td>737.70</td>\n",
       "      <td>9</td>\n",
       "      <td>2</td>\n",
       "      <td>2</td>\n",
       "      <td>0</td>\n",
       "      <td>0</td>\n",
       "      <td>2</td>\n",
       "      <td>-6.0</td>\n",
       "      <td>0</td>\n",
       "      <td>6</td>\n",
       "      <td>358350.736322</td>\n",
       "      <td>36864</td>\n",
       "      <td>28672</td>\n",
       "      <td>26624</td>\n",
       "      <td>2416</td>\n",
       "      <td>0.000000</td>\n",
       "    </tr>\n",
       "    <tr>\n",
       "      <th>3</th>\n",
       "      <td>333084.40</td>\n",
       "      <td>7396519.07</td>\n",
       "      <td>752.30</td>\n",
       "      <td>30</td>\n",
       "      <td>1</td>\n",
       "      <td>1</td>\n",
       "      <td>1</td>\n",
       "      <td>0</td>\n",
       "      <td>5</td>\n",
       "      <td>-10.0</td>\n",
       "      <td>15</td>\n",
       "      <td>6</td>\n",
       "      <td>358025.631887</td>\n",
       "      <td>17920</td>\n",
       "      <td>23552</td>\n",
       "      <td>16896</td>\n",
       "      <td>2416</td>\n",
       "      <td>14.927621</td>\n",
       "    </tr>\n",
       "    <tr>\n",
       "      <th>4</th>\n",
       "      <td>333082.83</td>\n",
       "      <td>7396519.22</td>\n",
       "      <td>746.82</td>\n",
       "      <td>14</td>\n",
       "      <td>2</td>\n",
       "      <td>2</td>\n",
       "      <td>1</td>\n",
       "      <td>0</td>\n",
       "      <td>5</td>\n",
       "      <td>-10.0</td>\n",
       "      <td>9</td>\n",
       "      <td>6</td>\n",
       "      <td>358025.668248</td>\n",
       "      <td>16384</td>\n",
       "      <td>21504</td>\n",
       "      <td>15360</td>\n",
       "      <td>2416</td>\n",
       "      <td>9.487211</td>\n",
       "    </tr>\n",
       "  </tbody>\n",
       "</table>\n",
       "</div>"
      ],
      "text/plain": [
       "           X           Y       Z  Intensity  ReturnNumber  NumberOfReturns  \\\n",
       "0  333069.84  7396523.41  737.12          6             2                2   \n",
       "1  333060.54  7396515.26  737.35         14             1                1   \n",
       "2  333080.45  7396516.96  737.70          9             2                2   \n",
       "3  333084.40  7396519.07  752.30         30             1                1   \n",
       "4  333082.83  7396519.22  746.82         14             2                2   \n",
       "\n",
       "   ScanDirectionFlag  EdgeOfFlightLine  Classification  ScanAngleRank  \\\n",
       "0                  1                 0               2           18.0   \n",
       "1                  1                 0               2          -10.0   \n",
       "2                  0                 0               2           -6.0   \n",
       "3                  1                 0               5          -10.0   \n",
       "4                  1                 0               5          -10.0   \n",
       "\n",
       "   UserData  PointSourceId        GpsTime    Red  Green   Blue  OriginId  \\\n",
       "0         0              6  358517.058422  22272  24320  23808      2416   \n",
       "1         0              6  358026.122710   7168  10240  15616      2416   \n",
       "2         0              6  358350.736322  36864  28672  26624      2416   \n",
       "3        15              6  358025.631887  17920  23552  16896      2416   \n",
       "4         9              6  358025.668248  16384  21504  15360      2416   \n",
       "\n",
       "   HeightAboveGround  \n",
       "0           0.000000  \n",
       "1           0.000000  \n",
       "2           0.000000  \n",
       "3          14.927621  \n",
       "4           9.487211  "
      ]
     },
     "execution_count": 6,
     "metadata": {},
     "output_type": "execute_result"
    }
   ],
   "source": [
    "import pandas as pd\n",
    "arr = pipeline.arrays[0]\n",
    "df = pd.DataFrame(arr)\n",
    "# print(df.head().to_latex(index=False))\n",
    "df.head()"
   ]
  },
  {
   "cell_type": "code",
   "execution_count": 7,
   "metadata": {},
   "outputs": [
    {
     "data": {
      "text/plain": [
       "X                    float64\n",
       "Y                    float64\n",
       "Z                    float64\n",
       "Intensity             uint16\n",
       "ReturnNumber           uint8\n",
       "NumberOfReturns        uint8\n",
       "ScanDirectionFlag      uint8\n",
       "EdgeOfFlightLine       uint8\n",
       "Classification         uint8\n",
       "ScanAngleRank        float32\n",
       "UserData               uint8\n",
       "PointSourceId         uint16\n",
       "GpsTime              float64\n",
       "Red                   uint16\n",
       "Green                 uint16\n",
       "Blue                  uint16\n",
       "OriginId              uint32\n",
       "HeightAboveGround    float64\n",
       "dtype: object"
      ]
     },
     "execution_count": 7,
     "metadata": {},
     "output_type": "execute_result"
    }
   ],
   "source": [
    "df.dtypes"
   ]
  },
  {
   "cell_type": "markdown",
   "metadata": {},
   "source": [
    "## Classificação\n",
    "\n",
    "Os dados já foram previamente classificados conforme classes da ASPRS"
   ]
  },
  {
   "cell_type": "code",
   "execution_count": 8,
   "metadata": {},
   "outputs": [
    {
     "data": {
      "text/plain": [
       "array([ 2,  5,  6, 19, 20], dtype=uint8)"
      ]
     },
     "execution_count": 8,
     "metadata": {},
     "output_type": "execute_result"
    }
   ],
   "source": [
    "df.Classification.unique()"
   ]
  },
  {
   "cell_type": "markdown",
   "metadata": {},
   "source": [
    "## Normalizando coordenadas para visualização\n"
   ]
  },
  {
   "cell_type": "code",
   "execution_count": 9,
   "metadata": {},
   "outputs": [],
   "source": [
    "# Reduzindo valores a mínimos para poderem ser visualizados\n",
    "df[['X', 'Y', 'Z']] = df[['X', 'Y', 'Z']] - df[['X', 'Y', 'Z']].min()"
   ]
  },
  {
   "cell_type": "code",
   "execution_count": 10,
   "metadata": {},
   "outputs": [
    {
     "data": {
      "application/vnd.jupyter.widget-view+json": {
       "model_id": "695073b7353046bcb8525d268180aad0",
       "version_major": 2,
       "version_minor": 0
      },
      "text/plain": [
       "VBox(children=(Figure(camera=PerspectiveCamera(fov=46.0, position=(0.0, 0.0, 2.0), quaternion=(0.0, 0.0, 0.0, …"
      ]
     },
     "metadata": {},
     "output_type": "display_data"
    }
   ],
   "source": [
    "import ipyvolume as p3 \n",
    "\n",
    "fig = p3.figure(width=1000)\n",
    "fig.xlabel='Y'\n",
    "fig.ylabel='Z'\n",
    "fig.zlabel='X'\n",
    "all_points = p3.scatter(df['Y'], df['Z'], df['X'], color='grey', size=1, marker='square_2d')\n",
    "# ground = p3.scatter(gd['Y'], gd['Z'], gd['X'], color='grey', size=.2)\n",
    "# building = p3.scatter(bd['Y'], bd['Z'], bd['X'], color='orange', size=.3)\n",
    "# vegetation = p3.scatter(vg['Y'], vg['Z'], vg['X'], color='green', size=.1)\n",
    "p3.squarelim()\n",
    "p3.show()"
   ]
  },
  {
   "cell_type": "code",
   "execution_count": null,
   "metadata": {},
   "outputs": [],
   "source": []
  }
 ],
 "metadata": {
  "kernelspec": {
   "display_name": "Python 3",
   "language": "python",
   "name": "python3"
  },
  "language_info": {
   "codemirror_mode": {
    "name": "ipython",
    "version": 3
   },
   "file_extension": ".py",
   "mimetype": "text/x-python",
   "name": "python",
   "nbconvert_exporter": "python",
   "pygments_lexer": "ipython3",
   "version": "3.7.6"
  }
 },
 "nbformat": 4,
 "nbformat_minor": 4
}
