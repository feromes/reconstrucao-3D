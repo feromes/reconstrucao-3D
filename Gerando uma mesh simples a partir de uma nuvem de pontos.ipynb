{
 "cells": [
  {
   "cell_type": "code",
   "execution_count": 85,
   "metadata": {},
   "outputs": [],
   "source": [
    "import pdal\n",
    "import json\n",
    "import numpy as np"
   ]
  },
  {
   "cell_type": "code",
   "execution_count": 86,
   "metadata": {},
   "outputs": [],
   "source": [
    "bounds = ([333060, 333090], [7396500, 7396530])"
   ]
  },
  {
   "cell_type": "code",
   "execution_count": 87,
   "metadata": {},
   "outputs": [
    {
     "name": "stdout",
     "output_type": "stream",
     "text": [
      "CPU times: user 2.21 s, sys: 56.1 ms, total: 2.26 s\n",
      "Wall time: 2.72 s\n",
      "Pipeline selected 13496 points\n"
     ]
    }
   ],
   "source": [
    "ept = [\n",
    "    {\n",
    "      \"type\": \"readers.ept\",\n",
    "      \"filename\": \"https://ept-m3dc-pmsp.s3-sa-east-1.amazonaws.com/ept.json\",\n",
    "      \"bounds\": str(bounds)\n",
    "    },\n",
    "    {   \n",
    "        \"type\":\"filters.hag_delaunay\"\n",
    "#     },\n",
    "#     {   \"type\":\"filters.eigenvalues\",\n",
    "#         \"knn\":16\n",
    "    },\n",
    "    {   \"type\":\"filters.normal\",\n",
    "        \"knn\":16\n",
    "    },\n",
    "    {\n",
    "        \"type\":\"filters.dbscan\",\n",
    "        \"min_points\":10,\n",
    "        \"eps\":2.0,\n",
    "        \"dimensions\":\"X,Y,Z\"\n",
    "    },\n",
    "#     {\n",
    "#         \"type\":\"filters.cluster\"\n",
    "#     },\n",
    "]\n",
    "\n",
    "pipeline = pdal.Pipeline(json.dumps(ept))\n",
    "pipeline.validate()\n",
    "%time n_points = pipeline.execute()\n",
    "print(f'Pipeline selected {n_points} points')"
   ]
  },
  {
   "cell_type": "code",
   "execution_count": 88,
   "metadata": {},
   "outputs": [
    {
     "data": {
      "text/plain": [
       "{'schema': {'dimensions': [{'name': 'X', 'size': 8, 'type': 'floating'},\n",
       "   {'name': 'Y', 'size': 8, 'type': 'floating'},\n",
       "   {'name': 'Z', 'size': 8, 'type': 'floating'},\n",
       "   {'name': 'Intensity', 'size': 2, 'type': 'unsigned'},\n",
       "   {'name': 'ReturnNumber', 'size': 1, 'type': 'unsigned'},\n",
       "   {'name': 'NumberOfReturns', 'size': 1, 'type': 'unsigned'},\n",
       "   {'name': 'ScanDirectionFlag', 'size': 1, 'type': 'unsigned'},\n",
       "   {'name': 'EdgeOfFlightLine', 'size': 1, 'type': 'unsigned'},\n",
       "   {'name': 'Classification', 'size': 1, 'type': 'unsigned'},\n",
       "   {'name': 'ScanAngleRank', 'size': 4, 'type': 'floating'},\n",
       "   {'name': 'UserData', 'size': 1, 'type': 'unsigned'},\n",
       "   {'name': 'PointSourceId', 'size': 2, 'type': 'unsigned'},\n",
       "   {'name': 'GpsTime', 'size': 8, 'type': 'floating'},\n",
       "   {'name': 'Red', 'size': 2, 'type': 'unsigned'},\n",
       "   {'name': 'Green', 'size': 2, 'type': 'unsigned'},\n",
       "   {'name': 'Blue', 'size': 2, 'type': 'unsigned'},\n",
       "   {'name': 'OriginId', 'size': 4, 'type': 'unsigned'},\n",
       "   {'name': 'HeightAboveGround', 'size': 8, 'type': 'floating'},\n",
       "   {'name': 'NormalX', 'size': 8, 'type': 'floating'},\n",
       "   {'name': 'NormalY', 'size': 8, 'type': 'floating'},\n",
       "   {'name': 'NormalZ', 'size': 8, 'type': 'floating'},\n",
       "   {'name': 'Curvature', 'size': 8, 'type': 'floating'},\n",
       "   {'name': 'ClusterID', 'size': 8, 'type': 'signed'}]}}"
      ]
     },
     "execution_count": 88,
     "metadata": {},
     "output_type": "execute_result"
    }
   ],
   "source": [
    "pipeline.schema"
   ]
  },
  {
   "cell_type": "code",
   "execution_count": 89,
   "metadata": {},
   "outputs": [
    {
     "data": {
      "text/html": [
       "<div>\n",
       "<style scoped>\n",
       "    .dataframe tbody tr th:only-of-type {\n",
       "        vertical-align: middle;\n",
       "    }\n",
       "\n",
       "    .dataframe tbody tr th {\n",
       "        vertical-align: top;\n",
       "    }\n",
       "\n",
       "    .dataframe thead th {\n",
       "        text-align: right;\n",
       "    }\n",
       "</style>\n",
       "<table border=\"1\" class=\"dataframe\">\n",
       "  <thead>\n",
       "    <tr style=\"text-align: right;\">\n",
       "      <th></th>\n",
       "      <th>X</th>\n",
       "      <th>Y</th>\n",
       "      <th>Z</th>\n",
       "      <th>Intensity</th>\n",
       "      <th>ReturnNumber</th>\n",
       "      <th>NumberOfReturns</th>\n",
       "      <th>ScanDirectionFlag</th>\n",
       "      <th>EdgeOfFlightLine</th>\n",
       "      <th>Classification</th>\n",
       "      <th>ScanAngleRank</th>\n",
       "      <th>...</th>\n",
       "      <th>Red</th>\n",
       "      <th>Green</th>\n",
       "      <th>Blue</th>\n",
       "      <th>OriginId</th>\n",
       "      <th>HeightAboveGround</th>\n",
       "      <th>NormalX</th>\n",
       "      <th>NormalY</th>\n",
       "      <th>NormalZ</th>\n",
       "      <th>Curvature</th>\n",
       "      <th>ClusterID</th>\n",
       "    </tr>\n",
       "  </thead>\n",
       "  <tbody>\n",
       "    <tr>\n",
       "      <th>0</th>\n",
       "      <td>333060.54</td>\n",
       "      <td>7396515.26</td>\n",
       "      <td>737.35</td>\n",
       "      <td>14</td>\n",
       "      <td>1</td>\n",
       "      <td>1</td>\n",
       "      <td>1</td>\n",
       "      <td>0</td>\n",
       "      <td>2</td>\n",
       "      <td>-10.0</td>\n",
       "      <td>...</td>\n",
       "      <td>7168</td>\n",
       "      <td>10240</td>\n",
       "      <td>15616</td>\n",
       "      <td>2416</td>\n",
       "      <td>0.0</td>\n",
       "      <td>0.034301</td>\n",
       "      <td>0.024928</td>\n",
       "      <td>0.999101</td>\n",
       "      <td>0.007859</td>\n",
       "      <td>0</td>\n",
       "    </tr>\n",
       "    <tr>\n",
       "      <th>1</th>\n",
       "      <td>333080.45</td>\n",
       "      <td>7396516.96</td>\n",
       "      <td>737.70</td>\n",
       "      <td>9</td>\n",
       "      <td>2</td>\n",
       "      <td>2</td>\n",
       "      <td>0</td>\n",
       "      <td>0</td>\n",
       "      <td>2</td>\n",
       "      <td>-6.0</td>\n",
       "      <td>...</td>\n",
       "      <td>36864</td>\n",
       "      <td>28672</td>\n",
       "      <td>26624</td>\n",
       "      <td>2416</td>\n",
       "      <td>0.0</td>\n",
       "      <td>0.112437</td>\n",
       "      <td>0.172364</td>\n",
       "      <td>0.978595</td>\n",
       "      <td>0.015050</td>\n",
       "      <td>1</td>\n",
       "    </tr>\n",
       "    <tr>\n",
       "      <th>2</th>\n",
       "      <td>333069.84</td>\n",
       "      <td>7396523.41</td>\n",
       "      <td>737.12</td>\n",
       "      <td>6</td>\n",
       "      <td>2</td>\n",
       "      <td>2</td>\n",
       "      <td>1</td>\n",
       "      <td>0</td>\n",
       "      <td>2</td>\n",
       "      <td>18.0</td>\n",
       "      <td>...</td>\n",
       "      <td>22272</td>\n",
       "      <td>24320</td>\n",
       "      <td>23808</td>\n",
       "      <td>2416</td>\n",
       "      <td>0.0</td>\n",
       "      <td>-0.079871</td>\n",
       "      <td>0.097067</td>\n",
       "      <td>0.992068</td>\n",
       "      <td>0.011714</td>\n",
       "      <td>-1</td>\n",
       "    </tr>\n",
       "    <tr>\n",
       "      <th>3</th>\n",
       "      <td>333083.16</td>\n",
       "      <td>7396501.60</td>\n",
       "      <td>737.30</td>\n",
       "      <td>8</td>\n",
       "      <td>1</td>\n",
       "      <td>1</td>\n",
       "      <td>0</td>\n",
       "      <td>0</td>\n",
       "      <td>2</td>\n",
       "      <td>-9.0</td>\n",
       "      <td>...</td>\n",
       "      <td>49408</td>\n",
       "      <td>48128</td>\n",
       "      <td>43520</td>\n",
       "      <td>2416</td>\n",
       "      <td>0.0</td>\n",
       "      <td>0.005691</td>\n",
       "      <td>-0.100883</td>\n",
       "      <td>0.994882</td>\n",
       "      <td>0.043440</td>\n",
       "      <td>0</td>\n",
       "    </tr>\n",
       "    <tr>\n",
       "      <th>4</th>\n",
       "      <td>333082.88</td>\n",
       "      <td>7396510.83</td>\n",
       "      <td>737.54</td>\n",
       "      <td>8</td>\n",
       "      <td>1</td>\n",
       "      <td>1</td>\n",
       "      <td>0</td>\n",
       "      <td>0</td>\n",
       "      <td>2</td>\n",
       "      <td>-9.0</td>\n",
       "      <td>...</td>\n",
       "      <td>10240</td>\n",
       "      <td>13056</td>\n",
       "      <td>16896</td>\n",
       "      <td>2416</td>\n",
       "      <td>0.0</td>\n",
       "      <td>-0.042174</td>\n",
       "      <td>-0.047234</td>\n",
       "      <td>0.997993</td>\n",
       "      <td>0.013654</td>\n",
       "      <td>0</td>\n",
       "    </tr>\n",
       "  </tbody>\n",
       "</table>\n",
       "<p>5 rows × 23 columns</p>\n",
       "</div>"
      ],
      "text/plain": [
       "           X           Y       Z  Intensity  ReturnNumber  NumberOfReturns  \\\n",
       "0  333060.54  7396515.26  737.35         14             1                1   \n",
       "1  333080.45  7396516.96  737.70          9             2                2   \n",
       "2  333069.84  7396523.41  737.12          6             2                2   \n",
       "3  333083.16  7396501.60  737.30          8             1                1   \n",
       "4  333082.88  7396510.83  737.54          8             1                1   \n",
       "\n",
       "   ScanDirectionFlag  EdgeOfFlightLine  Classification  ScanAngleRank  ...  \\\n",
       "0                  1                 0               2          -10.0  ...   \n",
       "1                  0                 0               2           -6.0  ...   \n",
       "2                  1                 0               2           18.0  ...   \n",
       "3                  0                 0               2           -9.0  ...   \n",
       "4                  0                 0               2           -9.0  ...   \n",
       "\n",
       "     Red  Green   Blue  OriginId  HeightAboveGround   NormalX   NormalY  \\\n",
       "0   7168  10240  15616      2416                0.0  0.034301  0.024928   \n",
       "1  36864  28672  26624      2416                0.0  0.112437  0.172364   \n",
       "2  22272  24320  23808      2416                0.0 -0.079871  0.097067   \n",
       "3  49408  48128  43520      2416                0.0  0.005691 -0.100883   \n",
       "4  10240  13056  16896      2416                0.0 -0.042174 -0.047234   \n",
       "\n",
       "    NormalZ  Curvature  ClusterID  \n",
       "0  0.999101   0.007859          0  \n",
       "1  0.978595   0.015050          1  \n",
       "2  0.992068   0.011714         -1  \n",
       "3  0.994882   0.043440          0  \n",
       "4  0.997993   0.013654          0  \n",
       "\n",
       "[5 rows x 23 columns]"
      ]
     },
     "execution_count": 89,
     "metadata": {},
     "output_type": "execute_result"
    }
   ],
   "source": [
    "import pandas as pd\n",
    "arr = pipeline.arrays[0]\n",
    "df = pd.DataFrame(arr)\n",
    "# print(df.head().to_latex(index=False))\n",
    "df.head()"
   ]
  },
  {
   "cell_type": "code",
   "execution_count": 90,
   "metadata": {},
   "outputs": [],
   "source": [
    "# Reduzindo valores a mínimos para poderem ser visualizados\n",
    "df[['X', 'Y', 'Z']] = df[['X', 'Y', 'Z']] - df[['X', 'Y', 'Z']].min()"
   ]
  },
  {
   "cell_type": "code",
   "execution_count": 91,
   "metadata": {},
   "outputs": [
    {
     "data": {
      "text/plain": [
       "array([ 2, 19, 20,  5,  6], dtype=uint8)"
      ]
     },
     "execution_count": 91,
     "metadata": {},
     "output_type": "execute_result"
    }
   ],
   "source": [
    "df.Classification.unique()"
   ]
  },
  {
   "cell_type": "code",
   "execution_count": 92,
   "metadata": {},
   "outputs": [],
   "source": [
    "## Separando apenas Buildings\n",
    "bd = df[df.Classification.isin([6])].reset_index()"
   ]
  },
  {
   "cell_type": "code",
   "execution_count": 93,
   "metadata": {},
   "outputs": [
    {
     "data": {
      "text/html": [
       "<div>\n",
       "<style scoped>\n",
       "    .dataframe tbody tr th:only-of-type {\n",
       "        vertical-align: middle;\n",
       "    }\n",
       "\n",
       "    .dataframe tbody tr th {\n",
       "        vertical-align: top;\n",
       "    }\n",
       "\n",
       "    .dataframe thead th {\n",
       "        text-align: right;\n",
       "    }\n",
       "</style>\n",
       "<table border=\"1\" class=\"dataframe\">\n",
       "  <thead>\n",
       "    <tr style=\"text-align: right;\">\n",
       "      <th></th>\n",
       "      <th>index</th>\n",
       "      <th>X</th>\n",
       "      <th>Y</th>\n",
       "      <th>Z</th>\n",
       "      <th>Intensity</th>\n",
       "      <th>ReturnNumber</th>\n",
       "      <th>NumberOfReturns</th>\n",
       "      <th>ScanDirectionFlag</th>\n",
       "      <th>EdgeOfFlightLine</th>\n",
       "      <th>Classification</th>\n",
       "      <th>...</th>\n",
       "      <th>Red</th>\n",
       "      <th>Green</th>\n",
       "      <th>Blue</th>\n",
       "      <th>OriginId</th>\n",
       "      <th>HeightAboveGround</th>\n",
       "      <th>NormalX</th>\n",
       "      <th>NormalY</th>\n",
       "      <th>NormalZ</th>\n",
       "      <th>Curvature</th>\n",
       "      <th>ClusterID</th>\n",
       "    </tr>\n",
       "  </thead>\n",
       "  <tbody>\n",
       "    <tr>\n",
       "      <th>99</th>\n",
       "      <td>927</td>\n",
       "      <td>14.59</td>\n",
       "      <td>0.03</td>\n",
       "      <td>3.93</td>\n",
       "      <td>43</td>\n",
       "      <td>1</td>\n",
       "      <td>1</td>\n",
       "      <td>1</td>\n",
       "      <td>0</td>\n",
       "      <td>6</td>\n",
       "      <td>...</td>\n",
       "      <td>50432</td>\n",
       "      <td>49408</td>\n",
       "      <td>45056</td>\n",
       "      <td>2416</td>\n",
       "      <td>3.15</td>\n",
       "      <td>0.084784</td>\n",
       "      <td>0.982784</td>\n",
       "      <td>0.164155</td>\n",
       "      <td>0.015247</td>\n",
       "      <td>-1</td>\n",
       "    </tr>\n",
       "  </tbody>\n",
       "</table>\n",
       "<p>1 rows × 24 columns</p>\n",
       "</div>"
      ],
      "text/plain": [
       "    index      X     Y     Z  Intensity  ReturnNumber  NumberOfReturns  \\\n",
       "99    927  14.59  0.03  3.93         43             1                1   \n",
       "\n",
       "    ScanDirectionFlag  EdgeOfFlightLine  Classification  ...    Red  Green  \\\n",
       "99                  1                 0               6  ...  50432  49408   \n",
       "\n",
       "     Blue  OriginId  HeightAboveGround   NormalX   NormalY   NormalZ  \\\n",
       "99  45056      2416               3.15  0.084784  0.982784  0.164155   \n",
       "\n",
       "    Curvature  ClusterID  \n",
       "99   0.015247         -1  \n",
       "\n",
       "[1 rows x 24 columns]"
      ]
     },
     "execution_count": 93,
     "metadata": {},
     "output_type": "execute_result"
    }
   ],
   "source": [
    "bd[bd.ClusterID == -1]"
   ]
  },
  {
   "cell_type": "code",
   "execution_count": 157,
   "metadata": {},
   "outputs": [],
   "source": [
    "color_choices = np.random.rand(bd.ClusterID.max()+1, 3)"
   ]
  },
  {
   "cell_type": "code",
   "execution_count": 158,
   "metadata": {},
   "outputs": [],
   "source": [
    "colors = list(map(lambda x: color_choices[x], bd.ClusterID))"
   ]
  },
  {
   "cell_type": "code",
   "execution_count": 159,
   "metadata": {},
   "outputs": [
    {
     "data": {
      "application/vnd.jupyter.widget-view+json": {
       "model_id": "43167c142af24cac87c7b58070dd7998",
       "version_major": 2,
       "version_minor": 0
      },
      "text/plain": [
       "VBox(children=(Figure(camera=PerspectiveCamera(fov=46.0, position=(0.0, 0.0, 2.0), quaternion=(0.0, 0.0, 0.0, …"
      ]
     },
     "metadata": {},
     "output_type": "display_data"
    }
   ],
   "source": [
    "import ipyvolume as p3 \n",
    "\n",
    "fig = p3.figure(width=1000)\n",
    "fig.xlabel='Y'\n",
    "fig.ylabel='Z'\n",
    "fig.zlabel='X'\n",
    "all_points = p3.scatter(bd['Y'], bd['Z'], bd['X'], color=colors, size=1, marker='square_2d')\n",
    "\n",
    "p3.squarelim()\n",
    "\n",
    "p3.show()"
   ]
  },
  {
   "cell_type": "code",
   "execution_count": 11,
   "metadata": {},
   "outputs": [],
   "source": [
    "roof_quiver = p3.quiver(bd['Y'], bd['Z'], bd['X'], bd['NormalY'], bd['NormalZ'], bd['NormalX'], color='orange', size=5)\n",
    "fig.scatters.append(roof_quiver)"
   ]
  },
  {
   "cell_type": "code",
   "execution_count": 12,
   "metadata": {},
   "outputs": [
    {
     "data": {
      "text/plain": [
       "<matplotlib.axes._subplots.AxesSubplot at 0x7fcbcf525810>"
      ]
     },
     "execution_count": 12,
     "metadata": {},
     "output_type": "execute_result"
    },
    {
     "data": {
      "image/png": "[encoded data removed]",
      "text/plain": [
       "<Figure size 432x288 with 1 Axes>"
      ]
     },
     "metadata": {
      "needs_background": "light"
     },
     "output_type": "display_data"
    }
   ],
   "source": [
    "bd.Curvature.hist()"
   ]
  },
  {
   "cell_type": "code",
   "execution_count": 13,
   "metadata": {},
   "outputs": [],
   "source": [
    "from scipy.spatial import Delaunay\n",
    "tri = Delaunay(bd[['X', 'Y']].to_numpy())"
   ]
  },
  {
   "cell_type": "code",
   "execution_count": 14,
   "metadata": {},
   "outputs": [],
   "source": [
    "roof_model = p3.plot_trisurf(bd['Y'], bd['Z'], bd['X'], tri.simplices, color='red')\n",
    "fig.meshes.append(roof_model)\n",
    "roof_quiver.visible = False"
   ]
  },
  {
   "cell_type": "code",
   "execution_count": null,
   "metadata": {},
   "outputs": [],
   "source": [
    "import matplotlib.pyplot as plt\n",
    "\n",
    "plt.triplot(bd['X'], bd['Y'], tri.simplices)\n",
    "plt.plot(bd['X'], bd['Y'], 'o')\n",
    "plt.show()"
   ]
  },
  {
   "cell_type": "code",
   "execution_count": null,
   "metadata": {},
   "outputs": [],
   "source": []
  }
 ],
 "metadata": {
  "kernelspec": {
   "display_name": "Python 3",
   "language": "python",
   "name": "python3"
  },
  "language_info": {
   "codemirror_mode": {
    "name": "ipython",
    "version": 3
   },
   "file_extension": ".py",
   "mimetype": "text/x-python",
   "name": "python",
   "nbconvert_exporter": "python",
   "pygments_lexer": "ipython3",
   "version": "3.7.6"
  }
 },
 "nbformat": 4,
 "nbformat_minor": 4
}
