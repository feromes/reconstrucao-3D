{
 "cells": [
  {
   "cell_type": "code",
   "execution_count": 1,
   "metadata": {},
   "outputs": [
    {
     "name": "stdout",
     "output_type": "stream",
     "text": [
      "on_start()\n",
      "on_fitness()\n",
      "on_parents()\n",
      "on_crossover()\n",
      "on_mutation()\n",
      "on_generation()\n",
      "on_fitness()\n",
      "on_parents()\n",
      "on_crossover()\n",
      "on_mutation()\n",
      "on_generation()\n",
      "on_fitness()\n",
      "on_parents()\n",
      "on_crossover()\n",
      "on_mutation()\n",
      "on_generation()\n",
      "on_stop()\n"
     ]
    },
    {
     "name": "stderr",
     "output_type": "stream",
     "text": [
      "/home/fernando/miniconda3/envs/pdal/lib/python3.8/site-packages/pygad/pygad.py:357: UserWarning: The percentage of genes to mutate (mutation_percent_genes=10) resutled in selecting (0) genes. The number of genes to mutate is set to 1 (mutation_num_genes=1).\n",
      "If you do not want to mutate any gene, please set mutation_type=None.\n",
      "  if not self.suppress_warnings: warnings.warn(\"The percentage of genes to mutate (mutation_percent_genes={mutation_percent}) resutled in selecting ({mutation_num}) genes. The number of genes to mutate is set to 1 (mutation_num_genes=1).\\nIf you do not want to mutate any gene, please set mutation_type=None.\".format(mutation_percent=mutation_percent_genes, mutation_num=mutation_num_genes))\n"
     ]
    }
   ],
   "source": [
    "import pygad\n",
    "import numpy\n",
    "\n",
    "function_inputs = [4,-2,3.5,5,-11,-4.7]\n",
    "desired_output = 44\n",
    "\n",
    "def fitness_func(solution, solution_idx):\n",
    "    output = numpy.sum(solution*function_inputs)\n",
    "    fitness = 1.0 / (numpy.abs(output - desired_output) + 0.000001)\n",
    "    return fitness\n",
    "\n",
    "fitness_function = fitness_func\n",
    "\n",
    "def on_start(ga_instance):\n",
    "    print(\"on_start()\")\n",
    "\n",
    "def on_fitness(ga_instance, population_fitness):\n",
    "    print(\"on_fitness()\")\n",
    "\n",
    "def on_parents(ga_instance, selected_parents):\n",
    "    print(\"on_parents()\")\n",
    "\n",
    "def on_crossover(ga_instance, offspring_crossover):\n",
    "    print(\"on_crossover()\")\n",
    "\n",
    "def on_mutation(ga_instance, offspring_mutation):\n",
    "    print(\"on_mutation()\")\n",
    "\n",
    "def on_generation(ga_instance):\n",
    "    print(\"on_generation()\")\n",
    "\n",
    "def on_stop(ga_instance, last_population_fitness):\n",
    "    print(\"on_stop()\")\n",
    "\n",
    "ga_instance = pygad.GA(num_generations=3,\n",
    "                       num_parents_mating=5,\n",
    "                       fitness_func=fitness_function,\n",
    "                       sol_per_pop=10,\n",
    "                       num_genes=len(function_inputs),\n",
    "                       on_start=on_start,\n",
    "                       on_fitness=on_fitness,\n",
    "                       on_parents=on_parents,\n",
    "                       on_crossover=on_crossover,\n",
    "                       on_mutation=on_mutation,\n",
    "                       on_generation=on_generation,\n",
    "                       on_stop=on_stop)\n",
    "\n",
    "ga_instance.run()"
   ]
  },
  {
   "cell_type": "code",
   "execution_count": null,
   "metadata": {},
   "outputs": [],
   "source": []
  }
 ],
 "metadata": {
  "kernelspec": {
   "display_name": "Python 3",
   "language": "python",
   "name": "python3"
  },
  "language_info": {
   "codemirror_mode": {
    "name": "ipython",
    "version": 3
   },
   "file_extension": ".py",
   "mimetype": "text/x-python",
   "name": "python",
   "nbconvert_exporter": "python",
   "pygments_lexer": "ipython3",
   "version": "3.8.6"
  }
 },
 "nbformat": 4,
 "nbformat_minor": 4
}
