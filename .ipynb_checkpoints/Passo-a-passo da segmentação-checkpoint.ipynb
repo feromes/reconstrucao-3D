{
 "cells": [
  {
   "cell_type": "markdown",
   "metadata": {},
   "source": [
    "## Separando do todo\n",
    "\n",
    "* Sperar o lote\n",
    "* Gerar altura em relação ao solo\n",
    "* Agrupar por Clusters (DBSCAN)\n",
    "* Calcular Normal"
   ]
  },
  {
   "cell_type": "code",
   "execution_count": 1,
   "metadata": {},
   "outputs": [],
   "source": [
    "import pdal\n",
    "import json\n",
    "import numpy as np"
   ]
  },
  {
   "cell_type": "code",
   "execution_count": 2,
   "metadata": {},
   "outputs": [],
   "source": [
    "bounds = ([333060, 333090], [7396500, 7396530])\n",
    "# Polygon ((332426.68348924710880965 7390661.41352917719632387, 332431.68747117172461003 7390648.28714181017130613, 332468.38333861867431551 7390662.7914372431114316, 332463.59692112560151145 7390675.91782461106777191, 332426.68348924710880965 7390661.41352917719632387))"
   ]
  },
  {
   "cell_type": "code",
   "execution_count": 3,
   "metadata": {},
   "outputs": [
    {
     "name": "stdout",
     "output_type": "stream",
     "text": [
      "CPU times: user 2.26 s, sys: 92 ms, total: 2.35 s\n",
      "Wall time: 3.06 s\n",
      "Pipeline selected 13496 points\n"
     ]
    }
   ],
   "source": [
    "ept = [\n",
    "    {\n",
    "      \"type\": \"readers.ept\",\n",
    "      \"filename\": \"https://ept-m3dc-pmsp.s3-sa-east-1.amazonaws.com/ept.json\",\n",
    "      \"bounds\": str(bounds)\n",
    "    },\n",
    "    {   \n",
    "        \"type\":\"filters.hag_delaunay\"\n",
    "#     },\n",
    "#     {   \"type\":\"filters.eigenvalues\",\n",
    "#         \"knn\":16\n",
    "    },\n",
    "    {   \"type\":\"filters.normal\",\n",
    "        \"knn\":30\n",
    "    },\n",
    "    {\n",
    "        \"type\":\"filters.dbscan\",\n",
    "        \"min_points\":10,\n",
    "        \"eps\":2.0,\n",
    "        \"dimensions\":\"X,Y,Z\"\n",
    "    },\n",
    "#     {\n",
    "#         \"type\":\"filters.cluster\"\n",
    "#     },\n",
    "    {\n",
    "        \"type\":\"writers.las\",\n",
    "        \"compression\":\"laszip\",\n",
    "        \"filename\":\"results/coreto-luz.laz\"\n",
    "    }\n",
    "]\n",
    "\n",
    "pipeline = pdal.Pipeline(json.dumps(ept))\n",
    "pipeline.validate()\n",
    "%time n_points = pipeline.execute()\n",
    "print(f'Pipeline selected {n_points} points')"
   ]
  },
  {
   "cell_type": "code",
   "execution_count": 4,
   "metadata": {},
   "outputs": [
    {
     "data": {
      "text/plain": [
       "{'schema': {'dimensions': [{'name': 'X', 'size': 8, 'type': 'floating'},\n",
       "   {'name': 'Y', 'size': 8, 'type': 'floating'},\n",
       "   {'name': 'Z', 'size': 8, 'type': 'floating'},\n",
       "   {'name': 'Intensity', 'size': 2, 'type': 'unsigned'},\n",
       "   {'name': 'ReturnNumber', 'size': 1, 'type': 'unsigned'},\n",
       "   {'name': 'NumberOfReturns', 'size': 1, 'type': 'unsigned'},\n",
       "   {'name': 'ScanDirectionFlag', 'size': 1, 'type': 'unsigned'},\n",
       "   {'name': 'EdgeOfFlightLine', 'size': 1, 'type': 'unsigned'},\n",
       "   {'name': 'Classification', 'size': 1, 'type': 'unsigned'},\n",
       "   {'name': 'ScanAngleRank', 'size': 4, 'type': 'floating'},\n",
       "   {'name': 'UserData', 'size': 1, 'type': 'unsigned'},\n",
       "   {'name': 'PointSourceId', 'size': 2, 'type': 'unsigned'},\n",
       "   {'name': 'GpsTime', 'size': 8, 'type': 'floating'},\n",
       "   {'name': 'Red', 'size': 2, 'type': 'unsigned'},\n",
       "   {'name': 'Green', 'size': 2, 'type': 'unsigned'},\n",
       "   {'name': 'Blue', 'size': 2, 'type': 'unsigned'},\n",
       "   {'name': 'OriginId', 'size': 4, 'type': 'unsigned'},\n",
       "   {'name': 'HeightAboveGround', 'size': 8, 'type': 'floating'},\n",
       "   {'name': 'NormalX', 'size': 8, 'type': 'floating'},\n",
       "   {'name': 'NormalY', 'size': 8, 'type': 'floating'},\n",
       "   {'name': 'NormalZ', 'size': 8, 'type': 'floating'},\n",
       "   {'name': 'Curvature', 'size': 8, 'type': 'floating'},\n",
       "   {'name': 'ClusterID', 'size': 8, 'type': 'signed'}]}}"
      ]
     },
     "execution_count": 4,
     "metadata": {},
     "output_type": "execute_result"
    }
   ],
   "source": [
    "pipeline.schema"
   ]
  },
  {
   "cell_type": "code",
   "execution_count": 5,
   "metadata": {},
   "outputs": [
    {
     "data": {
      "text/html": [
       "<div>\n",
       "<style scoped>\n",
       "    .dataframe tbody tr th:only-of-type {\n",
       "        vertical-align: middle;\n",
       "    }\n",
       "\n",
       "    .dataframe tbody tr th {\n",
       "        vertical-align: top;\n",
       "    }\n",
       "\n",
       "    .dataframe thead th {\n",
       "        text-align: right;\n",
       "    }\n",
       "</style>\n",
       "<table border=\"1\" class=\"dataframe\">\n",
       "  <thead>\n",
       "    <tr style=\"text-align: right;\">\n",
       "      <th></th>\n",
       "      <th>X</th>\n",
       "      <th>Y</th>\n",
       "      <th>Z</th>\n",
       "      <th>Intensity</th>\n",
       "      <th>ReturnNumber</th>\n",
       "      <th>NumberOfReturns</th>\n",
       "      <th>ScanDirectionFlag</th>\n",
       "      <th>EdgeOfFlightLine</th>\n",
       "      <th>Classification</th>\n",
       "      <th>ScanAngleRank</th>\n",
       "      <th>...</th>\n",
       "      <th>Red</th>\n",
       "      <th>Green</th>\n",
       "      <th>Blue</th>\n",
       "      <th>OriginId</th>\n",
       "      <th>HeightAboveGround</th>\n",
       "      <th>NormalX</th>\n",
       "      <th>NormalY</th>\n",
       "      <th>NormalZ</th>\n",
       "      <th>Curvature</th>\n",
       "      <th>ClusterID</th>\n",
       "    </tr>\n",
       "  </thead>\n",
       "  <tbody>\n",
       "    <tr>\n",
       "      <th>0</th>\n",
       "      <td>333069.84</td>\n",
       "      <td>7396523.41</td>\n",
       "      <td>737.12</td>\n",
       "      <td>6</td>\n",
       "      <td>2</td>\n",
       "      <td>2</td>\n",
       "      <td>1</td>\n",
       "      <td>0</td>\n",
       "      <td>2</td>\n",
       "      <td>18.0</td>\n",
       "      <td>...</td>\n",
       "      <td>22272</td>\n",
       "      <td>24320</td>\n",
       "      <td>23808</td>\n",
       "      <td>2416</td>\n",
       "      <td>0.000000</td>\n",
       "      <td>-0.084285</td>\n",
       "      <td>0.064717</td>\n",
       "      <td>0.994338</td>\n",
       "      <td>0.011417</td>\n",
       "      <td>-1</td>\n",
       "    </tr>\n",
       "    <tr>\n",
       "      <th>1</th>\n",
       "      <td>333068.42</td>\n",
       "      <td>7396522.83</td>\n",
       "      <td>756.77</td>\n",
       "      <td>22</td>\n",
       "      <td>1</td>\n",
       "      <td>1</td>\n",
       "      <td>0</td>\n",
       "      <td>0</td>\n",
       "      <td>5</td>\n",
       "      <td>-11.0</td>\n",
       "      <td>...</td>\n",
       "      <td>19456</td>\n",
       "      <td>22272</td>\n",
       "      <td>19968</td>\n",
       "      <td>2416</td>\n",
       "      <td>19.673504</td>\n",
       "      <td>0.514407</td>\n",
       "      <td>0.061121</td>\n",
       "      <td>0.855365</td>\n",
       "      <td>0.030826</td>\n",
       "      <td>0</td>\n",
       "    </tr>\n",
       "    <tr>\n",
       "      <th>2</th>\n",
       "      <td>333060.54</td>\n",
       "      <td>7396515.26</td>\n",
       "      <td>737.35</td>\n",
       "      <td>14</td>\n",
       "      <td>1</td>\n",
       "      <td>1</td>\n",
       "      <td>1</td>\n",
       "      <td>0</td>\n",
       "      <td>2</td>\n",
       "      <td>-10.0</td>\n",
       "      <td>...</td>\n",
       "      <td>7168</td>\n",
       "      <td>10240</td>\n",
       "      <td>15616</td>\n",
       "      <td>2416</td>\n",
       "      <td>0.000000</td>\n",
       "      <td>-0.003472</td>\n",
       "      <td>-0.007064</td>\n",
       "      <td>0.999969</td>\n",
       "      <td>0.005430</td>\n",
       "      <td>1</td>\n",
       "    </tr>\n",
       "    <tr>\n",
       "      <th>3</th>\n",
       "      <td>333080.45</td>\n",
       "      <td>7396516.96</td>\n",
       "      <td>737.70</td>\n",
       "      <td>9</td>\n",
       "      <td>2</td>\n",
       "      <td>2</td>\n",
       "      <td>0</td>\n",
       "      <td>0</td>\n",
       "      <td>2</td>\n",
       "      <td>-6.0</td>\n",
       "      <td>...</td>\n",
       "      <td>36864</td>\n",
       "      <td>28672</td>\n",
       "      <td>26624</td>\n",
       "      <td>2416</td>\n",
       "      <td>0.000000</td>\n",
       "      <td>0.114660</td>\n",
       "      <td>0.082844</td>\n",
       "      <td>0.989944</td>\n",
       "      <td>0.011798</td>\n",
       "      <td>2</td>\n",
       "    </tr>\n",
       "    <tr>\n",
       "      <th>4</th>\n",
       "      <td>333080.83</td>\n",
       "      <td>7396514.57</td>\n",
       "      <td>749.52</td>\n",
       "      <td>11</td>\n",
       "      <td>1</td>\n",
       "      <td>1</td>\n",
       "      <td>0</td>\n",
       "      <td>0</td>\n",
       "      <td>5</td>\n",
       "      <td>-10.0</td>\n",
       "      <td>...</td>\n",
       "      <td>45824</td>\n",
       "      <td>35584</td>\n",
       "      <td>31744</td>\n",
       "      <td>2416</td>\n",
       "      <td>12.130000</td>\n",
       "      <td>-0.906293</td>\n",
       "      <td>-0.049680</td>\n",
       "      <td>0.419720</td>\n",
       "      <td>0.091398</td>\n",
       "      <td>3</td>\n",
       "    </tr>\n",
       "  </tbody>\n",
       "</table>\n",
       "<p>5 rows × 23 columns</p>\n",
       "</div>"
      ],
      "text/plain": [
       "           X           Y       Z  Intensity  ReturnNumber  NumberOfReturns  \\\n",
       "0  333069.84  7396523.41  737.12          6             2                2   \n",
       "1  333068.42  7396522.83  756.77         22             1                1   \n",
       "2  333060.54  7396515.26  737.35         14             1                1   \n",
       "3  333080.45  7396516.96  737.70          9             2                2   \n",
       "4  333080.83  7396514.57  749.52         11             1                1   \n",
       "\n",
       "   ScanDirectionFlag  EdgeOfFlightLine  Classification  ScanAngleRank  ...  \\\n",
       "0                  1                 0               2           18.0  ...   \n",
       "1                  0                 0               5          -11.0  ...   \n",
       "2                  1                 0               2          -10.0  ...   \n",
       "3                  0                 0               2           -6.0  ...   \n",
       "4                  0                 0               5          -10.0  ...   \n",
       "\n",
       "     Red  Green   Blue  OriginId  HeightAboveGround   NormalX   NormalY  \\\n",
       "0  22272  24320  23808      2416           0.000000 -0.084285  0.064717   \n",
       "1  19456  22272  19968      2416          19.673504  0.514407  0.061121   \n",
       "2   7168  10240  15616      2416           0.000000 -0.003472 -0.007064   \n",
       "3  36864  28672  26624      2416           0.000000  0.114660  0.082844   \n",
       "4  45824  35584  31744      2416          12.130000 -0.906293 -0.049680   \n",
       "\n",
       "    NormalZ  Curvature  ClusterID  \n",
       "0  0.994338   0.011417         -1  \n",
       "1  0.855365   0.030826          0  \n",
       "2  0.999969   0.005430          1  \n",
       "3  0.989944   0.011798          2  \n",
       "4  0.419720   0.091398          3  \n",
       "\n",
       "[5 rows x 23 columns]"
      ]
     },
     "execution_count": 5,
     "metadata": {},
     "output_type": "execute_result"
    }
   ],
   "source": [
    "import pandas as pd\n",
    "arr = pipeline.arrays[0]\n",
    "df = pd.DataFrame(arr)\n",
    "# print(df.head().to_latex(index=False))\n",
    "df.head()"
   ]
  },
  {
   "cell_type": "code",
   "execution_count": 6,
   "metadata": {},
   "outputs": [],
   "source": [
    "# Reduzindo valores a mínimos para poderem ser visualizados\n",
    "df[['X', 'Y', 'Z']] = df[['X', 'Y', 'Z']] - df[['X', 'Y', 'Z']].min()"
   ]
  },
  {
   "cell_type": "code",
   "execution_count": 7,
   "metadata": {},
   "outputs": [
    {
     "data": {
      "text/plain": [
       "array([ 2,  5, 19, 20,  6], dtype=uint8)"
      ]
     },
     "execution_count": 7,
     "metadata": {},
     "output_type": "execute_result"
    }
   ],
   "source": [
    "df.Classification.unique()"
   ]
  },
  {
   "cell_type": "code",
   "execution_count": 8,
   "metadata": {},
   "outputs": [],
   "source": [
    "## Separando apenas Buildings\n",
    "bd = df[df.Classification.isin([6])].reset_index()"
   ]
  },
  {
   "cell_type": "code",
   "execution_count": 9,
   "metadata": {},
   "outputs": [
    {
     "data": {
      "text/html": [
       "<div>\n",
       "<style scoped>\n",
       "    .dataframe tbody tr th:only-of-type {\n",
       "        vertical-align: middle;\n",
       "    }\n",
       "\n",
       "    .dataframe tbody tr th {\n",
       "        vertical-align: top;\n",
       "    }\n",
       "\n",
       "    .dataframe thead th {\n",
       "        text-align: right;\n",
       "    }\n",
       "</style>\n",
       "<table border=\"1\" class=\"dataframe\">\n",
       "  <thead>\n",
       "    <tr style=\"text-align: right;\">\n",
       "      <th></th>\n",
       "      <th>index</th>\n",
       "      <th>X</th>\n",
       "      <th>Y</th>\n",
       "      <th>Z</th>\n",
       "      <th>Intensity</th>\n",
       "      <th>ReturnNumber</th>\n",
       "      <th>NumberOfReturns</th>\n",
       "      <th>ScanDirectionFlag</th>\n",
       "      <th>EdgeOfFlightLine</th>\n",
       "      <th>Classification</th>\n",
       "      <th>...</th>\n",
       "      <th>Red</th>\n",
       "      <th>Green</th>\n",
       "      <th>Blue</th>\n",
       "      <th>OriginId</th>\n",
       "      <th>HeightAboveGround</th>\n",
       "      <th>NormalX</th>\n",
       "      <th>NormalY</th>\n",
       "      <th>NormalZ</th>\n",
       "      <th>Curvature</th>\n",
       "      <th>ClusterID</th>\n",
       "    </tr>\n",
       "  </thead>\n",
       "  <tbody>\n",
       "    <tr>\n",
       "      <th>0</th>\n",
       "      <td>77</td>\n",
       "      <td>20.20</td>\n",
       "      <td>17.27</td>\n",
       "      <td>6.96</td>\n",
       "      <td>15</td>\n",
       "      <td>1</td>\n",
       "      <td>1</td>\n",
       "      <td>0</td>\n",
       "      <td>0</td>\n",
       "      <td>6</td>\n",
       "      <td>...</td>\n",
       "      <td>29696</td>\n",
       "      <td>24064</td>\n",
       "      <td>21504</td>\n",
       "      <td>2416</td>\n",
       "      <td>5.998857</td>\n",
       "      <td>0.243799</td>\n",
       "      <td>0.128255</td>\n",
       "      <td>0.961308</td>\n",
       "      <td>0.007795</td>\n",
       "      <td>5</td>\n",
       "    </tr>\n",
       "    <tr>\n",
       "      <th>1</th>\n",
       "      <td>80</td>\n",
       "      <td>16.56</td>\n",
       "      <td>8.33</td>\n",
       "      <td>7.56</td>\n",
       "      <td>24</td>\n",
       "      <td>1</td>\n",
       "      <td>1</td>\n",
       "      <td>1</td>\n",
       "      <td>0</td>\n",
       "      <td>6</td>\n",
       "      <td>...</td>\n",
       "      <td>43264</td>\n",
       "      <td>28416</td>\n",
       "      <td>25088</td>\n",
       "      <td>2416</td>\n",
       "      <td>6.650000</td>\n",
       "      <td>0.120495</td>\n",
       "      <td>-0.249908</td>\n",
       "      <td>0.960743</td>\n",
       "      <td>0.009208</td>\n",
       "      <td>5</td>\n",
       "    </tr>\n",
       "    <tr>\n",
       "      <th>2</th>\n",
       "      <td>81</td>\n",
       "      <td>16.54</td>\n",
       "      <td>17.53</td>\n",
       "      <td>7.78</td>\n",
       "      <td>17</td>\n",
       "      <td>1</td>\n",
       "      <td>1</td>\n",
       "      <td>0</td>\n",
       "      <td>0</td>\n",
       "      <td>6</td>\n",
       "      <td>...</td>\n",
       "      <td>43776</td>\n",
       "      <td>28672</td>\n",
       "      <td>25088</td>\n",
       "      <td>2416</td>\n",
       "      <td>6.730000</td>\n",
       "      <td>0.288936</td>\n",
       "      <td>0.119784</td>\n",
       "      <td>0.949825</td>\n",
       "      <td>0.014152</td>\n",
       "      <td>5</td>\n",
       "    </tr>\n",
       "    <tr>\n",
       "      <th>3</th>\n",
       "      <td>82</td>\n",
       "      <td>16.49</td>\n",
       "      <td>20.37</td>\n",
       "      <td>7.70</td>\n",
       "      <td>28</td>\n",
       "      <td>1</td>\n",
       "      <td>1</td>\n",
       "      <td>1</td>\n",
       "      <td>0</td>\n",
       "      <td>6</td>\n",
       "      <td>...</td>\n",
       "      <td>43776</td>\n",
       "      <td>30208</td>\n",
       "      <td>26624</td>\n",
       "      <td>2416</td>\n",
       "      <td>6.763024</td>\n",
       "      <td>0.363560</td>\n",
       "      <td>0.036649</td>\n",
       "      <td>0.930850</td>\n",
       "      <td>0.009360</td>\n",
       "      <td>5</td>\n",
       "    </tr>\n",
       "    <tr>\n",
       "      <th>4</th>\n",
       "      <td>83</td>\n",
       "      <td>14.68</td>\n",
       "      <td>17.22</td>\n",
       "      <td>8.75</td>\n",
       "      <td>28</td>\n",
       "      <td>1</td>\n",
       "      <td>1</td>\n",
       "      <td>0</td>\n",
       "      <td>0</td>\n",
       "      <td>6</td>\n",
       "      <td>...</td>\n",
       "      <td>55808</td>\n",
       "      <td>43520</td>\n",
       "      <td>36864</td>\n",
       "      <td>2416</td>\n",
       "      <td>7.690000</td>\n",
       "      <td>0.022519</td>\n",
       "      <td>0.190995</td>\n",
       "      <td>0.981333</td>\n",
       "      <td>0.027178</td>\n",
       "      <td>5</td>\n",
       "    </tr>\n",
       "    <tr>\n",
       "      <th>...</th>\n",
       "      <td>...</td>\n",
       "      <td>...</td>\n",
       "      <td>...</td>\n",
       "      <td>...</td>\n",
       "      <td>...</td>\n",
       "      <td>...</td>\n",
       "      <td>...</td>\n",
       "      <td>...</td>\n",
       "      <td>...</td>\n",
       "      <td>...</td>\n",
       "      <td>...</td>\n",
       "      <td>...</td>\n",
       "      <td>...</td>\n",
       "      <td>...</td>\n",
       "      <td>...</td>\n",
       "      <td>...</td>\n",
       "      <td>...</td>\n",
       "      <td>...</td>\n",
       "      <td>...</td>\n",
       "      <td>...</td>\n",
       "      <td>...</td>\n",
       "    </tr>\n",
       "    <tr>\n",
       "      <th>2143</th>\n",
       "      <td>11288</td>\n",
       "      <td>20.53</td>\n",
       "      <td>15.25</td>\n",
       "      <td>7.15</td>\n",
       "      <td>14</td>\n",
       "      <td>2</td>\n",
       "      <td>2</td>\n",
       "      <td>1</td>\n",
       "      <td>0</td>\n",
       "      <td>6</td>\n",
       "      <td>...</td>\n",
       "      <td>42752</td>\n",
       "      <td>33792</td>\n",
       "      <td>28416</td>\n",
       "      <td>2416</td>\n",
       "      <td>6.470000</td>\n",
       "      <td>0.226878</td>\n",
       "      <td>0.146035</td>\n",
       "      <td>0.962912</td>\n",
       "      <td>0.011123</td>\n",
       "      <td>5</td>\n",
       "    </tr>\n",
       "    <tr>\n",
       "      <th>2144</th>\n",
       "      <td>11289</td>\n",
       "      <td>20.39</td>\n",
       "      <td>15.70</td>\n",
       "      <td>7.22</td>\n",
       "      <td>24</td>\n",
       "      <td>2</td>\n",
       "      <td>2</td>\n",
       "      <td>1</td>\n",
       "      <td>0</td>\n",
       "      <td>6</td>\n",
       "      <td>...</td>\n",
       "      <td>47360</td>\n",
       "      <td>34816</td>\n",
       "      <td>29440</td>\n",
       "      <td>2416</td>\n",
       "      <td>6.230000</td>\n",
       "      <td>0.178252</td>\n",
       "      <td>0.163425</td>\n",
       "      <td>0.970319</td>\n",
       "      <td>0.008842</td>\n",
       "      <td>5</td>\n",
       "    </tr>\n",
       "    <tr>\n",
       "      <th>2145</th>\n",
       "      <td>11290</td>\n",
       "      <td>20.25</td>\n",
       "      <td>16.12</td>\n",
       "      <td>6.98</td>\n",
       "      <td>25</td>\n",
       "      <td>2</td>\n",
       "      <td>2</td>\n",
       "      <td>1</td>\n",
       "      <td>0</td>\n",
       "      <td>6</td>\n",
       "      <td>...</td>\n",
       "      <td>46080</td>\n",
       "      <td>32768</td>\n",
       "      <td>27904</td>\n",
       "      <td>2416</td>\n",
       "      <td>5.990000</td>\n",
       "      <td>0.222561</td>\n",
       "      <td>0.140110</td>\n",
       "      <td>0.964798</td>\n",
       "      <td>0.008318</td>\n",
       "      <td>5</td>\n",
       "    </tr>\n",
       "    <tr>\n",
       "      <th>2146</th>\n",
       "      <td>11291</td>\n",
       "      <td>19.97</td>\n",
       "      <td>17.00</td>\n",
       "      <td>6.86</td>\n",
       "      <td>28</td>\n",
       "      <td>1</td>\n",
       "      <td>1</td>\n",
       "      <td>1</td>\n",
       "      <td>0</td>\n",
       "      <td>6</td>\n",
       "      <td>...</td>\n",
       "      <td>46336</td>\n",
       "      <td>33024</td>\n",
       "      <td>29440</td>\n",
       "      <td>2416</td>\n",
       "      <td>5.870000</td>\n",
       "      <td>0.225926</td>\n",
       "      <td>0.156127</td>\n",
       "      <td>0.961552</td>\n",
       "      <td>0.006769</td>\n",
       "      <td>5</td>\n",
       "    </tr>\n",
       "    <tr>\n",
       "      <th>2147</th>\n",
       "      <td>11292</td>\n",
       "      <td>19.83</td>\n",
       "      <td>17.46</td>\n",
       "      <td>7.00</td>\n",
       "      <td>13</td>\n",
       "      <td>1</td>\n",
       "      <td>2</td>\n",
       "      <td>1</td>\n",
       "      <td>0</td>\n",
       "      <td>6</td>\n",
       "      <td>...</td>\n",
       "      <td>39680</td>\n",
       "      <td>28416</td>\n",
       "      <td>27392</td>\n",
       "      <td>2416</td>\n",
       "      <td>6.046125</td>\n",
       "      <td>0.256675</td>\n",
       "      <td>0.147755</td>\n",
       "      <td>0.955137</td>\n",
       "      <td>0.009841</td>\n",
       "      <td>5</td>\n",
       "    </tr>\n",
       "  </tbody>\n",
       "</table>\n",
       "<p>2148 rows × 24 columns</p>\n",
       "</div>"
      ],
      "text/plain": [
       "      index      X      Y     Z  Intensity  ReturnNumber  NumberOfReturns  \\\n",
       "0        77  20.20  17.27  6.96         15             1                1   \n",
       "1        80  16.56   8.33  7.56         24             1                1   \n",
       "2        81  16.54  17.53  7.78         17             1                1   \n",
       "3        82  16.49  20.37  7.70         28             1                1   \n",
       "4        83  14.68  17.22  8.75         28             1                1   \n",
       "...     ...    ...    ...   ...        ...           ...              ...   \n",
       "2143  11288  20.53  15.25  7.15         14             2                2   \n",
       "2144  11289  20.39  15.70  7.22         24             2                2   \n",
       "2145  11290  20.25  16.12  6.98         25             2                2   \n",
       "2146  11291  19.97  17.00  6.86         28             1                1   \n",
       "2147  11292  19.83  17.46  7.00         13             1                2   \n",
       "\n",
       "      ScanDirectionFlag  EdgeOfFlightLine  Classification  ...    Red  Green  \\\n",
       "0                     0                 0               6  ...  29696  24064   \n",
       "1                     1                 0               6  ...  43264  28416   \n",
       "2                     0                 0               6  ...  43776  28672   \n",
       "3                     1                 0               6  ...  43776  30208   \n",
       "4                     0                 0               6  ...  55808  43520   \n",
       "...                 ...               ...             ...  ...    ...    ...   \n",
       "2143                  1                 0               6  ...  42752  33792   \n",
       "2144                  1                 0               6  ...  47360  34816   \n",
       "2145                  1                 0               6  ...  46080  32768   \n",
       "2146                  1                 0               6  ...  46336  33024   \n",
       "2147                  1                 0               6  ...  39680  28416   \n",
       "\n",
       "       Blue  OriginId  HeightAboveGround   NormalX   NormalY   NormalZ  \\\n",
       "0     21504      2416           5.998857  0.243799  0.128255  0.961308   \n",
       "1     25088      2416           6.650000  0.120495 -0.249908  0.960743   \n",
       "2     25088      2416           6.730000  0.288936  0.119784  0.949825   \n",
       "3     26624      2416           6.763024  0.363560  0.036649  0.930850   \n",
       "4     36864      2416           7.690000  0.022519  0.190995  0.981333   \n",
       "...     ...       ...                ...       ...       ...       ...   \n",
       "2143  28416      2416           6.470000  0.226878  0.146035  0.962912   \n",
       "2144  29440      2416           6.230000  0.178252  0.163425  0.970319   \n",
       "2145  27904      2416           5.990000  0.222561  0.140110  0.964798   \n",
       "2146  29440      2416           5.870000  0.225926  0.156127  0.961552   \n",
       "2147  27392      2416           6.046125  0.256675  0.147755  0.955137   \n",
       "\n",
       "      Curvature  ClusterID  \n",
       "0      0.007795          5  \n",
       "1      0.009208          5  \n",
       "2      0.014152          5  \n",
       "3      0.009360          5  \n",
       "4      0.027178          5  \n",
       "...         ...        ...  \n",
       "2143   0.011123          5  \n",
       "2144   0.008842          5  \n",
       "2145   0.008318          5  \n",
       "2146   0.006769          5  \n",
       "2147   0.009841          5  \n",
       "\n",
       "[2148 rows x 24 columns]"
      ]
     },
     "execution_count": 9,
     "metadata": {},
     "output_type": "execute_result"
    }
   ],
   "source": [
    "bd"
   ]
  },
  {
   "cell_type": "code",
   "execution_count": 10,
   "metadata": {},
   "outputs": [
    {
     "data": {
      "text/plain": [
       "array([ 5,  8, -1])"
      ]
     },
     "execution_count": 10,
     "metadata": {},
     "output_type": "execute_result"
    }
   ],
   "source": [
    "bd.ClusterID.unique()"
   ]
  },
  {
   "cell_type": "code",
   "execution_count": 11,
   "metadata": {},
   "outputs": [],
   "source": [
    "color_choices = np.random.rand(bd.ClusterID.max()+1, 3)"
   ]
  },
  {
   "cell_type": "code",
   "execution_count": 12,
   "metadata": {},
   "outputs": [],
   "source": [
    "colors = list(map(lambda x: color_choices[x], bd.ClusterID))"
   ]
  },
  {
   "cell_type": "code",
   "execution_count": 14,
   "metadata": {},
   "outputs": [
    {
     "data": {
      "application/vnd.jupyter.widget-view+json": {
       "model_id": "608ed0e49f3d4a948e1d41f50c87d1eb",
       "version_major": 2,
       "version_minor": 0
      },
      "text/plain": [
       "VBox(children=(Figure(camera=PerspectiveCamera(fov=46.0, position=(0.0, 0.0, 2.0), quaternion=(0.0, 0.0, 0.0, …"
      ]
     },
     "metadata": {},
     "output_type": "display_data"
    }
   ],
   "source": [
    "import ipyvolume as p3 \n",
    "\n",
    "fig = p3.figure(width=1000)\n",
    "fig.xlabel='Y'\n",
    "fig.ylabel='Z'\n",
    "fig.zlabel='X'\n",
    "all_points = p3.scatter(bd['Y'], bd['Z'], bd['X'], color=colors, size=1)\n",
    "# all_points = p3.scatter(bd['Y'], bd['Z'], bd['X'], color=list(map(lambda x: [x,x,x], bd.Curvature)), size=1, marker='square_2d')\n",
    "\n",
    "p3.squarelim()\n",
    "\n",
    "p3.show()"
   ]
  },
  {
   "cell_type": "markdown",
   "metadata": {},
   "source": [
    "## Gerando o polígono de cada Cluster\n",
    "\n",
    "Utilizando o Alpha Shape https://gist.github.com/dwyerk/10561690"
   ]
  },
  {
   "cell_type": "code",
   "execution_count": 15,
   "metadata": {},
   "outputs": [],
   "source": [
    "import shapely.geometry as geometry\n",
    "from scipy.spatial import Delaunay"
   ]
  },
  {
   "cell_type": "code",
   "execution_count": 16,
   "metadata": {},
   "outputs": [],
   "source": [
    "from shapely.ops import cascaded_union, polygonize\n",
    "from scipy.spatial import Delaunay\n",
    "import numpy as np\n",
    "import math\n",
    "\n",
    "def alpha_shape(points, alpha):\n",
    "    \"\"\"\n",
    "    Compute the alpha shape (concave hull) of a set\n",
    "    of points.\n",
    "    @param points: Iterable container of points.\n",
    "    @param alpha: alpha value to influence the\n",
    "        gooeyness of the border. Smaller numbers\n",
    "        don't fall inward as much as larger numbers.\n",
    "        Too large, and you lose everything!\n",
    "    \"\"\"\n",
    "    if len(points) < 4:\n",
    "        # When you have a triangle, there is no sense\n",
    "        # in computing an alpha shape.\n",
    "        return geometry.MultiPoint(list(points)).convex_hull\n",
    "\n",
    "    coords = np.array([point.coords[0] for point in points])\n",
    "    tri = Delaunay(coords)\n",
    "    triangles = coords[tri.vertices]\n",
    "    a = ((triangles[:,0,0] - triangles[:,1,0]) ** 2 + (triangles[:,0,1] - triangles[:,1,1]) ** 2) ** 0.5\n",
    "    b = ((triangles[:,1,0] - triangles[:,2,0]) ** 2 + (triangles[:,1,1] - triangles[:,2,1]) ** 2) ** 0.5\n",
    "    c = ((triangles[:,2,0] - triangles[:,0,0]) ** 2 + (triangles[:,2,1] - triangles[:,0,1]) ** 2) ** 0.5\n",
    "    s = ( a + b + c ) / 2.0\n",
    "    areas = (s*(s-a)*(s-b)*(s-c)) ** 0.5\n",
    "    circums = a * b * c / (4.0 * areas)\n",
    "    filtered = triangles[circums < (1.0 / alpha)]\n",
    "    edge1 = filtered[:,(0,1)]\n",
    "    edge2 = filtered[:,(1,2)]\n",
    "    edge3 = filtered[:,(2,0)]\n",
    "    edge_points = np.unique(np.concatenate((edge1,edge2,edge3)), axis = 0).tolist()\n",
    "    m = geometry.MultiLineString(edge_points)\n",
    "    triangles = list(polygonize(m))\n",
    "    return cascaded_union(triangles), edge_points"
   ]
  },
  {
   "cell_type": "code",
   "execution_count": 17,
   "metadata": {},
   "outputs": [],
   "source": [
    "points = bd[bd.ClusterID == bd.ClusterID.unique()[0]][['X', 'Y']].to_numpy()"
   ]
  },
  {
   "cell_type": "code",
   "execution_count": 18,
   "metadata": {},
   "outputs": [],
   "source": [
    "poligono = alpha_shape(geometry.MultiPoint(points), 0.5)"
   ]
  },
  {
   "cell_type": "code",
   "execution_count": 19,
   "metadata": {},
   "outputs": [
    {
     "data": {
      "image/svg+xml": [
       "<svg xmlns=\"http://www.w3.org/2000/svg\" xmlns:xlink=\"http://www.w3.org/1999/xlink\" width=\"100.0\" height=\"100.0\" viewBox=\"4.49880000002915 3.6588000005856154 17.80239999993006 18.662399999275806\" preserveAspectRatio=\"xMinYMin meet\"><g transform=\"matrix(1,0,0,-1,0,25.980000000447035)\"><path fill-rule=\"evenodd\" fill=\"#66cc99\" stroke=\"#555555\" stroke-width=\"0.3732479999855161\" opacity=\"0.6\" d=\"M 5.190000000002328,11.4300000006333 L 7.4799999999813735,18.169999999925494 L 12.320000000006985,21.62999999988824 L 18.55999999999767,19.62999999988824 L 21.60999999998603,13.9300000006333 L 19.770000000018626,7.4500000001862645 L 14.289999999979045,4.3500000005587935 L 8.419999999983702,6.169999999925494 L 5.190000000002328,11.4300000006333 z\" /></g></svg>"
      ],
      "text/plain": [
       "<shapely.geometry.polygon.Polygon at 0x7fabdbd74090>"
      ]
     },
     "execution_count": 19,
     "metadata": {},
     "output_type": "execute_result"
    }
   ],
   "source": [
    "poligono[0].simplify(0.75)"
   ]
  },
  {
   "cell_type": "code",
   "execution_count": null,
   "metadata": {},
   "outputs": [],
   "source": []
  },
  {
   "cell_type": "code",
   "execution_count": null,
   "metadata": {},
   "outputs": [],
   "source": []
  },
  {
   "cell_type": "code",
   "execution_count": null,
   "metadata": {},
   "outputs": [],
   "source": []
  },
  {
   "cell_type": "code",
   "execution_count": null,
   "metadata": {},
   "outputs": [],
   "source": []
  },
  {
   "cell_type": "markdown",
   "metadata": {},
   "source": [
    "## Agrupando as faces"
   ]
  },
  {
   "cell_type": "code",
   "execution_count": 82,
   "metadata": {},
   "outputs": [],
   "source": [
    "from sklearn.cluster import DBSCAN, OPTICS, SpectralClustering, estimate_bandwidth, MeanShift\n",
    "from sklearn import preprocessing"
   ]
  },
  {
   "cell_type": "code",
   "execution_count": 124,
   "metadata": {},
   "outputs": [],
   "source": [
    "X = bd[bd.ClusterID == bd.ClusterID.unique()[0]][['NormalX', 'NormalY', 'NormalZ']]"
   ]
  },
  {
   "cell_type": "code",
   "execution_count": 125,
   "metadata": {},
   "outputs": [
    {
     "data": {
      "text/plain": [
       "<matplotlib.axes._subplots.AxesSubplot at 0x7fabd4334310>"
      ]
     },
     "execution_count": 125,
     "metadata": {},
     "output_type": "execute_result"
    },
    {
     "data": {
      "image/png": "[encoded data removed]",
      "text/plain": [
       "<Figure size 432x288 with 1 Axes>"
      ]
     },
     "metadata": {
      "needs_background": "light"
     },
     "output_type": "display_data"
    }
   ],
   "source": [
    "X.plot.scatter(x='NormalX', y='NormalY')"
   ]
  },
  {
   "cell_type": "code",
   "execution_count": 126,
   "metadata": {},
   "outputs": [],
   "source": [
    "min_max_scaler = preprocessing.MinMaxScaler()\n",
    "X = min_max_scaler.fit_transform(X)"
   ]
  },
  {
   "cell_type": "code",
   "execution_count": 127,
   "metadata": {},
   "outputs": [
    {
     "data": {
      "text/plain": [
       "0.4665152464882396"
      ]
     },
     "execution_count": 127,
     "metadata": {},
     "output_type": "execute_result"
    }
   ],
   "source": [
    "estimate_bandwidth(X)"
   ]
  },
  {
   "cell_type": "code",
   "execution_count": 168,
   "metadata": {},
   "outputs": [],
   "source": [
    "# clustering = DBSCAN(eps=0.05, min_samples=6).fit(X)\n",
    "# clustering = SpectralClustering().fit(X)\n",
    "clustering = MeanShift(bandwidth=0.3, cluster_all=False).fit(X)"
   ]
  },
  {
   "cell_type": "code",
   "execution_count": 169,
   "metadata": {},
   "outputs": [
    {
     "data": {
      "text/plain": [
       "array([-1,  0,  1,  2,  3])"
      ]
     },
     "execution_count": 169,
     "metadata": {},
     "output_type": "execute_result"
    }
   ],
   "source": [
    "np.unique(clustering.labels_)"
   ]
  },
  {
   "cell_type": "code",
   "execution_count": 170,
   "metadata": {},
   "outputs": [
    {
     "data": {
      "text/plain": [
       "array([2, 1, 2, ..., 2, 2, 2])"
      ]
     },
     "execution_count": 170,
     "metadata": {},
     "output_type": "execute_result"
    }
   ],
   "source": [
    "clustering.labels_ "
   ]
  },
  {
   "cell_type": "code",
   "execution_count": 171,
   "metadata": {},
   "outputs": [
    {
     "data": {
      "text/plain": [
       "array([[8.81520170e-01, 8.95640580e-01, 6.68248161e-01],\n",
       "       [4.55054477e-01, 1.45013442e-01, 2.51331922e-01],\n",
       "       [1.87910196e-01, 5.58995343e-01, 4.86271635e-02],\n",
       "       [6.61492367e-01, 1.67854033e-04, 9.82888383e-01],\n",
       "       [1.99479272e-02, 5.11510990e-01, 5.07241413e-01]])"
      ]
     },
     "execution_count": 171,
     "metadata": {},
     "output_type": "execute_result"
    }
   ],
   "source": [
    "colors = np.random.rand(len(np.unique(clustering.labels_)), 3)\n",
    "colors"
   ]
  },
  {
   "cell_type": "code",
   "execution_count": 172,
   "metadata": {},
   "outputs": [
    {
     "data": {
      "text/plain": [
       "<matplotlib.axes._subplots.AxesSubplot at 0x7fabcee20a90>"
      ]
     },
     "execution_count": 172,
     "metadata": {},
     "output_type": "execute_result"
    },
    {
     "data": {
      "image/png": "[encoded data removed]",
      "text/plain": [
       "<Figure size 432x288 with 1 Axes>"
      ]
     },
     "metadata": {
      "needs_background": "light"
     },
     "output_type": "display_data"
    }
   ],
   "source": [
    "bd[bd.ClusterID == bd.ClusterID.unique()[0]].plot.scatter(x='X', y='Y', c=colors[clustering.labels_])"
   ]
  },
  {
   "cell_type": "code",
   "execution_count": null,
   "metadata": {},
   "outputs": [],
   "source": []
  },
  {
   "cell_type": "code",
   "execution_count": null,
   "metadata": {},
   "outputs": [],
   "source": []
  },
  {
   "cell_type": "code",
   "execution_count": null,
   "metadata": {},
   "outputs": [],
   "source": []
  },
  {
   "cell_type": "code",
   "execution_count": null,
   "metadata": {},
   "outputs": [],
   "source": []
  },
  {
   "cell_type": "code",
   "execution_count": null,
   "metadata": {},
   "outputs": [],
   "source": []
  },
  {
   "cell_type": "code",
   "execution_count": 295,
   "metadata": {},
   "outputs": [],
   "source": [
    "import open3d as o3d"
   ]
  },
  {
   "cell_type": "code",
   "execution_count": 296,
   "metadata": {},
   "outputs": [
    {
     "data": {
      "text/plain": [
       "array([[20.2 , 17.27,  6.96],\n",
       "       [16.56,  8.33,  7.56],\n",
       "       [16.54, 17.53,  7.78],\n",
       "       ...,\n",
       "       [21.16, 12.3 ,  7.64],\n",
       "       [21.38, 12.56,  7.28],\n",
       "       [20.11, 16.58,  7.1 ]])"
      ]
     },
     "execution_count": 296,
     "metadata": {},
     "output_type": "execute_result"
    }
   ],
   "source": [
    "bd[['X', 'Y', 'Z']].to_numpy()"
   ]
  },
  {
   "cell_type": "code",
   "execution_count": 297,
   "metadata": {},
   "outputs": [],
   "source": [
    "pcd = o3d.geometry.PointCloud()\n",
    "pcd.points = o3d.utility.Vector3dVector(bd[['X', 'Y', 'Z']].to_numpy())"
   ]
  },
  {
   "cell_type": "code",
   "execution_count": 298,
   "metadata": {},
   "outputs": [],
   "source": [
    "pcd.normals = o3d.utility.Vector3dVector((bd[['NormalX', 'NormalY', 'NormalZ']].to_numpy()))"
   ]
  },
  {
   "cell_type": "code",
   "execution_count": 299,
   "metadata": {},
   "outputs": [
    {
     "data": {
      "text/plain": [
       "geometry::PointCloud with 2148 points."
      ]
     },
     "execution_count": 299,
     "metadata": {},
     "output_type": "execute_result"
    }
   ],
   "source": [
    "pcd"
   ]
  },
  {
   "cell_type": "code",
   "execution_count": 300,
   "metadata": {},
   "outputs": [],
   "source": [
    "o3d.visualization.draw_geometries([pcd])"
   ]
  },
  {
   "cell_type": "code",
   "execution_count": null,
   "metadata": {},
   "outputs": [],
   "source": [
    "o3d.visualization.draw_geometries([pcd], point_show_normal=True)"
   ]
  },
  {
   "cell_type": "code",
   "execution_count": 302,
   "metadata": {},
   "outputs": [],
   "source": [
    "plane_model, inliers = pcd.segment_plane(distance_threshold=0.50,\n",
    "                                         ransac_n=8,\n",
    "                                         num_iterations=1000)"
   ]
  },
  {
   "cell_type": "code",
   "execution_count": 303,
   "metadata": {},
   "outputs": [
    {
     "name": "stdout",
     "output_type": "stream",
     "text": [
      "Plane equation: 0.01x + -0.02y + 1.00z + -7.66 = 0\n"
     ]
    }
   ],
   "source": [
    "[a, b, c, d] = plane_model\n",
    "print(f\"Plane equation: {a:.2f}x + {b:.2f}y + {c:.2f}z + {d:.2f} = 0\")"
   ]
  },
  {
   "cell_type": "code",
   "execution_count": 304,
   "metadata": {},
   "outputs": [],
   "source": [
    "inlier_cloud = pcd.select_by_index(inliers)\n",
    "inlier_cloud.paint_uniform_color([1.0, 0, 0])\n",
    "outlier_cloud = pcd.select_by_index(inliers, invert=True)\n",
    "o3d.visualization.draw_geometries([outlier_cloud])"
   ]
  },
  {
   "cell_type": "code",
   "execution_count": 149,
   "metadata": {},
   "outputs": [
    {
     "data": {
      "text/plain": [
       "array([ 0.02802781,  0.01395864,  0.99950968, -8.44516883])"
      ]
     },
     "execution_count": 149,
     "metadata": {},
     "output_type": "execute_result"
    }
   ],
   "source": [
    "plane_model"
   ]
  },
  {
   "cell_type": "code",
   "execution_count": 101,
   "metadata": {},
   "outputs": [],
   "source": [
    "import trimesh"
   ]
  },
  {
   "cell_type": "code",
   "execution_count": 107,
   "metadata": {},
   "outputs": [],
   "source": [
    "# test on a sphere primitive\n",
    "mesh = trimesh.creation.icosphere()"
   ]
  },
  {
   "cell_type": "code",
   "execution_count": 102,
   "metadata": {},
   "outputs": [],
   "source": [
    "tri_points = trimesh.PointCloud(bd[['X', 'Y', 'Z']].to_numpy())"
   ]
  },
  {
   "cell_type": "code",
   "execution_count": 103,
   "metadata": {},
   "outputs": [
    {
     "data": {
      "image/png": "[encoded data removed]",
      "text/plain": [
       "<Figure size 432x288 with 1 Axes>"
      ]
     },
     "metadata": {
      "needs_background": "light"
     },
     "output_type": "display_data"
    }
   ],
   "source": [
    "trimesh.points.plot_points(bd[['X', 'Y', 'Z']].to_numpy(), show=True)"
   ]
  },
  {
   "cell_type": "code",
   "execution_count": 119,
   "metadata": {},
   "outputs": [
    {
     "data": {
      "text/plain": [
       "<trimesh.Scene(len(geometry)=1)>"
      ]
     },
     "execution_count": 119,
     "metadata": {},
     "output_type": "execute_result"
    }
   ],
   "source": [
    "# create a visualization scene with rays, hits, and mesh\n",
    "tri_points.scene()"
   ]
  },
  {
   "cell_type": "code",
   "execution_count": 116,
   "metadata": {},
   "outputs": [
    {
     "data": {
      "text/plain": [
       "<trimesh.PointCloud(vertices.shape=(2148, 3))>"
      ]
     },
     "execution_count": 116,
     "metadata": {},
     "output_type": "execute_result"
    }
   ],
   "source": [
    "tri_points\n"
   ]
  },
  {
   "cell_type": "code",
   "execution_count": null,
   "metadata": {},
   "outputs": [],
   "source": []
  },
  {
   "cell_type": "code",
   "execution_count": null,
   "metadata": {},
   "outputs": [],
   "source": []
  },
  {
   "cell_type": "code",
   "execution_count": null,
   "metadata": {},
   "outputs": [],
   "source": []
  },
  {
   "cell_type": "code",
   "execution_count": 49,
   "metadata": {},
   "outputs": [],
   "source": [
    "\n",
    "# estimate radius for rolling ball\n",
    "distances = pcd.compute_nearest_neighbor_distance()\n",
    "avg_dist = np.mean(distances)\n",
    "radius = 3 * avg_dist   \n",
    "\n",
    "mesh = o3d.geometry.TriangleMesh.create_from_point_cloud_ball_pivoting(\n",
    "           pcd,\n",
    "           o3d.utility.DoubleVector([radius, radius * 4]))"
   ]
  },
  {
   "cell_type": "code",
   "execution_count": 50,
   "metadata": {},
   "outputs": [],
   "source": [
    "o3d.visualization.draw_geometries([mesh])"
   ]
  },
  {
   "cell_type": "code",
   "execution_count": null,
   "metadata": {},
   "outputs": [],
   "source": []
  },
  {
   "cell_type": "code",
   "execution_count": 54,
   "metadata": {},
   "outputs": [],
   "source": [
    "mesh2 = o3d.geometry.TriangleMesh.create_from_point_cloud_poisson(pcd)"
   ]
  },
  {
   "cell_type": "code",
   "execution_count": null,
   "metadata": {},
   "outputs": [],
   "source": []
  },
  {
   "cell_type": "code",
   "execution_count": 48,
   "metadata": {},
   "outputs": [
    {
     "data": {
      "text/plain": [
       "False"
      ]
     },
     "execution_count": 48,
     "metadata": {},
     "output_type": "execute_result"
    }
   ],
   "source": [
    "# create the triangular mesh with the vertices and faces from open3d\n",
    "tri_mesh = trimesh.Trimesh(np.asarray(mesh.vertices), np.asarray(mesh.triangles),\n",
    "                          vertex_normals=np.asarray(mesh.vertex_normals))\n",
    "\n",
    "trimesh.convex.is_convex(tri_mesh)"
   ]
  },
  {
   "cell_type": "code",
   "execution_count": 64,
   "metadata": {},
   "outputs": [
    {
     "data": {
      "text/plain": [
       "141.7112839975847"
      ]
     },
     "execution_count": 64,
     "metadata": {},
     "output_type": "execute_result"
    }
   ],
   "source": [
    "tri_mesh.volume"
   ]
  },
  {
   "cell_type": "code",
   "execution_count": null,
   "metadata": {},
   "outputs": [],
   "source": []
  },
  {
   "cell_type": "code",
   "execution_count": null,
   "metadata": {},
   "outputs": [],
   "source": []
  },
  {
   "cell_type": "code",
   "execution_count": null,
   "metadata": {},
   "outputs": [],
   "source": []
  },
  {
   "cell_type": "code",
   "execution_count": null,
   "metadata": {},
   "outputs": [],
   "source": []
  },
  {
   "cell_type": "code",
   "execution_count": null,
   "metadata": {},
   "outputs": [],
   "source": []
  },
  {
   "cell_type": "code",
   "execution_count": null,
   "metadata": {},
   "outputs": [],
   "source": []
  },
  {
   "cell_type": "code",
   "execution_count": null,
   "metadata": {},
   "outputs": [],
   "source": []
  },
  {
   "cell_type": "code",
   "execution_count": 16,
   "metadata": {},
   "outputs": [],
   "source": [
    "roof_quiver = p3.quiver(bd['Y'], bd['Z'], bd['X'], bd['NormalY'], bd['NormalZ'], bd['NormalX'], color='orange', size=5)\n",
    "fig.scatters.append(roof_quiver)"
   ]
  },
  {
   "cell_type": "code",
   "execution_count": 15,
   "metadata": {},
   "outputs": [
    {
     "data": {
      "text/plain": [
       "array([[<matplotlib.axes._subplots.AxesSubplot object at 0x7fc048c9fbd0>,\n",
       "        <matplotlib.axes._subplots.AxesSubplot object at 0x7fc04804cf50>,\n",
       "        <matplotlib.axes._subplots.AxesSubplot object at 0x7fc041fd7610>],\n",
       "       [<matplotlib.axes._subplots.AxesSubplot object at 0x7fc041f8ec90>,\n",
       "        <matplotlib.axes._subplots.AxesSubplot object at 0x7fc041f4f350>,\n",
       "        <matplotlib.axes._subplots.AxesSubplot object at 0x7fc041f029d0>],\n",
       "       [<matplotlib.axes._subplots.AxesSubplot object at 0x7fc041f2fb50>,\n",
       "        <matplotlib.axes._subplots.AxesSubplot object at 0x7fc041efb6d0>,\n",
       "        <matplotlib.axes._subplots.AxesSubplot object at 0x7fc041efb710>]],\n",
       "      dtype=object)"
      ]
     },
     "execution_count": 15,
     "metadata": {},
     "output_type": "execute_result"
    },
    {
     "data": {
      "image/png": "[encoded data removed]",
      "text/plain": [
       "<Figure size 432x288 with 9 Axes>"
      ]
     },
     "metadata": {
      "needs_background": "light"
     },
     "output_type": "display_data"
    }
   ],
   "source": [
    "bd[['X', 'Y','Z', 'NormalX', 'NormalY', 'NormalZ', 'Curvature']].hist()"
   ]
  },
  {
   "cell_type": "code",
   "execution_count": 16,
   "metadata": {},
   "outputs": [
    {
     "data": {
      "text/plain": [
       "<matplotlib.axes._subplots.AxesSubplot at 0x7fc041e242d0>"
      ]
     },
     "execution_count": 16,
     "metadata": {},
     "output_type": "execute_result"
    },
    {
     "data": {
      "image/png": "[encoded data removed]",
      "text/plain": [
       "<Figure size 432x288 with 1 Axes>"
      ]
     },
     "metadata": {
      "needs_background": "light"
     },
     "output_type": "display_data"
    }
   ],
   "source": [
    "bd.Curvature.hist()"
   ]
  },
  {
   "cell_type": "code",
   "execution_count": 18,
   "metadata": {},
   "outputs": [],
   "source": [
    "roof_model = p3.plot_trisurf(bd['Y'], bd['Z'], bd['X'], tri.simplices, color='red')\n",
    "fig.meshes.append(roof_model)\n",
    "roof_quiver.visible = False"
   ]
  },
  {
   "cell_type": "code",
   "execution_count": null,
   "metadata": {},
   "outputs": [],
   "source": []
  }
 ],
 "metadata": {
  "kernelspec": {
   "display_name": "Python 3",
   "language": "python",
   "name": "python3"
  },
  "language_info": {
   "codemirror_mode": {
    "name": "ipython",
    "version": 3
   },
   "file_extension": ".py",
   "mimetype": "text/x-python",
   "name": "python",
   "nbconvert_exporter": "python",
   "pygments_lexer": "ipython3",
   "version": "3.7.6"
  }
 },
 "nbformat": 4,
 "nbformat_minor": 4
}
