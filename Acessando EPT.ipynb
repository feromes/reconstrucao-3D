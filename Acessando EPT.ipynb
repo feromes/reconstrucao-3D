{
 "cells": [
  {
   "cell_type": "code",
   "execution_count": 1,
   "metadata": {},
   "outputs": [],
   "source": [
    "import pdal\n",
    "import json"
   ]
  },
  {
   "cell_type": "code",
   "execution_count": 14,
   "metadata": {},
   "outputs": [],
   "source": [
    "bounds = ([324000, 328500], [7357000, 7361000])"
   ]
  },
  {
   "cell_type": "code",
   "execution_count": 16,
   "metadata": {},
   "outputs": [
    {
     "name": "stdout",
     "output_type": "stream",
     "text": [
      "CPU times: user 14.8 s, sys: 371 ms, total: 15.2 s\n",
      "Wall time: 12.1 s\n",
      "Pipeline selected 4011885 points\n"
     ]
    }
   ],
   "source": [
    "ept = [\n",
    "    {\n",
    "      \"type\": \"readers.ept\",\n",
    "      \"filename\": \"https://ept-m3dc-pmsp.s3-sa-east-1.amazonaws.com/ept.json\",\n",
    "      \"resolution\": 100.0,\n",
    "      \"bounds\": str(bounds)\n",
    "    }\n",
    "]\n",
    "\n",
    "pipeline = pdal.Pipeline(json.dumps(ept))\n",
    "pipeline.validate()\n",
    "%time n_points = pipeline.execute()\n",
    "print(f'Pipeline selected {n_points} points')"
   ]
  },
  {
   "cell_type": "code",
   "execution_count": 17,
   "metadata": {},
   "outputs": [
    {
     "data": {
      "text/html": [
       "<div>\n",
       "<style scoped>\n",
       "    .dataframe tbody tr th:only-of-type {\n",
       "        vertical-align: middle;\n",
       "    }\n",
       "\n",
       "    .dataframe tbody tr th {\n",
       "        vertical-align: top;\n",
       "    }\n",
       "\n",
       "    .dataframe thead th {\n",
       "        text-align: right;\n",
       "    }\n",
       "</style>\n",
       "<table border=\"1\" class=\"dataframe\">\n",
       "  <thead>\n",
       "    <tr style=\"text-align: right;\">\n",
       "      <th></th>\n",
       "      <th>X</th>\n",
       "      <th>Y</th>\n",
       "      <th>Z</th>\n",
       "      <th>Intensity</th>\n",
       "      <th>ReturnNumber</th>\n",
       "      <th>NumberOfReturns</th>\n",
       "      <th>ScanDirectionFlag</th>\n",
       "      <th>EdgeOfFlightLine</th>\n",
       "      <th>Classification</th>\n",
       "      <th>ScanAngleRank</th>\n",
       "      <th>UserData</th>\n",
       "      <th>PointSourceId</th>\n",
       "      <th>GpsTime</th>\n",
       "      <th>Red</th>\n",
       "      <th>Green</th>\n",
       "      <th>Blue</th>\n",
       "      <th>OriginId</th>\n",
       "    </tr>\n",
       "  </thead>\n",
       "  <tbody>\n",
       "    <tr>\n",
       "      <th>0</th>\n",
       "      <td>327593.10</td>\n",
       "      <td>7359738.60</td>\n",
       "      <td>800.54</td>\n",
       "      <td>24</td>\n",
       "      <td>1</td>\n",
       "      <td>2</td>\n",
       "      <td>0</td>\n",
       "      <td>0</td>\n",
       "      <td>5</td>\n",
       "      <td>8.0</td>\n",
       "      <td>29</td>\n",
       "      <td>14</td>\n",
       "      <td>133605.690336</td>\n",
       "      <td>21760</td>\n",
       "      <td>23808</td>\n",
       "      <td>19968</td>\n",
       "      <td>1471</td>\n",
       "    </tr>\n",
       "    <tr>\n",
       "      <th>1</th>\n",
       "      <td>327603.54</td>\n",
       "      <td>7360315.79</td>\n",
       "      <td>800.13</td>\n",
       "      <td>41</td>\n",
       "      <td>1</td>\n",
       "      <td>1</td>\n",
       "      <td>0</td>\n",
       "      <td>0</td>\n",
       "      <td>5</td>\n",
       "      <td>2.0</td>\n",
       "      <td>13</td>\n",
       "      <td>33</td>\n",
       "      <td>134488.200735</td>\n",
       "      <td>19200</td>\n",
       "      <td>23808</td>\n",
       "      <td>18944</td>\n",
       "      <td>1469</td>\n",
       "    </tr>\n",
       "    <tr>\n",
       "      <th>2</th>\n",
       "      <td>328183.07</td>\n",
       "      <td>7357379.42</td>\n",
       "      <td>850.58</td>\n",
       "      <td>11</td>\n",
       "      <td>1</td>\n",
       "      <td>2</td>\n",
       "      <td>0</td>\n",
       "      <td>0</td>\n",
       "      <td>19</td>\n",
       "      <td>-10.0</td>\n",
       "      <td>36</td>\n",
       "      <td>23</td>\n",
       "      <td>134692.684707</td>\n",
       "      <td>61952</td>\n",
       "      <td>61952</td>\n",
       "      <td>60416</td>\n",
       "      <td>1634</td>\n",
       "    </tr>\n",
       "    <tr>\n",
       "      <th>3</th>\n",
       "      <td>328235.31</td>\n",
       "      <td>7357990.59</td>\n",
       "      <td>803.85</td>\n",
       "      <td>27</td>\n",
       "      <td>1</td>\n",
       "      <td>1</td>\n",
       "      <td>0</td>\n",
       "      <td>0</td>\n",
       "      <td>5</td>\n",
       "      <td>-14.0</td>\n",
       "      <td>14</td>\n",
       "      <td>23</td>\n",
       "      <td>134707.427771</td>\n",
       "      <td>23296</td>\n",
       "      <td>27136</td>\n",
       "      <td>24064</td>\n",
       "      <td>1687</td>\n",
       "    </tr>\n",
       "    <tr>\n",
       "      <th>4</th>\n",
       "      <td>328146.80</td>\n",
       "      <td>7359771.34</td>\n",
       "      <td>795.26</td>\n",
       "      <td>22</td>\n",
       "      <td>1</td>\n",
       "      <td>2</td>\n",
       "      <td>0</td>\n",
       "      <td>0</td>\n",
       "      <td>5</td>\n",
       "      <td>-8.0</td>\n",
       "      <td>13</td>\n",
       "      <td>24</td>\n",
       "      <td>134747.236022</td>\n",
       "      <td>24064</td>\n",
       "      <td>28672</td>\n",
       "      <td>27904</td>\n",
       "      <td>1472</td>\n",
       "    </tr>\n",
       "  </tbody>\n",
       "</table>\n",
       "</div>"
      ],
      "text/plain": [
       "           X           Y       Z  Intensity  ReturnNumber  NumberOfReturns  \\\n",
       "0  327593.10  7359738.60  800.54         24             1                2   \n",
       "1  327603.54  7360315.79  800.13         41             1                1   \n",
       "2  328183.07  7357379.42  850.58         11             1                2   \n",
       "3  328235.31  7357990.59  803.85         27             1                1   \n",
       "4  328146.80  7359771.34  795.26         22             1                2   \n",
       "\n",
       "   ScanDirectionFlag  EdgeOfFlightLine  Classification  ScanAngleRank  \\\n",
       "0                  0                 0               5            8.0   \n",
       "1                  0                 0               5            2.0   \n",
       "2                  0                 0              19          -10.0   \n",
       "3                  0                 0               5          -14.0   \n",
       "4                  0                 0               5           -8.0   \n",
       "\n",
       "   UserData  PointSourceId        GpsTime    Red  Green   Blue  OriginId  \n",
       "0        29             14  133605.690336  21760  23808  19968      1471  \n",
       "1        13             33  134488.200735  19200  23808  18944      1469  \n",
       "2        36             23  134692.684707  61952  61952  60416      1634  \n",
       "3        14             23  134707.427771  23296  27136  24064      1687  \n",
       "4        13             24  134747.236022  24064  28672  27904      1472  "
      ]
     },
     "execution_count": 17,
     "metadata": {},
     "output_type": "execute_result"
    }
   ],
   "source": [
    "import pandas as pd\n",
    "arr = pipeline.arrays[0]\n",
    "df = pd.DataFrame(arr)\n",
    "# print(df.head().to_latex(index=False))\n",
    "df.head()"
   ]
  },
  {
   "cell_type": "code",
   "execution_count": 19,
   "metadata": {},
   "outputs": [],
   "source": [
    "# Reduzindo valores a mínimos para poderem ser visualizados\n",
    "df[['X', 'Y', 'Z']] = df[['X', 'Y', 'Z']] - df[['X', 'Y', 'Z']].min()"
   ]
  },
  {
   "cell_type": "code",
   "execution_count": 37,
   "metadata": {},
   "outputs": [],
   "source": [
    "import matplotlib.cm\n",
    "import numpy as np\n",
    "\n",
    "colormap = matplotlib.cm.viridis\n",
    "c = colormap((df.Z-df.Z.mean())/df.Z.std())"
   ]
  },
  {
   "cell_type": "code",
   "execution_count": 38,
   "metadata": {},
   "outputs": [
    {
     "data": {
      "text/plain": [
       "array([[0.273809, 0.031497, 0.358853, 1.      ],\n",
       "       [0.271305, 0.019942, 0.347269, 1.      ],\n",
       "       [0.252899, 0.742211, 0.448284, 1.      ],\n",
       "       ...,\n",
       "       [0.267004, 0.004874, 0.329415, 1.      ],\n",
       "       [0.267004, 0.004874, 0.329415, 1.      ],\n",
       "       [0.267004, 0.004874, 0.329415, 1.      ]])"
      ]
     },
     "execution_count": 38,
     "metadata": {},
     "output_type": "execute_result"
    }
   ],
   "source": [
    "c"
   ]
  },
  {
   "cell_type": "code",
   "execution_count": 40,
   "metadata": {},
   "outputs": [
    {
     "data": {
      "application/vnd.jupyter.widget-view+json": {
       "model_id": "482fd93340d84130b61bfddb02091493",
       "version_major": 2,
       "version_minor": 0
      },
      "text/plain": [
       "VBox(children=(Figure(camera=PerspectiveCamera(fov=46.0, position=(0.0, 0.0, 2.0), quaternion=(0.0, 0.0, 0.0, …"
      ]
     },
     "metadata": {},
     "output_type": "display_data"
    }
   ],
   "source": [
    "import ipyvolume as p3 \n",
    "\n",
    "fig = p3.figure(width=1000)\n",
    "fig.xlabel='Y'\n",
    "fig.ylabel='Z'\n",
    "fig.zlabel='X'\n",
    "all_points = p3.scatter(df['Y'], df['Z'], df['X'], color=c, size=0.1, marker='square_2d')\n",
    "# ground = p3.scatter(gd['Y'], gd['Z'], gd['X'], color='grey', size=.2)\n",
    "# building = p3.scatter(bd['Y'], bd['Z'], bd['X'], color='orange', size=.3)\n",
    "# vegetation = p3.scatter(vg['Y'], vg['Z'], vg['X'], color='green', size=.1)\n",
    "p3.squarelim()\n",
    "p3.show()"
   ]
  },
  {
   "cell_type": "code",
   "execution_count": null,
   "metadata": {},
   "outputs": [],
   "source": []
  }
 ],
 "metadata": {
  "kernelspec": {
   "display_name": "Python 3",
   "language": "python",
   "name": "python3"
  },
  "language_info": {
   "codemirror_mode": {
    "name": "ipython",
    "version": 3
   },
   "file_extension": ".py",
   "mimetype": "text/x-python",
   "name": "python",
   "nbconvert_exporter": "python",
   "pygments_lexer": "ipython3",
   "version": "3.7.6"
  }
 },
 "nbformat": 4,
 "nbformat_minor": 4
}
