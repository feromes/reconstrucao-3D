{
 "cells": [
  {
   "cell_type": "code",
   "execution_count": 1,
   "metadata": {},
   "outputs": [],
   "source": [
    "import pdal\n",
    "import json"
   ]
  },
  {
   "cell_type": "code",
   "execution_count": 2,
   "metadata": {},
   "outputs": [],
   "source": [
    "bounds = ([324000, 328500], [7357000, 7361000])"
   ]
  },
  {
   "cell_type": "code",
   "execution_count": 3,
   "metadata": {},
   "outputs": [
    {
     "name": "stdout",
     "output_type": "stream",
     "text": [
      "CPU times: user 439 ms, sys: 32.1 ms, total: 471 ms\n",
      "Wall time: 678 ms\n",
      "Pipeline selected 5982 points\n"
     ]
    }
   ],
   "source": [
    "ept = [\n",
    "    {\n",
    "      \"type\": \"readers.ept\",\n",
    "      \"filename\": \"https://ept-m3dc-pmsp.s3-sa-east-1.amazonaws.com/ept.json\",\n",
    "      \"resolution\": 100.0,\n",
    "      \"bounds\": str(bounds)\n",
    "    }\n",
    "]\n",
    "\n",
    "pipeline = pdal.Pipeline(json.dumps(ept))\n",
    "pipeline.validate()\n",
    "%time n_points = pipeline.execute()\n",
    "print(f'Pipeline selected {n_points} points')"
   ]
  },
  {
   "cell_type": "code",
   "execution_count": 4,
   "metadata": {},
   "outputs": [
    {
     "data": {
      "text/html": [
       "<div>\n",
       "<style scoped>\n",
       "    .dataframe tbody tr th:only-of-type {\n",
       "        vertical-align: middle;\n",
       "    }\n",
       "\n",
       "    .dataframe tbody tr th {\n",
       "        vertical-align: top;\n",
       "    }\n",
       "\n",
       "    .dataframe thead th {\n",
       "        text-align: right;\n",
       "    }\n",
       "</style>\n",
       "<table border=\"1\" class=\"dataframe\">\n",
       "  <thead>\n",
       "    <tr style=\"text-align: right;\">\n",
       "      <th></th>\n",
       "      <th>Blue</th>\n",
       "      <th>Classification</th>\n",
       "      <th>EdgeOfFlightLine</th>\n",
       "      <th>GpsTime</th>\n",
       "      <th>Green</th>\n",
       "      <th>Intensity</th>\n",
       "      <th>NumberOfReturns</th>\n",
       "      <th>OriginId</th>\n",
       "      <th>PointSourceId</th>\n",
       "      <th>Red</th>\n",
       "      <th>ReturnNumber</th>\n",
       "      <th>ScanAngleRank</th>\n",
       "      <th>ScanDirectionFlag</th>\n",
       "      <th>UserData</th>\n",
       "      <th>X</th>\n",
       "      <th>Y</th>\n",
       "      <th>Z</th>\n",
       "    </tr>\n",
       "  </thead>\n",
       "  <tbody>\n",
       "    <tr>\n",
       "      <th>0</th>\n",
       "      <td>19968</td>\n",
       "      <td>5</td>\n",
       "      <td>0</td>\n",
       "      <td>133583.836407</td>\n",
       "      <td>25344</td>\n",
       "      <td>57</td>\n",
       "      <td>1</td>\n",
       "      <td>1436</td>\n",
       "      <td>14</td>\n",
       "      <td>20480</td>\n",
       "      <td>1</td>\n",
       "      <td>13.0</td>\n",
       "      <td>1</td>\n",
       "      <td>12</td>\n",
       "      <td>327639.25</td>\n",
       "      <td>7360900.91</td>\n",
       "      <td>777.57</td>\n",
       "    </tr>\n",
       "    <tr>\n",
       "      <th>1</th>\n",
       "      <td>38912</td>\n",
       "      <td>19</td>\n",
       "      <td>0</td>\n",
       "      <td>133584.842278</td>\n",
       "      <td>38912</td>\n",
       "      <td>7</td>\n",
       "      <td>2</td>\n",
       "      <td>1435</td>\n",
       "      <td>14</td>\n",
       "      <td>39680</td>\n",
       "      <td>1</td>\n",
       "      <td>0.0</td>\n",
       "      <td>0</td>\n",
       "      <td>6</td>\n",
       "      <td>327493.97</td>\n",
       "      <td>7360900.24</td>\n",
       "      <td>774.44</td>\n",
       "    </tr>\n",
       "    <tr>\n",
       "      <th>2</th>\n",
       "      <td>61952</td>\n",
       "      <td>6</td>\n",
       "      <td>0</td>\n",
       "      <td>133585.298187</td>\n",
       "      <td>62464</td>\n",
       "      <td>45</td>\n",
       "      <td>1</td>\n",
       "      <td>1435</td>\n",
       "      <td>14</td>\n",
       "      <td>62208</td>\n",
       "      <td>1</td>\n",
       "      <td>-7.0</td>\n",
       "      <td>0</td>\n",
       "      <td>3</td>\n",
       "      <td>327426.76</td>\n",
       "      <td>7360901.21</td>\n",
       "      <td>775.04</td>\n",
       "    </tr>\n",
       "    <tr>\n",
       "      <th>3</th>\n",
       "      <td>36608</td>\n",
       "      <td>5</td>\n",
       "      <td>0</td>\n",
       "      <td>133586.852354</td>\n",
       "      <td>39936</td>\n",
       "      <td>46</td>\n",
       "      <td>1</td>\n",
       "      <td>1469</td>\n",
       "      <td>14</td>\n",
       "      <td>40448</td>\n",
       "      <td>1</td>\n",
       "      <td>6.0</td>\n",
       "      <td>1</td>\n",
       "      <td>3</td>\n",
       "      <td>327565.81</td>\n",
       "      <td>7360760.53</td>\n",
       "      <td>771.47</td>\n",
       "    </tr>\n",
       "    <tr>\n",
       "      <th>4</th>\n",
       "      <td>42752</td>\n",
       "      <td>6</td>\n",
       "      <td>0</td>\n",
       "      <td>133587.187101</td>\n",
       "      <td>40960</td>\n",
       "      <td>21</td>\n",
       "      <td>1</td>\n",
       "      <td>1469</td>\n",
       "      <td>14</td>\n",
       "      <td>40960</td>\n",
       "      <td>1</td>\n",
       "      <td>0.0</td>\n",
       "      <td>0</td>\n",
       "      <td>3</td>\n",
       "      <td>327496.91</td>\n",
       "      <td>7360759.29</td>\n",
       "      <td>773.05</td>\n",
       "    </tr>\n",
       "  </tbody>\n",
       "</table>\n",
       "</div>"
      ],
      "text/plain": [
       "    Blue  Classification  EdgeOfFlightLine        GpsTime  Green  Intensity  \\\n",
       "0  19968               5                 0  133583.836407  25344         57   \n",
       "1  38912              19                 0  133584.842278  38912          7   \n",
       "2  61952               6                 0  133585.298187  62464         45   \n",
       "3  36608               5                 0  133586.852354  39936         46   \n",
       "4  42752               6                 0  133587.187101  40960         21   \n",
       "\n",
       "   NumberOfReturns  OriginId  PointSourceId    Red  ReturnNumber  \\\n",
       "0                1      1436             14  20480             1   \n",
       "1                2      1435             14  39680             1   \n",
       "2                1      1435             14  62208             1   \n",
       "3                1      1469             14  40448             1   \n",
       "4                1      1469             14  40960             1   \n",
       "\n",
       "   ScanAngleRank  ScanDirectionFlag  UserData          X           Y       Z  \n",
       "0           13.0                  1        12  327639.25  7360900.91  777.57  \n",
       "1            0.0                  0         6  327493.97  7360900.24  774.44  \n",
       "2           -7.0                  0         3  327426.76  7360901.21  775.04  \n",
       "3            6.0                  1         3  327565.81  7360760.53  771.47  \n",
       "4            0.0                  0         3  327496.91  7360759.29  773.05  "
      ]
     },
     "execution_count": 4,
     "metadata": {},
     "output_type": "execute_result"
    }
   ],
   "source": [
    "import pandas as pd\n",
    "arr = pipeline.arrays[0]\n",
    "df = pd.DataFrame(arr)\n",
    "# print(df.head().to_latex(index=False))\n",
    "df.head()"
   ]
  },
  {
   "cell_type": "code",
   "execution_count": 5,
   "metadata": {},
   "outputs": [],
   "source": [
    "# Reduzindo valores a mínimos para poderem ser visualizados\n",
    "df[['X', 'Y', 'Z']] = df[['X', 'Y', 'Z']] - df[['X', 'Y', 'Z']].min()"
   ]
  },
  {
   "cell_type": "code",
   "execution_count": 6,
   "metadata": {},
   "outputs": [],
   "source": [
    "import matplotlib.cm\n",
    "import numpy as np\n",
    "\n",
    "colormap = matplotlib.cm.viridis\n",
    "c = colormap((df.Z-df.Z.mean())/df.Z.std())"
   ]
  },
  {
   "cell_type": "code",
   "execution_count": 7,
   "metadata": {},
   "outputs": [
    {
     "data": {
      "text/plain": [
       "array([[0.267004, 0.004874, 0.329415, 1.      ],\n",
       "       [0.267004, 0.004874, 0.329415, 1.      ],\n",
       "       [0.267004, 0.004874, 0.329415, 1.      ],\n",
       "       ...,\n",
       "       [0.993248, 0.906157, 0.143936, 1.      ],\n",
       "       [0.525776, 0.833491, 0.288127, 1.      ],\n",
       "       [0.668054, 0.861999, 0.196293, 1.      ]])"
      ]
     },
     "execution_count": 7,
     "metadata": {},
     "output_type": "execute_result"
    }
   ],
   "source": [
    "c"
   ]
  },
  {
   "cell_type": "code",
   "execution_count": 8,
   "metadata": {},
   "outputs": [
    {
     "data": {
      "application/vnd.jupyter.widget-view+json": {
       "model_id": "cf19b381529f41c08633fa5b6f695b2f",
       "version_major": 2,
       "version_minor": 0
      },
      "text/plain": [
       "VBox(children=(Figure(camera=PerspectiveCamera(fov=46.0, position=(0.0, 0.0, 2.0), projectionMatrix=(1.0, 0.0,…"
      ]
     },
     "metadata": {},
     "output_type": "display_data"
    }
   ],
   "source": [
    "import ipyvolume as p3 \n",
    "\n",
    "fig = p3.figure(width=1000)\n",
    "fig.xlabel='Y'\n",
    "fig.ylabel='Z'\n",
    "fig.zlabel='X'\n",
    "all_points = p3.scatter(df['Y'], df['Z'], df['X'], color=c, size=0.1, marker='square_2d')\n",
    "# ground = p3.scatter(gd['Y'], gd['Z'], gd['X'], color='grey', size=.2)\n",
    "# building = p3.scatter(bd['Y'], bd['Z'], bd['X'], color='orange', size=.3)\n",
    "# vegetation = p3.scatter(vg['Y'], vg['Z'], vg['X'], color='green', size=.1)\n",
    "p3.squarelim()\n",
    "p3.show()"
   ]
  },
  {
   "cell_type": "code",
   "execution_count": null,
   "metadata": {},
   "outputs": [],
   "source": []
  },
  {
   "cell_type": "code",
   "execution_count": null,
   "metadata": {},
   "outputs": [],
   "source": []
  }
 ],
 "metadata": {
  "kernelspec": {
   "display_name": "Python 3",
   "language": "python",
   "name": "python3"
  },
  "language_info": {
   "codemirror_mode": {
    "name": "ipython",
    "version": 3
   },
   "file_extension": ".py",
   "mimetype": "text/x-python",
   "name": "python",
   "nbconvert_exporter": "python",
   "pygments_lexer": "ipython3",
   "version": "3.8.6"
  }
 },
 "nbformat": 4,
 "nbformat_minor": 4
}
