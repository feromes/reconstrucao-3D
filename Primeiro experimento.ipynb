{
 "cells": [
  {
   "cell_type": "markdown",
   "metadata": {},
   "source": [
    "# Primeiro Experimento\n",
    "\n",
    "Nesse primeiro experimento vamos realizar a reconstrução 3D de alguns edifícios levando em conta os seguintes critérios:\n",
    "\n",
    "* Complexidade da cobertura - Igreja da Sé\n",
    "* Diversidade de platos horizontais - Banespão\n",
    "* Pojeção com curvaturas - Copan\n",
    "* Topologias com rings interiores - Faculdade de Direito São Francisco\n",
    "* Telhados com diversas águas - Colégio Caetano de Campos (República)\n",
    "* Coberturas com curvatura simples - Biblioteca Latino Americana (Memorial da América Latina)\n",
    "* Coberturas com dupla curvatura - Oca\n",
    "* Edifícios com recortes em projeção - Martinelli\n",
    "* Lotes com múltiplos edifícios separados - Casa Modernista\n",
    "* Feição simples - Coreto da Luz\n",
    "\n",
    "## Selecionando os elementos\n",
    "\n",
    "Em muitos dos casos acima oso lotes coincidem com a edificação, mas em outros casos teremos que definir uma geometria de recorte. Para isso vamos criar uma tabela\n",
    "\n",
    "## Objetivo inicial\n",
    "\n",
    "Reconstruir as gemetrias com LOD1.3, e discutir as possibilidades de criação de LOD2.0\n",
    "\n",
    "## Obtendo os dados\n",
    "\n",
    "Os polígonos  das áreas de estudo estão em um arquivo contendo os 10 registros"
   ]
  },
  {
   "cell_type": "code",
   "execution_count": 1,
   "metadata": {},
   "outputs": [],
   "source": [
    "import pdal\n",
    "import json\n",
    "import numpy as np"
   ]
  },
  {
   "cell_type": "code",
   "execution_count": 2,
   "metadata": {},
   "outputs": [],
   "source": [
    "import geopandas as gpd"
   ]
  },
  {
   "cell_type": "code",
   "execution_count": 3,
   "metadata": {},
   "outputs": [],
   "source": [
    "areas_estudo = gpd.read_file(\"./gis/locais-selecionados.gpkg\", layer='locais-selecionados')"
   ]
  },
  {
   "cell_type": "code",
   "execution_count": 4,
   "metadata": {},
   "outputs": [
    {
     "data": {
      "text/html": [
       "<div>\n",
       "<style scoped>\n",
       "    .dataframe tbody tr th:only-of-type {\n",
       "        vertical-align: middle;\n",
       "    }\n",
       "\n",
       "    .dataframe tbody tr th {\n",
       "        vertical-align: top;\n",
       "    }\n",
       "\n",
       "    .dataframe thead th {\n",
       "        text-align: right;\n",
       "    }\n",
       "</style>\n",
       "<table border=\"1\" class=\"dataframe\">\n",
       "  <thead>\n",
       "    <tr style=\"text-align: right;\">\n",
       "      <th></th>\n",
       "      <th>Nome</th>\n",
       "      <th>Lote</th>\n",
       "      <th>geometry</th>\n",
       "    </tr>\n",
       "  </thead>\n",
       "  <tbody>\n",
       "    <tr>\n",
       "      <th>0</th>\n",
       "      <td>Casa Modernista</td>\n",
       "      <td>042.029.0021</td>\n",
       "      <td>POLYGON ((333309.176 7389518.129, 333308.290 7...</td>\n",
       "    </tr>\n",
       "    <tr>\n",
       "      <th>1</th>\n",
       "      <td>Oca</td>\n",
       "      <td>None</td>\n",
       "      <td>POLYGON ((331023.350 7390484.674, 331023.350 7...</td>\n",
       "    </tr>\n",
       "    <tr>\n",
       "      <th>2</th>\n",
       "      <td>Biblioteca Latino Americana</td>\n",
       "      <td>None</td>\n",
       "      <td>POLYGON ((329902.822 7397074.728, 330006.485 7...</td>\n",
       "    </tr>\n",
       "    <tr>\n",
       "      <th>3</th>\n",
       "      <td>Colégio Caetano de Campos</td>\n",
       "      <td>None</td>\n",
       "      <td>POLYGON ((332159.584 7395288.375, 332240.211 7...</td>\n",
       "    </tr>\n",
       "    <tr>\n",
       "      <th>4</th>\n",
       "      <td>Copan</td>\n",
       "      <td>006.064.0000-06</td>\n",
       "      <td>POLYGON ((332134.639 7395024.162, 332140.343 7...</td>\n",
       "    </tr>\n",
       "    <tr>\n",
       "      <th>5</th>\n",
       "      <td>Martinelli</td>\n",
       "      <td>001.072.0000-01</td>\n",
       "      <td>POLYGON ((333062.581 7395130.320, 333068.549 7...</td>\n",
       "    </tr>\n",
       "    <tr>\n",
       "      <th>6</th>\n",
       "      <td>Banespão</td>\n",
       "      <td>001.074.0002</td>\n",
       "      <td>POLYGON ((333246.947 7395112.386, 333249.292 7...</td>\n",
       "    </tr>\n",
       "    <tr>\n",
       "      <th>7</th>\n",
       "      <td>Faculdade de Direito São Francisco</td>\n",
       "      <td>005.013.0007</td>\n",
       "      <td>POLYGON ((332950.887 7394641.380, 332939.286 7...</td>\n",
       "    </tr>\n",
       "    <tr>\n",
       "      <th>8</th>\n",
       "      <td>Igreja da Sé</td>\n",
       "      <td>005.026.0001</td>\n",
       "      <td>POLYGON ((333190.216 7394572.960, 333226.077 7...</td>\n",
       "    </tr>\n",
       "    <tr>\n",
       "      <th>9</th>\n",
       "      <td>Coreto da Luz</td>\n",
       "      <td>None</td>\n",
       "      <td>POLYGON ((333064.671 7396500.426, 333064.671 7...</td>\n",
       "    </tr>\n",
       "  </tbody>\n",
       "</table>\n",
       "</div>"
      ],
      "text/plain": [
       "                                 Nome             Lote  \\\n",
       "0                     Casa Modernista     042.029.0021   \n",
       "1                                 Oca             None   \n",
       "2         Biblioteca Latino Americana             None   \n",
       "3           Colégio Caetano de Campos             None   \n",
       "4                               Copan  006.064.0000-06   \n",
       "5                          Martinelli  001.072.0000-01   \n",
       "6                            Banespão     001.074.0002   \n",
       "7  Faculdade de Direito São Francisco     005.013.0007   \n",
       "8                        Igreja da Sé     005.026.0001   \n",
       "9                       Coreto da Luz             None   \n",
       "\n",
       "                                            geometry  \n",
       "0  POLYGON ((333309.176 7389518.129, 333308.290 7...  \n",
       "1  POLYGON ((331023.350 7390484.674, 331023.350 7...  \n",
       "2  POLYGON ((329902.822 7397074.728, 330006.485 7...  \n",
       "3  POLYGON ((332159.584 7395288.375, 332240.211 7...  \n",
       "4  POLYGON ((332134.639 7395024.162, 332140.343 7...  \n",
       "5  POLYGON ((333062.581 7395130.320, 333068.549 7...  \n",
       "6  POLYGON ((333246.947 7395112.386, 333249.292 7...  \n",
       "7  POLYGON ((332950.887 7394641.380, 332939.286 7...  \n",
       "8  POLYGON ((333190.216 7394572.960, 333226.077 7...  \n",
       "9  POLYGON ((333064.671 7396500.426, 333064.671 7...  "
      ]
     },
     "execution_count": 4,
     "metadata": {},
     "output_type": "execute_result"
    }
   ],
   "source": [
    "areas_estudo"
   ]
  },
  {
   "cell_type": "code",
   "execution_count": 197,
   "metadata": {},
   "outputs": [],
   "source": [
    "s = areas_estudo.iloc[2].geometry"
   ]
  },
  {
   "cell_type": "code",
   "execution_count": 198,
   "metadata": {},
   "outputs": [
    {
     "data": {
      "text/plain": [
       "'POLYGON ((329902.8219270367 7397074.727579715, 330006.4848134278 7397065.041905987, 330001.9386054882 7397016.38519398, 329898.2757190971 7397026.070867708, 329902.8219270367 7397074.727579715))'"
      ]
     },
     "execution_count": 198,
     "metadata": {},
     "output_type": "execute_result"
    }
   ],
   "source": [
    "s.wkt"
   ]
  },
  {
   "cell_type": "code",
   "execution_count": 199,
   "metadata": {},
   "outputs": [],
   "source": [
    "bounds = ([s.bounds[0], s.bounds[2]], [s.bounds[1], s.bounds[3]])"
   ]
  },
  {
   "cell_type": "code",
   "execution_count": 200,
   "metadata": {},
   "outputs": [
    {
     "name": "stdout",
     "output_type": "stream",
     "text": [
      "CPU times: user 6.12 s, sys: 63.7 ms, total: 6.18 s\n",
      "Wall time: 6.7 s\n",
      "Pipeline selected 73257 points\n"
     ]
    }
   ],
   "source": [
    "ept = [\n",
    "    {\n",
    "      \"type\": \"readers.ept\",\n",
    "      \"filename\": \"https://ept-m3dc-pmsp.s3-sa-east-1.amazonaws.com/ept.json\",\n",
    "      \"bounds\": str(bounds)\n",
    "    },\n",
    "#     {\n",
    "#         \"type\":\"filters.voxelcentroidnearestneighbor\",\n",
    "#         \"cell\":0.5\n",
    "#     },\n",
    "    {\n",
    "        \"type\":\"filters.crop\",\n",
    "        \"polygon\":s.wkt\n",
    "    },\n",
    "    {   \n",
    "        \"type\":\"filters.hag_delaunay\"\n",
    "#     },\n",
    "#     {   \"type\":\"filters.eigenvalues\",\n",
    "#         \"knn\":16\n",
    "    },\n",
    "    {   \"type\":\"filters.normal\",\n",
    "        \"knn\":30\n",
    "    },\n",
    "    {\n",
    "        \"type\":\"filters.dbscan\",\n",
    "        \"min_points\":12,\n",
    "        \"eps\":1.5,\n",
    "        \"dimensions\":\"X,Y,Z\"\n",
    "    },\n",
    "#     {\n",
    "#         \"type\":\"filters.cluster\"\n",
    "#     },\n",
    "    {\n",
    "        \"type\":\"writers.las\",\n",
    "        \"compression\":\"laszip\",\n",
    "        \"filename\":\"results/coreto-luz.laz\"\n",
    "    }\n",
    "]\n",
    "\n",
    "pipeline = pdal.Pipeline(json.dumps(ept))\n",
    "pipeline.validate()\n",
    "%time n_points = pipeline.execute()\n",
    "print(f'Pipeline selected {n_points} points')"
   ]
  },
  {
   "cell_type": "code",
   "execution_count": 201,
   "metadata": {},
   "outputs": [
    {
     "data": {
      "text/html": [
       "<div>\n",
       "<style scoped>\n",
       "    .dataframe tbody tr th:only-of-type {\n",
       "        vertical-align: middle;\n",
       "    }\n",
       "\n",
       "    .dataframe tbody tr th {\n",
       "        vertical-align: top;\n",
       "    }\n",
       "\n",
       "    .dataframe thead th {\n",
       "        text-align: right;\n",
       "    }\n",
       "</style>\n",
       "<table border=\"1\" class=\"dataframe\">\n",
       "  <thead>\n",
       "    <tr style=\"text-align: right;\">\n",
       "      <th></th>\n",
       "      <th>X</th>\n",
       "      <th>Y</th>\n",
       "      <th>Z</th>\n",
       "      <th>Intensity</th>\n",
       "      <th>ReturnNumber</th>\n",
       "      <th>NumberOfReturns</th>\n",
       "      <th>ScanDirectionFlag</th>\n",
       "      <th>EdgeOfFlightLine</th>\n",
       "      <th>Classification</th>\n",
       "      <th>ScanAngleRank</th>\n",
       "      <th>...</th>\n",
       "      <th>Red</th>\n",
       "      <th>Green</th>\n",
       "      <th>Blue</th>\n",
       "      <th>OriginId</th>\n",
       "      <th>HeightAboveGround</th>\n",
       "      <th>NormalX</th>\n",
       "      <th>NormalY</th>\n",
       "      <th>NormalZ</th>\n",
       "      <th>Curvature</th>\n",
       "      <th>ClusterID</th>\n",
       "    </tr>\n",
       "  </thead>\n",
       "  <tbody>\n",
       "    <tr>\n",
       "      <th>0</th>\n",
       "      <td>329936.84</td>\n",
       "      <td>7397062.01</td>\n",
       "      <td>725.18</td>\n",
       "      <td>35</td>\n",
       "      <td>1</td>\n",
       "      <td>1</td>\n",
       "      <td>1</td>\n",
       "      <td>0</td>\n",
       "      <td>20</td>\n",
       "      <td>5.0</td>\n",
       "      <td>...</td>\n",
       "      <td>62720</td>\n",
       "      <td>62464</td>\n",
       "      <td>62208</td>\n",
       "      <td>2382</td>\n",
       "      <td>0.360000</td>\n",
       "      <td>0.087528</td>\n",
       "      <td>0.747467</td>\n",
       "      <td>0.658507</td>\n",
       "      <td>0.037247</td>\n",
       "      <td>0</td>\n",
       "    </tr>\n",
       "    <tr>\n",
       "      <th>1</th>\n",
       "      <td>329972.35</td>\n",
       "      <td>7397059.07</td>\n",
       "      <td>724.77</td>\n",
       "      <td>40</td>\n",
       "      <td>1</td>\n",
       "      <td>1</td>\n",
       "      <td>1</td>\n",
       "      <td>0</td>\n",
       "      <td>2</td>\n",
       "      <td>4.0</td>\n",
       "      <td>...</td>\n",
       "      <td>55552</td>\n",
       "      <td>54528</td>\n",
       "      <td>50944</td>\n",
       "      <td>2382</td>\n",
       "      <td>0.000000</td>\n",
       "      <td>-0.000179</td>\n",
       "      <td>0.244234</td>\n",
       "      <td>0.969716</td>\n",
       "      <td>0.081137</td>\n",
       "      <td>0</td>\n",
       "    </tr>\n",
       "    <tr>\n",
       "      <th>2</th>\n",
       "      <td>329972.09</td>\n",
       "      <td>7397022.43</td>\n",
       "      <td>724.69</td>\n",
       "      <td>42</td>\n",
       "      <td>1</td>\n",
       "      <td>1</td>\n",
       "      <td>0</td>\n",
       "      <td>0</td>\n",
       "      <td>2</td>\n",
       "      <td>12.0</td>\n",
       "      <td>...</td>\n",
       "      <td>36608</td>\n",
       "      <td>33536</td>\n",
       "      <td>26880</td>\n",
       "      <td>2382</td>\n",
       "      <td>0.000000</td>\n",
       "      <td>0.044045</td>\n",
       "      <td>0.013066</td>\n",
       "      <td>0.998944</td>\n",
       "      <td>0.017886</td>\n",
       "      <td>0</td>\n",
       "    </tr>\n",
       "    <tr>\n",
       "      <th>3</th>\n",
       "      <td>329998.77</td>\n",
       "      <td>7397045.08</td>\n",
       "      <td>751.11</td>\n",
       "      <td>11</td>\n",
       "      <td>1</td>\n",
       "      <td>2</td>\n",
       "      <td>0</td>\n",
       "      <td>0</td>\n",
       "      <td>6</td>\n",
       "      <td>11.0</td>\n",
       "      <td>...</td>\n",
       "      <td>21248</td>\n",
       "      <td>22272</td>\n",
       "      <td>19456</td>\n",
       "      <td>2382</td>\n",
       "      <td>26.422294</td>\n",
       "      <td>-0.926318</td>\n",
       "      <td>0.093899</td>\n",
       "      <td>0.364853</td>\n",
       "      <td>0.036412</td>\n",
       "      <td>22</td>\n",
       "    </tr>\n",
       "    <tr>\n",
       "      <th>4</th>\n",
       "      <td>329907.68</td>\n",
       "      <td>7397054.00</td>\n",
       "      <td>750.95</td>\n",
       "      <td>36</td>\n",
       "      <td>1</td>\n",
       "      <td>1</td>\n",
       "      <td>1</td>\n",
       "      <td>0</td>\n",
       "      <td>6</td>\n",
       "      <td>9.0</td>\n",
       "      <td>...</td>\n",
       "      <td>40448</td>\n",
       "      <td>42240</td>\n",
       "      <td>47360</td>\n",
       "      <td>2382</td>\n",
       "      <td>26.220000</td>\n",
       "      <td>0.905335</td>\n",
       "      <td>-0.124746</td>\n",
       "      <td>0.405965</td>\n",
       "      <td>0.026959</td>\n",
       "      <td>5</td>\n",
       "    </tr>\n",
       "  </tbody>\n",
       "</table>\n",
       "<p>5 rows × 23 columns</p>\n",
       "</div>"
      ],
      "text/plain": [
       "           X           Y       Z  Intensity  ReturnNumber  NumberOfReturns  \\\n",
       "0  329936.84  7397062.01  725.18         35             1                1   \n",
       "1  329972.35  7397059.07  724.77         40             1                1   \n",
       "2  329972.09  7397022.43  724.69         42             1                1   \n",
       "3  329998.77  7397045.08  751.11         11             1                2   \n",
       "4  329907.68  7397054.00  750.95         36             1                1   \n",
       "\n",
       "   ScanDirectionFlag  EdgeOfFlightLine  Classification  ScanAngleRank  ...  \\\n",
       "0                  1                 0              20            5.0  ...   \n",
       "1                  1                 0               2            4.0  ...   \n",
       "2                  0                 0               2           12.0  ...   \n",
       "3                  0                 0               6           11.0  ...   \n",
       "4                  1                 0               6            9.0  ...   \n",
       "\n",
       "     Red  Green   Blue  OriginId  HeightAboveGround   NormalX   NormalY  \\\n",
       "0  62720  62464  62208      2382           0.360000  0.087528  0.747467   \n",
       "1  55552  54528  50944      2382           0.000000 -0.000179  0.244234   \n",
       "2  36608  33536  26880      2382           0.000000  0.044045  0.013066   \n",
       "3  21248  22272  19456      2382          26.422294 -0.926318  0.093899   \n",
       "4  40448  42240  47360      2382          26.220000  0.905335 -0.124746   \n",
       "\n",
       "    NormalZ  Curvature  ClusterID  \n",
       "0  0.658507   0.037247          0  \n",
       "1  0.969716   0.081137          0  \n",
       "2  0.998944   0.017886          0  \n",
       "3  0.364853   0.036412         22  \n",
       "4  0.405965   0.026959          5  \n",
       "\n",
       "[5 rows x 23 columns]"
      ]
     },
     "execution_count": 201,
     "metadata": {},
     "output_type": "execute_result"
    }
   ],
   "source": [
    "import pandas as pd\n",
    "arr = pipeline.arrays[0]\n",
    "df = pd.DataFrame(arr)\n",
    "# print(df.head().to_latex(index=False))\n",
    "df.head()"
   ]
  },
  {
   "cell_type": "code",
   "execution_count": 202,
   "metadata": {},
   "outputs": [],
   "source": [
    "# Reduzindo valores a mínimos para poderem ser visualizados\n",
    "df[['X', 'Y', 'Z']] = df[['X', 'Y', 'Z']] - df[['X', 'Y', 'Z']].min()"
   ]
  },
  {
   "cell_type": "code",
   "execution_count": 203,
   "metadata": {},
   "outputs": [
    {
     "data": {
      "text/plain": [
       "array([20,  2,  6,  5, 19], dtype=uint8)"
      ]
     },
     "execution_count": 203,
     "metadata": {},
     "output_type": "execute_result"
    }
   ],
   "source": [
    "df.Classification.unique()"
   ]
  },
  {
   "cell_type": "code",
   "execution_count": 204,
   "metadata": {},
   "outputs": [],
   "source": [
    "## Separando apenas Buildings\n",
    "bd = df[df.Classification.isin([6])].reset_index()"
   ]
  },
  {
   "cell_type": "code",
   "execution_count": 205,
   "metadata": {},
   "outputs": [
    {
     "data": {
      "text/plain": [
       "array([22,  5,  0, -1, 11, 23, 14])"
      ]
     },
     "execution_count": 205,
     "metadata": {},
     "output_type": "execute_result"
    }
   ],
   "source": [
    "bd.ClusterID.unique()"
   ]
  },
  {
   "cell_type": "code",
   "execution_count": 206,
   "metadata": {},
   "outputs": [],
   "source": [
    "color_choices = np.random.rand(bd.ClusterID.max()+1, 3)"
   ]
  },
  {
   "cell_type": "code",
   "execution_count": 207,
   "metadata": {},
   "outputs": [],
   "source": [
    "colors = list(map(lambda x: color_choices[x], bd.ClusterID))"
   ]
  },
  {
   "cell_type": "code",
   "execution_count": 208,
   "metadata": {},
   "outputs": [
    {
     "data": {
      "application/vnd.jupyter.widget-view+json": {
       "model_id": "ac5e6fb804f14490a770541db8f2a1da",
       "version_major": 2,
       "version_minor": 0
      },
      "text/plain": [
       "VBox(children=(Figure(camera=PerspectiveCamera(fov=46.0, position=(0.0, 0.0, 2.0), quaternion=(0.0, 0.0, 0.0, …"
      ]
     },
     "metadata": {},
     "output_type": "display_data"
    }
   ],
   "source": [
    "import ipyvolume as p3 \n",
    "\n",
    "fig = p3.figure(width=1000)\n",
    "fig.xlabel='Y'\n",
    "fig.ylabel='Z'\n",
    "fig.zlabel='X'\n",
    "all_points = p3.scatter(bd['Y'], bd['Z'], bd['X'], color=colors, size=0.4)\n",
    "# all_points = p3.scatter(bd['Y'], bd['Z'], bd['X'], color=list(map(lambda x: [x,x,x], bd.Curvature)), size=1, marker='square_2d')\n",
    "\n",
    "p3.squarelim()\n",
    "\n",
    "p3.show()"
   ]
  },
  {
   "cell_type": "code",
   "execution_count": null,
   "metadata": {},
   "outputs": [],
   "source": []
  },
  {
   "cell_type": "code",
   "execution_count": null,
   "metadata": {},
   "outputs": [],
   "source": []
  },
  {
   "cell_type": "code",
   "execution_count": null,
   "metadata": {},
   "outputs": [],
   "source": []
  },
  {
   "cell_type": "code",
   "execution_count": null,
   "metadata": {},
   "outputs": [],
   "source": []
  },
  {
   "cell_type": "code",
   "execution_count": 209,
   "metadata": {},
   "outputs": [],
   "source": [
    "import shapely.geometry as geometry\n",
    "from scipy.spatial import Delaunay"
   ]
  },
  {
   "cell_type": "code",
   "execution_count": 210,
   "metadata": {},
   "outputs": [],
   "source": [
    "import alphashape"
   ]
  },
  {
   "cell_type": "code",
   "execution_count": 211,
   "metadata": {},
   "outputs": [],
   "source": [
    "poligono = []\n",
    "for i in bd.ClusterID.unique():\n",
    "    if i >= 0:\n",
    "        points = bd[bd.ClusterID == i][['X', 'Y']].to_numpy()\n",
    "        if len(points) > 90:\n",
    "            poli = alphashape.alphashape(geometry.MultiPoint(points), 0.4)\n",
    "            poligono.append(poli.simplify(0.60))\n",
    "#             display(poligono)"
   ]
  },
  {
   "cell_type": "code",
   "execution_count": 212,
   "metadata": {},
   "outputs": [
    {
     "data": {
      "text/html": [
       "<style>.container { width:100% !important; }</style>"
      ],
      "text/plain": [
       "<IPython.core.display.HTML object>"
      ]
     },
     "metadata": {},
     "output_type": "display_data"
    }
   ],
   "source": [
    "from IPython.core.display import display, HTML\n",
    "display(HTML(\"<style>.container { width:100% !important; }</style>\"))"
   ]
  },
  {
   "cell_type": "code",
   "execution_count": 213,
   "metadata": {},
   "outputs": [
    {
     "data": {
      "image/svg+xml": [
       "<svg xmlns=\"http://www.w3.org/2000/svg\" xmlns:xlink=\"http://www.w3.org/1999/xlink\" width=\"106.75800000003773\" height=\"100.0\" viewBox=\"5.065999999959022 6.496000000184868 106.75800000003773 46.61799999996555\" preserveAspectRatio=\"xMinYMin meet\"><g transform=\"matrix(1,0,0,-1,0,59.610000000335276)\"><g><path fill-rule=\"evenodd\" fill=\"#ff3333\" stroke=\"#555555\" stroke-width=\"2.0\" opacity=\"0.6\" d=\"M 99.85999999998603,24.209999999962747 L 98.5,24.15000000037253 L 98.19999999995343,25.080000000074506 L 98.42999999999302,27.87999999988824 L 99.82999999995809,29.62999999988824 L 99.85999999998603,24.209999999962747 z\" /><path fill-rule=\"evenodd\" fill=\"#ff3333\" stroke=\"#555555\" stroke-width=\"2.0\" opacity=\"0.6\" d=\"M 10.519999999960419,32.700000000186265 L 9.019999999960419,33.230000000447035 L 9.369999999995343,37.84999999962747 L 10.07999999995809,38.30999999959022 L 10.85999999998603,37.769999999552965 L 10.519999999960419,32.700000000186265 z\" /><path fill-rule=\"evenodd\" fill=\"#ff3333\" stroke=\"#555555\" stroke-width=\"2.0\" opacity=\"0.6\" d=\"M 82.9199999999837,10.450000000186265 L 40.289999999979045,14.120000000111759 L 23.069999999948777,16.549999999813735 L 23.44000000000233,31.299999999813735 L 20.30999999999767,32.71999999973923 L 10.940000000002328,33.769999999552965 L 11.039999999979045,36.96999999973923 L 20.5,36.12000000011176 L 23.69000000000233,36.82000000029802 L 24.839999999967404,39.12000000011176 L 25.65999999997439,46.299999999813735 L 53.289999999979045,44.299999999813735 L 53.25,41.16000000014901 L 60.35999999998603,39.67999999970198 L 53.039999999979045,39.049999999813735 L 52.76999999996042,36.96999999973923 L 54.72999999998137,34.65000000037253 L 61.25,33.50999999977648 L 62.84999999997672,33.79000000003725 L 65.40999999997439,38.09999999962747 L 66.46999999997206,43.20999999996275 L 75.31999999994878,41.09999999962747 L 86.05999999999767,40.62000000011176 L 85.94000000000233,30.929999999701977 L 88.05999999999767,29.419999999925494 L 98.53999999997905,28.679999999701977 L 98.46999999997206,27.78000000026077 L 98.10999999998603,24.71999999973923 L 87.72999999998137,26.37000000011176 L 85.57999999995809,25.37000000011176 L 84.47999999998137,22.769999999552965 L 82.9199999999837,10.450000000186265 z\" /><path fill-rule=\"evenodd\" fill=\"#ff3333\" stroke=\"#555555\" stroke-width=\"2.0\" opacity=\"0.6\" d=\"M 21.669999999983702,17.33999999985099 L 18.69000000000233,17.490000000223517 L 19.12999999994645,20.58999999985099 L 22.229999999981374,19.690000000409782 L 21.669999999983702,17.33999999985099 z\" /><path fill-rule=\"evenodd\" fill=\"#ff3333\" stroke=\"#555555\" stroke-width=\"2.0\" opacity=\"0.6\" d=\"M 63.36999999999534,35.37999999988824 L 54.71999999997206,35.78000000026077 L 53.009999999951106,36.99000000022352 L 53.02999999996973,37.95999999996275 L 62.69000000000233,37.69000000040978 L 64.87999999994645,36.33999999985099 L 63.36999999999534,35.37999999988824 z\" /><path fill-rule=\"evenodd\" fill=\"#ff3333\" stroke=\"#555555\" stroke-width=\"2.0\" opacity=\"0.6\" d=\"M 107.02999999996973,40.860000000335276 L 99.7599999999511,41.44000000040978 L 100.45999999996275,49.16000000014901 L 107.86999999999534,48.41000000014901 L 107.02999999996973,40.860000000335276 z\" /></g></g></svg>"
      ],
      "text/plain": [
       "<shapely.geometry.multipolygon.MultiPolygon at 0x7fba7c7d4350>"
      ]
     },
     "execution_count": 213,
     "metadata": {},
     "output_type": "execute_result"
    }
   ],
   "source": [
    "geometry.MultiPolygon(poligono)"
   ]
  },
  {
   "cell_type": "code",
   "execution_count": null,
   "metadata": {},
   "outputs": [],
   "source": []
  },
  {
   "cell_type": "code",
   "execution_count": null,
   "metadata": {},
   "outputs": [],
   "source": []
  },
  {
   "cell_type": "code",
   "execution_count": null,
   "metadata": {},
   "outputs": [],
   "source": []
  },
  {
   "cell_type": "code",
   "execution_count": null,
   "metadata": {},
   "outputs": [],
   "source": []
  },
  {
   "cell_type": "code",
   "execution_count": null,
   "metadata": {},
   "outputs": [],
   "source": []
  },
  {
   "cell_type": "code",
   "execution_count": 159,
   "metadata": {},
   "outputs": [],
   "source": [
    "import open3d as o3d"
   ]
  },
  {
   "cell_type": "code",
   "execution_count": 160,
   "metadata": {},
   "outputs": [
    {
     "data": {
      "text/plain": [
       "array([[96.34, 23.34, 25.91],\n",
       "       [36.25, 84.97, 27.58],\n",
       "       [98.55, 77.56, 24.56],\n",
       "       ...,\n",
       "       [73.31, 69.95, 27.01],\n",
       "       [73.28, 70.49, 27.34],\n",
       "       [73.27, 70.95, 27.38]])"
      ]
     },
     "execution_count": 160,
     "metadata": {},
     "output_type": "execute_result"
    }
   ],
   "source": [
    "bd[['X', 'Y', 'Z']].to_numpy()"
   ]
  },
  {
   "cell_type": "code",
   "execution_count": 161,
   "metadata": {},
   "outputs": [],
   "source": [
    "pcd = o3d.geometry.PointCloud()\n",
    "pcd.points = o3d.utility.Vector3dVector(bd[['X', 'Y', 'Z']].to_numpy())"
   ]
  },
  {
   "cell_type": "code",
   "execution_count": 162,
   "metadata": {},
   "outputs": [],
   "source": [
    "o3d.visualization.draw_geometries([pcd])"
   ]
  },
  {
   "cell_type": "code",
   "execution_count": 86,
   "metadata": {},
   "outputs": [],
   "source": [
    "diameter = np.linalg.norm(np.asarray(pcd.get_max_bound()) - np.asarray(pcd.get_min_bound()))\n",
    "o3d.visualization.draw_geometries([pcd])"
   ]
  },
  {
   "cell_type": "code",
   "execution_count": 87,
   "metadata": {},
   "outputs": [
    {
     "data": {
      "text/plain": [
       "207.52384947289522"
      ]
     },
     "execution_count": 87,
     "metadata": {},
     "output_type": "execute_result"
    }
   ],
   "source": [
    "diameter"
   ]
  },
  {
   "cell_type": "code",
   "execution_count": 88,
   "metadata": {},
   "outputs": [
    {
     "name": "stdout",
     "output_type": "stream",
     "text": [
      "Define parameters used for hidden_point_removal\n",
      "Get all points that are visible from given view point\n",
      "Visualize result\n"
     ]
    }
   ],
   "source": [
    "\n",
    "print(\"Define parameters used for hidden_point_removal\")\n",
    "camera = [0, 0, diameter]\n",
    "radius = diameter * 1000\n",
    "\n",
    "print(\"Get all points that are visible from given view point\")\n",
    "_, pt_map = pcd.hidden_point_removal(camera, radius)\n",
    "\n",
    "print(\"Visualize result\")\n",
    "pcd = pcd.select_by_index(pt_map)\n",
    "o3d.visualization.draw_geometries([pcd])\n",
    "\n"
   ]
  },
  {
   "cell_type": "code",
   "execution_count": null,
   "metadata": {},
   "outputs": [],
   "source": []
  }
 ],
 "metadata": {
  "kernelspec": {
   "display_name": "Python 3",
   "language": "python",
   "name": "python3"
  },
  "language_info": {
   "codemirror_mode": {
    "name": "ipython",
    "version": 3
   },
   "file_extension": ".py",
   "mimetype": "text/x-python",
   "name": "python",
   "nbconvert_exporter": "python",
   "pygments_lexer": "ipython3",
   "version": "3.7.6"
  }
 },
 "nbformat": 4,
 "nbformat_minor": 4
}
