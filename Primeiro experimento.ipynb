{
 "cells": [
  {
   "cell_type": "markdown",
   "metadata": {},
   "source": [
    "# Primeiro Experimento\n",
    "\n",
    "Nesse primeiro experimento vamos realizar a reconstrução 3D de alguns edifícios levando em conta os seguintes critérios:\n",
    "\n",
    "* Complexidade da cobertura - Igreja da Sé\n",
    "* Diversidade de platos horizontais - Banespão\n",
    "* Pojeção com curvaturas - Copan\n",
    "* Topologias com rings interiores - Faculdade de Direito São Francisco\n",
    "* Telhados com diversas águas - Colégio Caetano de Campos (República)\n",
    "* Coberturas com curvatura simples - Biblioteca Latino Americana (Memorial da América Latina)\n",
    "* Coberturas com dupla curvatura - Oca\n",
    "* Edifícios com recortes em projeção - Martinelli\n",
    "* Lotes com múltiplos edifícios separados - Casa Modernista\n",
    "* Feição simples - Coreto da Luz\n",
    "\n",
    "## Selecionando os elementos\n",
    "\n",
    "Em muitos dos casos acima oso lotes coincidem com a edificação, mas em outros casos teremos que definir uma geometria de recorte. Para isso vamos criar uma tabela\n",
    "\n",
    "## Objetivo inicial\n",
    "\n",
    "Reconstruir as gemetrias com LOD1.3, e discutir as possibilidades de criação de LOD2.0\n",
    "\n",
    "## Obtendo os dados\n",
    "\n",
    "Os polígonos  das áreas de estudo estão em um arquivo contendo os 10 registros"
   ]
  },
  {
   "cell_type": "code",
   "execution_count": 1,
   "metadata": {},
   "outputs": [],
   "source": [
    "import pdal\n",
    "import json\n",
    "import numpy as np"
   ]
  },
  {
   "cell_type": "code",
   "execution_count": 2,
   "metadata": {},
   "outputs": [],
   "source": [
    "import geopandas as gpd"
   ]
  },
  {
   "cell_type": "code",
   "execution_count": 3,
   "metadata": {},
   "outputs": [],
   "source": [
    "areas_estudo = gpd.read_file(\"./gis/locais-selecionados.gpkg\", layer='locais-selecionados')"
   ]
  },
  {
   "cell_type": "code",
   "execution_count": 4,
   "metadata": {},
   "outputs": [
    {
     "data": {
      "text/html": [
       "<div>\n",
       "<style scoped>\n",
       "    .dataframe tbody tr th:only-of-type {\n",
       "        vertical-align: middle;\n",
       "    }\n",
       "\n",
       "    .dataframe tbody tr th {\n",
       "        vertical-align: top;\n",
       "    }\n",
       "\n",
       "    .dataframe thead th {\n",
       "        text-align: right;\n",
       "    }\n",
       "</style>\n",
       "<table border=\"1\" class=\"dataframe\">\n",
       "  <thead>\n",
       "    <tr style=\"text-align: right;\">\n",
       "      <th></th>\n",
       "      <th>Nome</th>\n",
       "      <th>Lote</th>\n",
       "      <th>geometry</th>\n",
       "    </tr>\n",
       "  </thead>\n",
       "  <tbody>\n",
       "    <tr>\n",
       "      <th>0</th>\n",
       "      <td>Casa Modernista</td>\n",
       "      <td>042.029.0021</td>\n",
       "      <td>POLYGON ((333309.176 7389518.129, 333308.290 7...</td>\n",
       "    </tr>\n",
       "    <tr>\n",
       "      <th>1</th>\n",
       "      <td>Oca</td>\n",
       "      <td>None</td>\n",
       "      <td>POLYGON ((331023.350 7390484.674, 331023.350 7...</td>\n",
       "    </tr>\n",
       "    <tr>\n",
       "      <th>2</th>\n",
       "      <td>Biblioteca Latino Americana</td>\n",
       "      <td>None</td>\n",
       "      <td>POLYGON ((329902.822 7397074.728, 330006.485 7...</td>\n",
       "    </tr>\n",
       "    <tr>\n",
       "      <th>3</th>\n",
       "      <td>Colégio Caetano de Campos</td>\n",
       "      <td>None</td>\n",
       "      <td>POLYGON ((332159.584 7395288.375, 332240.211 7...</td>\n",
       "    </tr>\n",
       "    <tr>\n",
       "      <th>4</th>\n",
       "      <td>Copan</td>\n",
       "      <td>006.064.0000-06</td>\n",
       "      <td>POLYGON ((332134.639 7395024.162, 332140.343 7...</td>\n",
       "    </tr>\n",
       "    <tr>\n",
       "      <th>5</th>\n",
       "      <td>Martinelli</td>\n",
       "      <td>001.072.0000-01</td>\n",
       "      <td>POLYGON ((333062.581 7395130.320, 333068.549 7...</td>\n",
       "    </tr>\n",
       "    <tr>\n",
       "      <th>6</th>\n",
       "      <td>Banespão</td>\n",
       "      <td>001.074.0002</td>\n",
       "      <td>POLYGON ((333246.947 7395112.386, 333249.292 7...</td>\n",
       "    </tr>\n",
       "    <tr>\n",
       "      <th>7</th>\n",
       "      <td>Faculdade de Direito São Francisco</td>\n",
       "      <td>005.013.0007</td>\n",
       "      <td>POLYGON ((332950.887 7394641.380, 332939.286 7...</td>\n",
       "    </tr>\n",
       "    <tr>\n",
       "      <th>8</th>\n",
       "      <td>Igreja da Sé</td>\n",
       "      <td>005.026.0001</td>\n",
       "      <td>POLYGON ((333190.216 7394572.960, 333226.077 7...</td>\n",
       "    </tr>\n",
       "    <tr>\n",
       "      <th>9</th>\n",
       "      <td>Coreto da Luz</td>\n",
       "      <td>None</td>\n",
       "      <td>POLYGON ((333064.671 7396500.426, 333064.671 7...</td>\n",
       "    </tr>\n",
       "  </tbody>\n",
       "</table>\n",
       "</div>"
      ],
      "text/plain": [
       "                                 Nome             Lote  \\\n",
       "0                     Casa Modernista     042.029.0021   \n",
       "1                                 Oca             None   \n",
       "2         Biblioteca Latino Americana             None   \n",
       "3           Colégio Caetano de Campos             None   \n",
       "4                               Copan  006.064.0000-06   \n",
       "5                          Martinelli  001.072.0000-01   \n",
       "6                            Banespão     001.074.0002   \n",
       "7  Faculdade de Direito São Francisco     005.013.0007   \n",
       "8                        Igreja da Sé     005.026.0001   \n",
       "9                       Coreto da Luz             None   \n",
       "\n",
       "                                            geometry  \n",
       "0  POLYGON ((333309.176 7389518.129, 333308.290 7...  \n",
       "1  POLYGON ((331023.350 7390484.674, 331023.350 7...  \n",
       "2  POLYGON ((329902.822 7397074.728, 330006.485 7...  \n",
       "3  POLYGON ((332159.584 7395288.375, 332240.211 7...  \n",
       "4  POLYGON ((332134.639 7395024.162, 332140.343 7...  \n",
       "5  POLYGON ((333062.581 7395130.320, 333068.549 7...  \n",
       "6  POLYGON ((333246.947 7395112.386, 333249.292 7...  \n",
       "7  POLYGON ((332950.887 7394641.380, 332939.286 7...  \n",
       "8  POLYGON ((333190.216 7394572.960, 333226.077 7...  \n",
       "9  POLYGON ((333064.671 7396500.426, 333064.671 7...  "
      ]
     },
     "execution_count": 4,
     "metadata": {},
     "output_type": "execute_result"
    }
   ],
   "source": [
    "areas_estudo"
   ]
  },
  {
   "cell_type": "code",
   "execution_count": 231,
   "metadata": {},
   "outputs": [],
   "source": [
    "s = areas_estudo.iloc[5].geometry"
   ]
  },
  {
   "cell_type": "code",
   "execution_count": 232,
   "metadata": {},
   "outputs": [
    {
     "data": {
      "text/plain": [
       "'POLYGON ((333062.5814232747 7395130.31986957, 333068.5494283844 7395140.856384199, 333061.0400180027 7395145.107487863, 333050.5472034962 7395151.047592985, 333057.939409341 7395166.236413801, 333061.6794138102 7395167.226415892, 333071.070226799 7395161.877811269, 333078.3787369092 7395157.71520767, 333087.0496489027 7395152.7767034, 333094.4981592054 7395148.534299731, 333102.9275708647 7395143.733295581, 333110.209280936 7395139.585991996, 333119.6194939531 7395134.226387362, 333120.189495335 7395131.26638376, 333107.7292852887 7395106.526449762, 333095.1373679939 7395113.162555287, 333088.0106582045 7395116.918458413, 333078.9877458113 7395121.67356237, 333071.8293359788 7395125.446165513, 333062.5814232747 7395130.31986957))'"
      ]
     },
     "execution_count": 232,
     "metadata": {},
     "output_type": "execute_result"
    }
   ],
   "source": [
    "s.wkt"
   ]
  },
  {
   "cell_type": "code",
   "execution_count": 233,
   "metadata": {},
   "outputs": [],
   "source": [
    "bounds = ([s.bounds[0], s.bounds[2]], [s.bounds[1], s.bounds[3]])"
   ]
  },
  {
   "cell_type": "code",
   "execution_count": 234,
   "metadata": {},
   "outputs": [
    {
     "name": "stdout",
     "output_type": "stream",
     "text": [
      "CPU times: user 3.87 s, sys: 40.2 ms, total: 3.91 s\n",
      "Wall time: 4.75 s\n",
      "Pipeline selected 39532 points\n"
     ]
    }
   ],
   "source": [
    "ept = [\n",
    "    {\n",
    "      \"type\": \"readers.ept\",\n",
    "      \"filename\": \"https://ept-m3dc-pmsp.s3-sa-east-1.amazonaws.com/ept.json\",\n",
    "      \"bounds\": str(bounds)\n",
    "    },\n",
    "    {\n",
    "        \"type\":\"filters.crop\",\n",
    "        \"polygon\":s.wkt\n",
    "    },\n",
    "    {   \n",
    "        \"type\":\"filters.hag_delaunay\"\n",
    "#     },\n",
    "#     {   \"type\":\"filters.eigenvalues\",\n",
    "#         \"knn\":16\n",
    "    },\n",
    "    {   \"type\":\"filters.normal\",\n",
    "        \"knn\":30\n",
    "    },\n",
    "    {\n",
    "        \"type\":\"filters.dbscan\",\n",
    "        \"min_points\":12,\n",
    "        \"eps\":1.5,\n",
    "        \"dimensions\":\"X,Y,Z\"\n",
    "    },\n",
    "#     {\n",
    "#         \"type\":\"filters.cluster\"\n",
    "#     },\n",
    "    {\n",
    "        \"type\":\"writers.las\",\n",
    "        \"compression\":\"laszip\",\n",
    "        \"filename\":\"results/coreto-luz.laz\"\n",
    "    }\n",
    "]\n",
    "\n",
    "pipeline = pdal.Pipeline(json.dumps(ept))\n",
    "pipeline.validate()\n",
    "%time n_points = pipeline.execute()\n",
    "print(f'Pipeline selected {n_points} points')"
   ]
  },
  {
   "cell_type": "code",
   "execution_count": 235,
   "metadata": {},
   "outputs": [
    {
     "data": {
      "text/html": [
       "<div>\n",
       "<style scoped>\n",
       "    .dataframe tbody tr th:only-of-type {\n",
       "        vertical-align: middle;\n",
       "    }\n",
       "\n",
       "    .dataframe tbody tr th {\n",
       "        vertical-align: top;\n",
       "    }\n",
       "\n",
       "    .dataframe thead th {\n",
       "        text-align: right;\n",
       "    }\n",
       "</style>\n",
       "<table border=\"1\" class=\"dataframe\">\n",
       "  <thead>\n",
       "    <tr style=\"text-align: right;\">\n",
       "      <th></th>\n",
       "      <th>X</th>\n",
       "      <th>Y</th>\n",
       "      <th>Z</th>\n",
       "      <th>Intensity</th>\n",
       "      <th>ReturnNumber</th>\n",
       "      <th>NumberOfReturns</th>\n",
       "      <th>ScanDirectionFlag</th>\n",
       "      <th>EdgeOfFlightLine</th>\n",
       "      <th>Classification</th>\n",
       "      <th>ScanAngleRank</th>\n",
       "      <th>...</th>\n",
       "      <th>Red</th>\n",
       "      <th>Green</th>\n",
       "      <th>Blue</th>\n",
       "      <th>OriginId</th>\n",
       "      <th>HeightAboveGround</th>\n",
       "      <th>NormalX</th>\n",
       "      <th>NormalY</th>\n",
       "      <th>NormalZ</th>\n",
       "      <th>Curvature</th>\n",
       "      <th>ClusterID</th>\n",
       "    </tr>\n",
       "  </thead>\n",
       "  <tbody>\n",
       "    <tr>\n",
       "      <th>0</th>\n",
       "      <td>333081.46</td>\n",
       "      <td>7395142.67</td>\n",
       "      <td>740.47</td>\n",
       "      <td>8</td>\n",
       "      <td>1</td>\n",
       "      <td>1</td>\n",
       "      <td>0</td>\n",
       "      <td>0</td>\n",
       "      <td>19</td>\n",
       "      <td>3.0</td>\n",
       "      <td>...</td>\n",
       "      <td>58880</td>\n",
       "      <td>57088</td>\n",
       "      <td>55296</td>\n",
       "      <td>2548</td>\n",
       "      <td>-1.359339</td>\n",
       "      <td>-0.568556</td>\n",
       "      <td>0.821024</td>\n",
       "      <td>0.051605</td>\n",
       "      <td>0.091759</td>\n",
       "      <td>-1</td>\n",
       "    </tr>\n",
       "    <tr>\n",
       "      <th>1</th>\n",
       "      <td>333052.18</td>\n",
       "      <td>7395153.04</td>\n",
       "      <td>737.99</td>\n",
       "      <td>6</td>\n",
       "      <td>2</td>\n",
       "      <td>2</td>\n",
       "      <td>0</td>\n",
       "      <td>0</td>\n",
       "      <td>2</td>\n",
       "      <td>9.0</td>\n",
       "      <td>...</td>\n",
       "      <td>36352</td>\n",
       "      <td>31488</td>\n",
       "      <td>35328</td>\n",
       "      <td>2545</td>\n",
       "      <td>0.000000</td>\n",
       "      <td>-0.896020</td>\n",
       "      <td>0.443955</td>\n",
       "      <td>0.007221</td>\n",
       "      <td>0.009312</td>\n",
       "      <td>-1</td>\n",
       "    </tr>\n",
       "    <tr>\n",
       "      <th>2</th>\n",
       "      <td>333053.83</td>\n",
       "      <td>7395153.31</td>\n",
       "      <td>832.12</td>\n",
       "      <td>22</td>\n",
       "      <td>1</td>\n",
       "      <td>1</td>\n",
       "      <td>0</td>\n",
       "      <td>0</td>\n",
       "      <td>6</td>\n",
       "      <td>5.0</td>\n",
       "      <td>...</td>\n",
       "      <td>60160</td>\n",
       "      <td>59392</td>\n",
       "      <td>58112</td>\n",
       "      <td>2545</td>\n",
       "      <td>93.990438</td>\n",
       "      <td>-0.424731</td>\n",
       "      <td>0.292404</td>\n",
       "      <td>0.856798</td>\n",
       "      <td>0.047660</td>\n",
       "      <td>-1</td>\n",
       "    </tr>\n",
       "    <tr>\n",
       "      <th>3</th>\n",
       "      <td>333052.43</td>\n",
       "      <td>7395153.50</td>\n",
       "      <td>776.04</td>\n",
       "      <td>19</td>\n",
       "      <td>1</td>\n",
       "      <td>1</td>\n",
       "      <td>0</td>\n",
       "      <td>0</td>\n",
       "      <td>6</td>\n",
       "      <td>10.0</td>\n",
       "      <td>...</td>\n",
       "      <td>57600</td>\n",
       "      <td>58112</td>\n",
       "      <td>60416</td>\n",
       "      <td>2545</td>\n",
       "      <td>38.068199</td>\n",
       "      <td>-0.892624</td>\n",
       "      <td>0.450686</td>\n",
       "      <td>0.010178</td>\n",
       "      <td>0.000674</td>\n",
       "      <td>-1</td>\n",
       "    </tr>\n",
       "    <tr>\n",
       "      <th>4</th>\n",
       "      <td>333058.24</td>\n",
       "      <td>7395165.35</td>\n",
       "      <td>737.44</td>\n",
       "      <td>16</td>\n",
       "      <td>1</td>\n",
       "      <td>1</td>\n",
       "      <td>1</td>\n",
       "      <td>0</td>\n",
       "      <td>2</td>\n",
       "      <td>8.0</td>\n",
       "      <td>...</td>\n",
       "      <td>60672</td>\n",
       "      <td>57088</td>\n",
       "      <td>51712</td>\n",
       "      <td>2545</td>\n",
       "      <td>0.000000</td>\n",
       "      <td>-0.849588</td>\n",
       "      <td>0.527149</td>\n",
       "      <td>0.017729</td>\n",
       "      <td>0.007780</td>\n",
       "      <td>-1</td>\n",
       "    </tr>\n",
       "  </tbody>\n",
       "</table>\n",
       "<p>5 rows × 23 columns</p>\n",
       "</div>"
      ],
      "text/plain": [
       "           X           Y       Z  Intensity  ReturnNumber  NumberOfReturns  \\\n",
       "0  333081.46  7395142.67  740.47          8             1                1   \n",
       "1  333052.18  7395153.04  737.99          6             2                2   \n",
       "2  333053.83  7395153.31  832.12         22             1                1   \n",
       "3  333052.43  7395153.50  776.04         19             1                1   \n",
       "4  333058.24  7395165.35  737.44         16             1                1   \n",
       "\n",
       "   ScanDirectionFlag  EdgeOfFlightLine  Classification  ScanAngleRank  ...  \\\n",
       "0                  0                 0              19            3.0  ...   \n",
       "1                  0                 0               2            9.0  ...   \n",
       "2                  0                 0               6            5.0  ...   \n",
       "3                  0                 0               6           10.0  ...   \n",
       "4                  1                 0               2            8.0  ...   \n",
       "\n",
       "     Red  Green   Blue  OriginId  HeightAboveGround   NormalX   NormalY  \\\n",
       "0  58880  57088  55296      2548          -1.359339 -0.568556  0.821024   \n",
       "1  36352  31488  35328      2545           0.000000 -0.896020  0.443955   \n",
       "2  60160  59392  58112      2545          93.990438 -0.424731  0.292404   \n",
       "3  57600  58112  60416      2545          38.068199 -0.892624  0.450686   \n",
       "4  60672  57088  51712      2545           0.000000 -0.849588  0.527149   \n",
       "\n",
       "    NormalZ  Curvature  ClusterID  \n",
       "0  0.051605   0.091759         -1  \n",
       "1  0.007221   0.009312         -1  \n",
       "2  0.856798   0.047660         -1  \n",
       "3  0.010178   0.000674         -1  \n",
       "4  0.017729   0.007780         -1  \n",
       "\n",
       "[5 rows x 23 columns]"
      ]
     },
     "execution_count": 235,
     "metadata": {},
     "output_type": "execute_result"
    }
   ],
   "source": [
    "import pandas as pd\n",
    "arr = pipeline.arrays[0]\n",
    "df = pd.DataFrame(arr)\n",
    "# print(df.head().to_latex(index=False))\n",
    "df.head()"
   ]
  },
  {
   "cell_type": "code",
   "execution_count": 236,
   "metadata": {},
   "outputs": [],
   "source": [
    "# Reduzindo valores a mínimos para poderem ser visualizados\n",
    "df[['X', 'Y', 'Z']] = df[['X', 'Y', 'Z']] - df[['X', 'Y', 'Z']].min()"
   ]
  },
  {
   "cell_type": "code",
   "execution_count": 237,
   "metadata": {},
   "outputs": [
    {
     "data": {
      "text/plain": [
       "array([19,  2,  6, 20], dtype=uint8)"
      ]
     },
     "execution_count": 237,
     "metadata": {},
     "output_type": "execute_result"
    }
   ],
   "source": [
    "df.Classification.unique()"
   ]
  },
  {
   "cell_type": "code",
   "execution_count": 238,
   "metadata": {},
   "outputs": [],
   "source": [
    "## Separando apenas Buildings\n",
    "bd = df[df.Classification.isin([6])].reset_index()"
   ]
  },
  {
   "cell_type": "code",
   "execution_count": 239,
   "metadata": {},
   "outputs": [
    {
     "data": {
      "text/plain": [
       "array([ -1,   0,   1,  31,   2,  20,  55,   3,   4,   5,  76,   6,  96,\n",
       "        42,   7,   8,   9,  10,  11,  12,  15,  13,  81,  33, 121,  32,\n",
       "        88,  14, 118,  16,  17,  35,  94,  18,  19, 109,  41,  87,  44,\n",
       "       113,  48, 114,  47, 117,  54, 116,  50,  53,  21,  22,  67,  66,\n",
       "        65,  64, 104,  23,  74,  69,  68,  71,  72,  24,  25,  26,  27,\n",
       "        28,  82,  29,  34,  30, 122,  40, 120,  86,  83,  84,  77,  36,\n",
       "        37,  38, 106,  99, 101, 112,  39,  43,  45,  46, 115,  49,  56,\n",
       "        51,  52,  57,  58,  80, 110,  59,  60,  61,  62,  63,  75,  70,\n",
       "        73,  91,  78,  79,  92,  85,  89, 119, 123,  90,  93, 105,  95,\n",
       "       111,  97,  98, 107, 100, 108, 102, 103])"
      ]
     },
     "execution_count": 239,
     "metadata": {},
     "output_type": "execute_result"
    }
   ],
   "source": [
    "bd.ClusterID.unique()"
   ]
  },
  {
   "cell_type": "code",
   "execution_count": 240,
   "metadata": {},
   "outputs": [],
   "source": [
    "color_choices = np.random.rand(bd.ClusterID.max()+1, 3)"
   ]
  },
  {
   "cell_type": "code",
   "execution_count": 241,
   "metadata": {},
   "outputs": [],
   "source": [
    "colors = list(map(lambda x: color_choices[x], bd.ClusterID))"
   ]
  },
  {
   "cell_type": "code",
   "execution_count": 242,
   "metadata": {},
   "outputs": [
    {
     "data": {
      "application/vnd.jupyter.widget-view+json": {
       "model_id": "a6b442027f064b8e9ac9fbb267f4cc99",
       "version_major": 2,
       "version_minor": 0
      },
      "text/plain": [
       "VBox(children=(Figure(camera=PerspectiveCamera(fov=46.0, position=(0.0, 0.0, 2.0), quaternion=(0.0, 0.0, 0.0, …"
      ]
     },
     "metadata": {},
     "output_type": "display_data"
    }
   ],
   "source": [
    "import ipyvolume as p3 \n",
    "\n",
    "fig = p3.figure(width=1000)\n",
    "fig.xlabel='Y'\n",
    "fig.ylabel='Z'\n",
    "fig.zlabel='X'\n",
    "all_points = p3.scatter(bd['Y'], bd['Z'], bd['X'], color=colors, size=0.4)\n",
    "# all_points = p3.scatter(bd['Y'], bd['Z'], bd['X'], color=list(map(lambda x: [x,x,x], bd.Curvature)), size=1, marker='square_2d')\n",
    "\n",
    "p3.squarelim()\n",
    "\n",
    "p3.show()"
   ]
  },
  {
   "cell_type": "code",
   "execution_count": null,
   "metadata": {},
   "outputs": [],
   "source": []
  },
  {
   "cell_type": "code",
   "execution_count": null,
   "metadata": {},
   "outputs": [],
   "source": []
  },
  {
   "cell_type": "code",
   "execution_count": null,
   "metadata": {},
   "outputs": [],
   "source": []
  },
  {
   "cell_type": "code",
   "execution_count": null,
   "metadata": {},
   "outputs": [],
   "source": []
  },
  {
   "cell_type": "code",
   "execution_count": 243,
   "metadata": {},
   "outputs": [],
   "source": [
    "import shapely.geometry as geometry\n",
    "from scipy.spatial import Delaunay"
   ]
  },
  {
   "cell_type": "code",
   "execution_count": 244,
   "metadata": {},
   "outputs": [],
   "source": [
    "import alphashape"
   ]
  },
  {
   "cell_type": "code",
   "execution_count": 248,
   "metadata": {},
   "outputs": [],
   "source": [
    "poligono = []\n",
    "for i in bd.ClusterID.unique():\n",
    "    if i >= 0:\n",
    "        points = bd[bd.ClusterID == i][['X', 'Y']].to_numpy()\n",
    "        if len(points) > 90:\n",
    "            poli = alphashape.alphashape(geometry.MultiPoint(points), 0.4)\n",
    "            poligono.append(poli.simplify(0.60))\n",
    "#             display(poligono)"
   ]
  },
  {
   "cell_type": "code",
   "execution_count": 249,
   "metadata": {},
   "outputs": [
    {
     "data": {
      "text/html": [
       "<style>.container { width:100% !important; }</style>"
      ],
      "text/plain": [
       "<IPython.core.display.HTML object>"
      ]
     },
     "metadata": {},
     "output_type": "display_data"
    }
   ],
   "source": [
    "from IPython.core.display import display, HTML\n",
    "display(HTML(\"<style>.container { width:100% !important; }</style>\"))"
   ]
  },
  {
   "cell_type": "code",
   "execution_count": 250,
   "metadata": {},
   "outputs": [
    {
     "data": {
      "image/svg+xml": [
       "<svg xmlns=\"http://www.w3.org/2000/svg\" xmlns:xlink=\"http://www.w3.org/1999/xlink\" width=\"100.0\" height=\"100.0\" viewBox=\"-2.0684000000264495 -2.1784000001871027 73.66680000002262 65.14680000041146\" preserveAspectRatio=\"xMinYMin meet\"><g transform=\"matrix(1,0,0,-1,0,60.79000000003725)\"><g><path fill-rule=\"evenodd\" fill=\"#ff3333\" stroke=\"#555555\" stroke-width=\"1.4733360000004523\" opacity=\"0.6\" d=\"M 43.039999999979045,20.28000000026077 L 26.0,29.21999999973923 L 22.96999999997206,28.299999999813735 L 21.89000000001397,26.90000000037253 L 20.45000000001164,27.580000000074506 L 18.60999999998603,28.860000000335276 L 17.820000000006985,34.549999999813735 L 18.630000000004657,34.889999999664724 L 38.09999999997672,24.190000000409782 L 43.4199999999837,21.110000000335276 L 43.039999999979045,20.28000000026077 z\" /><path fill-rule=\"evenodd\" fill=\"#ff3333\" stroke=\"#555555\" stroke-width=\"1.4733360000004523\" opacity=\"0.6\" d=\"M 56.90000000002328,0.5499999998137355 L 44.02000000001863,7.099999999627471 L 46.4199999999837,11.950000000186265 L 45.1699999999837,14.679999999701977 L 43.90999999997439,15.379999999888241 L 40.44000000000233,14.209999999962747 L 37.96999999997206,9.959999999962747 L 28.19000000000233,15.120000000111759 L 30.25,20.16000000014901 L 27.960000000020955,23.980000000447035 L 24.419999999983702,23.03000000026077 L 22.09000000002561,18.440000000409782 L 12.25,24.070000000298023 L 16.849999999976717,32.27000000048429 L 15.89000000001397,35.50999999977648 L 0.8400000000256114,43.91000000014901 L 8.760000000009313,59.639999999664724 L 11.489999999990687,60.24000000022352 L 20.239999999990687,55.17999999970198 L 18.789999999979045,52.07000000029802 L 19.71999999997206,49.19000000040978 L 22.679999999993015,47.37000000011176 L 26.130000000004657,48.450000000186265 L 27.45000000001164,50.99000000022352 L 35.34999999997672,46.67999999970198 L 36.210000000020955,45.549999999813735 L 34.59999999997672,42.450000000186265 L 36.4199999999837,39.230000000447035 L 41.40000000002328,38.46999999973923 L 43.54999999998836,41.90000000037253 L 51.039999999979045,37.58999999985099 L 52.02000000001863,36.0 L 50.4199999999837,33.44000000040978 L 52.19000000000233,30.209999999962747 L 53.98999999999069,28.940000000409782 L 57.75,30.190000000409782 L 59.35999999998603,32.57000000029802 L 67.71000000002095,27.230000000447035 L 68.86999999999534,23.40000000037253 L 56.90000000002328,0.5499999998137355 z\" /><path fill-rule=\"evenodd\" fill=\"#ff3333\" stroke=\"#555555\" stroke-width=\"1.4733360000004523\" opacity=\"0.6\" d=\"M 56.0800000000163,28.320000000298023 L 51.0,32.21999999973923 L 50.86999999999534,33.90000000037253 L 52.90999999997439,36.639999999664724 L 58.52000000001863,32.96999999973923 L 56.0800000000163,28.320000000298023 z\" /><path fill-rule=\"evenodd\" fill=\"#ff3333\" stroke=\"#555555\" stroke-width=\"1.4733360000004523\" opacity=\"0.6\" d=\"M 55.210000000020955,5.53000000026077 L 49.4199999999837,7.810000000521541 L 49.45000000001164,8.610000000335276 L 57.8300000000163,22.87000000011176 L 62.86999999999534,19.58999999985099 L 55.210000000020955,5.53000000026077 z\" /><path fill-rule=\"evenodd\" fill=\"#ff3333\" stroke=\"#555555\" stroke-width=\"1.4733360000004523\" opacity=\"0.6\" d=\"M 38.90000000002328,9.799999999813735 L 40.89000000001397,15.860000000335276 L 41.84000000002561,16.490000000223517 L 44.960000000020955,14.570000000298023 L 45.15999999997439,13.580000000074506 L 43.90999999997439,14.290000000037253 L 40.570000000006985,12.730000000447035 L 38.90000000002328,9.799999999813735 z\" /><path fill-rule=\"evenodd\" fill=\"#ff3333\" stroke=\"#555555\" stroke-width=\"1.4733360000004523\" opacity=\"0.6\" d=\"M 8.590000000025611,40.66000000014901 L 3.1900000000023283,43.21999999973923 L 8.029999999969732,52.06000000052154 L 13.270000000018626,49.200000000186265 L 8.590000000025611,40.66000000014901 z\" /><path fill-rule=\"evenodd\" fill=\"#ff3333\" stroke=\"#555555\" stroke-width=\"1.4733360000004523\" opacity=\"0.6\" d=\"M 43.44000000000233,21.440000000409782 L 35.40999999997439,25.65000000037253 L 36.95000000001164,29.639999999664724 L 36.30999999999767,30.940000000409782 L 38.76000000000931,34.37999999988824 L 48.1699999999837,28.940000000409782 L 43.44000000000233,21.440000000409782 z\" /><path fill-rule=\"evenodd\" fill=\"#ff3333\" stroke=\"#555555\" stroke-width=\"1.4733360000004523\" opacity=\"0.6\" d=\"M 0.6599999999743886,44.20999999996275 L 1.029999999969732,46.730000000447035 L 7.5200000000186265,59.58999999985099 L 11.60999999998603,60.19000000040978 L 7.669999999983702,57.980000000447035 L 0.6599999999743886,44.20999999996275 z\" /><path fill-rule=\"evenodd\" fill=\"#ff3333\" stroke=\"#555555\" stroke-width=\"1.4733360000004523\" opacity=\"0.6\" d=\"M 17.55999999999767,37.139999999664724 L 11.559999999997672,40.33999999985099 L 14.090000000025611,44.87999999988824 L 19.880000000004657,42.09999999962747 L 17.55999999999767,37.139999999664724 z\" /><path fill-rule=\"evenodd\" fill=\"#ff3333\" stroke=\"#555555\" stroke-width=\"1.4733360000004523\" opacity=\"0.6\" d=\"M 26.669999999983702,30.889999999664724 L 17.630000000004657,35.37000000011176 L 22.520000000018626,43.92999999970198 L 32.35999999998603,38.09999999962747 L 30.69000000000233,34.95999999996275 L 29.169999999983702,34.549999999813735 L 26.669999999983702,30.889999999664724 z\" /><path fill-rule=\"evenodd\" fill=\"#ff3333\" stroke=\"#555555\" stroke-width=\"1.4733360000004523\" opacity=\"0.6\" d=\"M 35.09999999997672,26.09999999962747 L 34.55999999999767,26.440000000409782 L 35.80999999999767,28.799999999813735 L 35.15999999997439,31.549999999813735 L 32.48999999999069,33.20999999996275 L 29.070000000006985,32.70999999996275 L 28.30999999999767,29.540000000037253 L 26.64000000001397,30.37999999988824 L 27.70000000001164,34.830000000074506 L 30.46999999997206,35.08999999985099 L 37.71999999997206,30.959999999962747 L 35.09999999997672,26.09999999962747 z\" /><path fill-rule=\"evenodd\" fill=\"#ff3333\" stroke=\"#555555\" stroke-width=\"1.4733360000004523\" opacity=\"0.6\" d=\"M 39.52000000001863,37.54000000003725 L 35.36999999999534,39.919999999925494 L 34.61999999999534,41.69000000040978 L 35.820000000006985,43.049999999813735 L 37.820000000006985,40.67999999970198 L 41.0,41.19000000040978 L 41.85999999998603,42.5 L 42.69000000000233,42.07000000029802 L 41.01000000000931,37.49000000022352 L 39.52000000001863,37.54000000003725 z\" /><path fill-rule=\"evenodd\" fill=\"#ff3333\" stroke=\"#555555\" stroke-width=\"1.4733360000004523\" opacity=\"0.6\" d=\"M 56.39000000001397,28.070000000298023 L 52.63000000000466,29.690000000409782 L 50.96999999997206,31.580000000074506 L 51.039999999979045,33.57000000029802 L 53.710000000020955,31.25 L 58.15999999997439,33.49000000022352 L 59.02000000001863,32.980000000447035 L 56.39000000001397,28.070000000298023 z\" /><path fill-rule=\"evenodd\" fill=\"#ff3333\" stroke=\"#555555\" stroke-width=\"1.4733360000004523\" opacity=\"0.6\" d=\"M 47.39000000001397,28.91000000014901 L 45.72999999998137,30.06000000052154 L 38.710000000020955,34.04000000003725 L 40.45000000001164,35.58999999985099 L 47.46999999997206,31.59999999962747 L 48.22999999998137,31.040000000037253 L 47.39000000001397,28.91000000014901 z\" /><path fill-rule=\"evenodd\" fill=\"#ff3333\" stroke=\"#555555\" stroke-width=\"1.4733360000004523\" opacity=\"0.6\" d=\"M 31.39000000001397,38.639999999664724 L 23.30999999999767,43.28000000026077 L 24.029999999969732,44.57000000029802 L 32.40000000002328,40.299999999813735 L 31.39000000001397,38.639999999664724 z\" /><path fill-rule=\"evenodd\" fill=\"#ff3333\" stroke=\"#555555\" stroke-width=\"1.4733360000004523\" opacity=\"0.6\" d=\"M 24.70000000001164,46.75999999977648 L 19.570000000006985,49.46999999973923 L 19.400000000023283,51.02000000048429 L 20.270000000018626,51.40000000037253 L 21.70000000001164,50.16000000014901 L 25.270000000018626,50.580000000074506 L 26.54999999998836,51.69000000040978 L 27.239999999990687,51.110000000335276 L 26.679999999993015,49.42999999970198 L 24.70000000001164,46.75999999977648 z\" /><path fill-rule=\"evenodd\" fill=\"#ff3333\" stroke=\"#555555\" stroke-width=\"1.4733360000004523\" opacity=\"0.6\" d=\"M 35.23999999999069,27.639999999664724 L 34.61999999999534,26.71999999973923 L 33.539999999979045,27.070000000298023 L 27.779999999969732,30.440000000409782 L 29.779999999969732,34.700000000186265 L 33.90000000002328,33.480000000447035 L 36.72999999998137,30.78000000026077 L 35.23999999999069,27.639999999664724 z\" /><path fill-rule=\"evenodd\" fill=\"#ff3333\" stroke=\"#555555\" stroke-width=\"1.4733360000004523\" opacity=\"0.6\" d=\"M 40.77999999996973,37.66000000014901 L 35.59000000002561,41.96999999973923 L 35.40999999997439,43.79000000003725 L 36.60999999998603,45.53000000026077 L 43.0,42.139999999664724 L 40.77999999996973,37.66000000014901 z\" /><path fill-rule=\"evenodd\" fill=\"#ff3333\" stroke=\"#555555\" stroke-width=\"1.4733360000004523\" opacity=\"0.6\" d=\"M 56.27999999996973,28.270000000484288 L 56.02000000001863,27.679999999701977 L 49.77999999996973,31.65000000037253 L 50.76000000000931,33.31000000052154 L 53.4199999999837,30.459999999962747 L 57.04999999998836,31.03000000026077 L 58.570000000006985,33.25999999977648 L 60.210000000020955,32.37999999988824 L 56.27999999996973,28.270000000484288 z\" /><path fill-rule=\"evenodd\" fill=\"#ff3333\" stroke=\"#555555\" stroke-width=\"1.4733360000004523\" opacity=\"0.6\" d=\"M 40.789999999979045,37.87000000011176 L 38.20000000001164,38.139999999664724 L 34.19000000000233,41.27000000048429 L 35.39000000001397,42.19000000040978 L 37.539999999979045,39.75 L 41.60999999998603,40.730000000447035 L 42.38000000000466,42.360000000335276 L 43.14000000001397,42.230000000447035 L 43.61999999999534,41.830000000074506 L 40.789999999979045,37.87000000011176 z\" /><path fill-rule=\"evenodd\" fill=\"#ff3333\" stroke=\"#555555\" stroke-width=\"1.4733360000004523\" opacity=\"0.6\" d=\"M 24.90999999997439,47.08999999985099 L 19.020000000018626,49.860000000335276 L 19.10999999998603,52.08999999985099 L 22.039999999979045,49.0 L 25.630000000004657,49.78000000026077 L 27.14000000001397,51.33999999985099 L 24.90999999997439,47.08999999985099 z\" /><path fill-rule=\"evenodd\" fill=\"#ff3333\" stroke=\"#555555\" stroke-width=\"1.4733360000004523\" opacity=\"0.6\" d=\"M 24.85999999998603,47.40000000037253 L 23.210000000020955,48.080000000074506 L 22.54999999998836,50.21999999973923 L 19.80999999999767,52.07000000029802 L 21.039999999979045,54.78000000026077 L 26.580000000016298,51.66000000014901 L 26.64000000001397,49.94000000040978 L 24.85999999998603,47.40000000037253 z\" /></g></g></svg>"
      ],
      "text/plain": [
       "<shapely.geometry.multipolygon.MultiPolygon at 0x7f3f29bd8190>"
      ]
     },
     "execution_count": 250,
     "metadata": {},
     "output_type": "execute_result"
    }
   ],
   "source": [
    "geometry.MultiPolygon(poligono)"
   ]
  },
  {
   "cell_type": "code",
   "execution_count": null,
   "metadata": {},
   "outputs": [],
   "source": []
  },
  {
   "cell_type": "code",
   "execution_count": null,
   "metadata": {},
   "outputs": [],
   "source": []
  },
  {
   "cell_type": "code",
   "execution_count": null,
   "metadata": {},
   "outputs": [],
   "source": []
  },
  {
   "cell_type": "code",
   "execution_count": null,
   "metadata": {},
   "outputs": [],
   "source": []
  },
  {
   "cell_type": "code",
   "execution_count": null,
   "metadata": {},
   "outputs": [],
   "source": []
  },
  {
   "cell_type": "code",
   "execution_count": 251,
   "metadata": {},
   "outputs": [],
   "source": [
    "import open3d as o3d"
   ]
  },
  {
   "cell_type": "code",
   "execution_count": 252,
   "metadata": {},
   "outputs": [
    {
     "data": {
      "text/plain": [
       "array([[ 3.14, 46.64, 94.68],\n",
       "       [ 1.74, 46.83, 38.6 ],\n",
       "       [56.5 ,  0.37, 57.25],\n",
       "       ...,\n",
       "       [43.58,  7.07, 63.67],\n",
       "       [43.62,  7.07, 58.79],\n",
       "       [43.68,  7.13, 57.29]])"
      ]
     },
     "execution_count": 252,
     "metadata": {},
     "output_type": "execute_result"
    }
   ],
   "source": [
    "bd[['X', 'Y', 'Z']].to_numpy()"
   ]
  },
  {
   "cell_type": "code",
   "execution_count": 253,
   "metadata": {},
   "outputs": [],
   "source": [
    "pcd = o3d.geometry.PointCloud()\n",
    "pcd.points = o3d.utility.Vector3dVector(bd[['X', 'Y', 'Z']].to_numpy())"
   ]
  },
  {
   "cell_type": "code",
   "execution_count": 254,
   "metadata": {},
   "outputs": [],
   "source": [
    "o3d.visualization.draw_geometries([pcd])"
   ]
  },
  {
   "cell_type": "code",
   "execution_count": 86,
   "metadata": {},
   "outputs": [],
   "source": [
    "diameter = np.linalg.norm(np.asarray(pcd.get_max_bound()) - np.asarray(pcd.get_min_bound()))\n",
    "o3d.visualization.draw_geometries([pcd])"
   ]
  },
  {
   "cell_type": "code",
   "execution_count": 87,
   "metadata": {},
   "outputs": [
    {
     "data": {
      "text/plain": [
       "207.52384947289522"
      ]
     },
     "execution_count": 87,
     "metadata": {},
     "output_type": "execute_result"
    }
   ],
   "source": [
    "diameter"
   ]
  },
  {
   "cell_type": "code",
   "execution_count": 88,
   "metadata": {},
   "outputs": [
    {
     "name": "stdout",
     "output_type": "stream",
     "text": [
      "Define parameters used for hidden_point_removal\n",
      "Get all points that are visible from given view point\n",
      "Visualize result\n"
     ]
    }
   ],
   "source": [
    "\n",
    "print(\"Define parameters used for hidden_point_removal\")\n",
    "camera = [0, 0, diameter]\n",
    "radius = diameter * 1000\n",
    "\n",
    "print(\"Get all points that are visible from given view point\")\n",
    "_, pt_map = pcd.hidden_point_removal(camera, radius)\n",
    "\n",
    "print(\"Visualize result\")\n",
    "pcd = pcd.select_by_index(pt_map)\n",
    "o3d.visualization.draw_geometries([pcd])\n",
    "\n"
   ]
  },
  {
   "cell_type": "code",
   "execution_count": null,
   "metadata": {},
   "outputs": [],
   "source": []
  }
 ],
 "metadata": {
  "kernelspec": {
   "display_name": "Python 3",
   "language": "python",
   "name": "python3"
  },
  "language_info": {
   "codemirror_mode": {
    "name": "ipython",
    "version": 3
   },
   "file_extension": ".py",
   "mimetype": "text/x-python",
   "name": "python",
   "nbconvert_exporter": "python",
   "pygments_lexer": "ipython3",
   "version": "3.7.6"
  }
 },
 "nbformat": 4,
 "nbformat_minor": 4
}
