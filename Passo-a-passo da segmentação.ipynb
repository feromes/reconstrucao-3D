{
 "cells": [
  {
   "cell_type": "markdown",
   "metadata": {},
   "source": [
    "## Separando do todo\n",
    "\n",
    "* Sperar o lote\n",
    "* Gerar altura em relação ao solo\n",
    "* Agrupar por Clusters (DBSCAN)\n",
    "* Calcular Normal"
   ]
  },
  {
   "cell_type": "code",
   "execution_count": 1,
   "metadata": {},
   "outputs": [],
   "source": [
    "import pdal\n",
    "import json\n",
    "import numpy as np"
   ]
  },
  {
   "cell_type": "code",
   "execution_count": 2,
   "metadata": {},
   "outputs": [],
   "source": [
    "bounds = ([333060, 333090], [7396500, 7396530])\n",
    "# Polygon ((332426.68348924710880965 7390661.41352917719632387, 332431.68747117172461003 7390648.28714181017130613, 332468.38333861867431551 7390662.7914372431114316, 332463.59692112560151145 7390675.91782461106777191, 332426.68348924710880965 7390661.41352917719632387))"
   ]
  },
  {
   "cell_type": "code",
   "execution_count": 3,
   "metadata": {},
   "outputs": [
    {
     "name": "stdout",
     "output_type": "stream",
     "text": [
      "CPU times: user 1.75 s, sys: 107 ms, total: 1.86 s\n",
      "Wall time: 2.15 s\n",
      "Pipeline selected 13496 points\n"
     ]
    }
   ],
   "source": [
    "ept = [\n",
    "    {\n",
    "      \"type\": \"readers.ept\",\n",
    "      \"filename\": \"https://ept-m3dc-pmsp.s3-sa-east-1.amazonaws.com/ept.json\",\n",
    "      \"bounds\": str(bounds)\n",
    "    },\n",
    "    {   \n",
    "        \"type\":\"filters.hag_delaunay\"\n",
    "#     },\n",
    "#     {   \"type\":\"filters.eigenvalues\",\n",
    "#         \"knn\":16\n",
    "    },\n",
    "    {   \"type\":\"filters.normal\",\n",
    "        \"knn\":30\n",
    "    },\n",
    "    {\n",
    "        \"type\":\"filters.dbscan\",\n",
    "        \"min_points\":10,\n",
    "        \"eps\":2.0,\n",
    "        \"dimensions\":\"X,Y,Z\"\n",
    "    },\n",
    "#     {\n",
    "#         \"type\":\"filters.cluster\"\n",
    "#     },\n",
    "    {\n",
    "        \"type\":\"writers.las\",\n",
    "        \"compression\":\"laszip\",\n",
    "        \"filename\":\"results/coreto-luz.laz\"\n",
    "    }\n",
    "]\n",
    "\n",
    "pipeline = pdal.Pipeline(json.dumps(ept))\n",
    "pipeline.validate()\n",
    "%time n_points = pipeline.execute()\n",
    "print(f'Pipeline selected {n_points} points')"
   ]
  },
  {
   "cell_type": "code",
   "execution_count": 4,
   "metadata": {},
   "outputs": [
    {
     "data": {
      "text/plain": [
       "{'schema': {'dimensions': [{'name': 'Blue', 'size': 2, 'type': 'unsigned'},\n",
       "   {'name': 'Classification', 'size': 1, 'type': 'unsigned'},\n",
       "   {'name': 'EdgeOfFlightLine', 'size': 1, 'type': 'unsigned'},\n",
       "   {'name': 'GpsTime', 'size': 8, 'type': 'floating'},\n",
       "   {'name': 'Green', 'size': 2, 'type': 'unsigned'},\n",
       "   {'name': 'Intensity', 'size': 2, 'type': 'unsigned'},\n",
       "   {'name': 'NumberOfReturns', 'size': 1, 'type': 'unsigned'},\n",
       "   {'name': 'OriginId', 'size': 4, 'type': 'unsigned'},\n",
       "   {'name': 'PointSourceId', 'size': 2, 'type': 'unsigned'},\n",
       "   {'name': 'Red', 'size': 2, 'type': 'unsigned'},\n",
       "   {'name': 'ReturnNumber', 'size': 1, 'type': 'unsigned'},\n",
       "   {'name': 'ScanAngleRank', 'size': 4, 'type': 'floating'},\n",
       "   {'name': 'ScanDirectionFlag', 'size': 1, 'type': 'unsigned'},\n",
       "   {'name': 'UserData', 'size': 1, 'type': 'unsigned'},\n",
       "   {'name': 'X', 'size': 8, 'type': 'floating'},\n",
       "   {'name': 'Y', 'size': 8, 'type': 'floating'},\n",
       "   {'name': 'Z', 'size': 8, 'type': 'floating'},\n",
       "   {'name': 'HeightAboveGround', 'size': 8, 'type': 'floating'},\n",
       "   {'name': 'NormalX', 'size': 8, 'type': 'floating'},\n",
       "   {'name': 'NormalY', 'size': 8, 'type': 'floating'},\n",
       "   {'name': 'NormalZ', 'size': 8, 'type': 'floating'},\n",
       "   {'name': 'Curvature', 'size': 8, 'type': 'floating'},\n",
       "   {'name': 'ClusterID', 'size': 8, 'type': 'signed'}]}}"
      ]
     },
     "execution_count": 4,
     "metadata": {},
     "output_type": "execute_result"
    }
   ],
   "source": [
    "pipeline.schema"
   ]
  },
  {
   "cell_type": "code",
   "execution_count": 5,
   "metadata": {},
   "outputs": [
    {
     "data": {
      "text/html": [
       "<div>\n",
       "<style scoped>\n",
       "    .dataframe tbody tr th:only-of-type {\n",
       "        vertical-align: middle;\n",
       "    }\n",
       "\n",
       "    .dataframe tbody tr th {\n",
       "        vertical-align: top;\n",
       "    }\n",
       "\n",
       "    .dataframe thead th {\n",
       "        text-align: right;\n",
       "    }\n",
       "</style>\n",
       "<table border=\"1\" class=\"dataframe\">\n",
       "  <thead>\n",
       "    <tr style=\"text-align: right;\">\n",
       "      <th></th>\n",
       "      <th>Blue</th>\n",
       "      <th>Classification</th>\n",
       "      <th>EdgeOfFlightLine</th>\n",
       "      <th>GpsTime</th>\n",
       "      <th>Green</th>\n",
       "      <th>Intensity</th>\n",
       "      <th>NumberOfReturns</th>\n",
       "      <th>OriginId</th>\n",
       "      <th>PointSourceId</th>\n",
       "      <th>Red</th>\n",
       "      <th>...</th>\n",
       "      <th>UserData</th>\n",
       "      <th>X</th>\n",
       "      <th>Y</th>\n",
       "      <th>Z</th>\n",
       "      <th>HeightAboveGround</th>\n",
       "      <th>NormalX</th>\n",
       "      <th>NormalY</th>\n",
       "      <th>NormalZ</th>\n",
       "      <th>Curvature</th>\n",
       "      <th>ClusterID</th>\n",
       "    </tr>\n",
       "  </thead>\n",
       "  <tbody>\n",
       "    <tr>\n",
       "      <th>0</th>\n",
       "      <td>16896</td>\n",
       "      <td>5</td>\n",
       "      <td>0</td>\n",
       "      <td>358025.631887</td>\n",
       "      <td>23552</td>\n",
       "      <td>30</td>\n",
       "      <td>1</td>\n",
       "      <td>2416</td>\n",
       "      <td>6</td>\n",
       "      <td>17920</td>\n",
       "      <td>...</td>\n",
       "      <td>15</td>\n",
       "      <td>333084.40</td>\n",
       "      <td>7396519.07</td>\n",
       "      <td>752.30</td>\n",
       "      <td>14.927621</td>\n",
       "      <td>-0.438987</td>\n",
       "      <td>0.478013</td>\n",
       "      <td>0.760785</td>\n",
       "      <td>0.069766</td>\n",
       "      <td>0</td>\n",
       "    </tr>\n",
       "    <tr>\n",
       "      <th>1</th>\n",
       "      <td>15360</td>\n",
       "      <td>5</td>\n",
       "      <td>0</td>\n",
       "      <td>358025.668248</td>\n",
       "      <td>21504</td>\n",
       "      <td>14</td>\n",
       "      <td>2</td>\n",
       "      <td>2416</td>\n",
       "      <td>6</td>\n",
       "      <td>16384</td>\n",
       "      <td>...</td>\n",
       "      <td>9</td>\n",
       "      <td>333082.83</td>\n",
       "      <td>7396519.22</td>\n",
       "      <td>746.82</td>\n",
       "      <td>9.487211</td>\n",
       "      <td>-0.179108</td>\n",
       "      <td>-0.902095</td>\n",
       "      <td>0.392612</td>\n",
       "      <td>0.190336</td>\n",
       "      <td>-1</td>\n",
       "    </tr>\n",
       "    <tr>\n",
       "      <th>2</th>\n",
       "      <td>24064</td>\n",
       "      <td>5</td>\n",
       "      <td>0</td>\n",
       "      <td>358025.722634</td>\n",
       "      <td>28416</td>\n",
       "      <td>23</td>\n",
       "      <td>1</td>\n",
       "      <td>2416</td>\n",
       "      <td>6</td>\n",
       "      <td>24064</td>\n",
       "      <td>...</td>\n",
       "      <td>16</td>\n",
       "      <td>333080.26</td>\n",
       "      <td>7396526.45</td>\n",
       "      <td>752.99</td>\n",
       "      <td>15.890000</td>\n",
       "      <td>-0.248443</td>\n",
       "      <td>0.825297</td>\n",
       "      <td>0.507110</td>\n",
       "      <td>0.032076</td>\n",
       "      <td>0</td>\n",
       "    </tr>\n",
       "    <tr>\n",
       "      <th>3</th>\n",
       "      <td>38400</td>\n",
       "      <td>6</td>\n",
       "      <td>0</td>\n",
       "      <td>358025.831829</td>\n",
       "      <td>45568</td>\n",
       "      <td>50</td>\n",
       "      <td>1</td>\n",
       "      <td>2416</td>\n",
       "      <td>6</td>\n",
       "      <td>57088</td>\n",
       "      <td>...</td>\n",
       "      <td>7</td>\n",
       "      <td>333074.59</td>\n",
       "      <td>7396519.17</td>\n",
       "      <td>744.85</td>\n",
       "      <td>7.080000</td>\n",
       "      <td>-0.249948</td>\n",
       "      <td>0.235587</td>\n",
       "      <td>0.939162</td>\n",
       "      <td>0.017181</td>\n",
       "      <td>1</td>\n",
       "    </tr>\n",
       "    <tr>\n",
       "      <th>4</th>\n",
       "      <td>22272</td>\n",
       "      <td>6</td>\n",
       "      <td>0</td>\n",
       "      <td>358025.831973</td>\n",
       "      <td>26624</td>\n",
       "      <td>38</td>\n",
       "      <td>1</td>\n",
       "      <td>2416</td>\n",
       "      <td>6</td>\n",
       "      <td>41728</td>\n",
       "      <td>...</td>\n",
       "      <td>8</td>\n",
       "      <td>333074.02</td>\n",
       "      <td>7396510.44</td>\n",
       "      <td>745.28</td>\n",
       "      <td>7.550000</td>\n",
       "      <td>0.168122</td>\n",
       "      <td>-0.244581</td>\n",
       "      <td>0.954943</td>\n",
       "      <td>0.019062</td>\n",
       "      <td>1</td>\n",
       "    </tr>\n",
       "  </tbody>\n",
       "</table>\n",
       "<p>5 rows × 23 columns</p>\n",
       "</div>"
      ],
      "text/plain": [
       "    Blue  Classification  EdgeOfFlightLine        GpsTime  Green  Intensity  \\\n",
       "0  16896               5                 0  358025.631887  23552         30   \n",
       "1  15360               5                 0  358025.668248  21504         14   \n",
       "2  24064               5                 0  358025.722634  28416         23   \n",
       "3  38400               6                 0  358025.831829  45568         50   \n",
       "4  22272               6                 0  358025.831973  26624         38   \n",
       "\n",
       "   NumberOfReturns  OriginId  PointSourceId    Red  ...  UserData          X  \\\n",
       "0                1      2416              6  17920  ...        15  333084.40   \n",
       "1                2      2416              6  16384  ...         9  333082.83   \n",
       "2                1      2416              6  24064  ...        16  333080.26   \n",
       "3                1      2416              6  57088  ...         7  333074.59   \n",
       "4                1      2416              6  41728  ...         8  333074.02   \n",
       "\n",
       "            Y       Z  HeightAboveGround   NormalX   NormalY   NormalZ  \\\n",
       "0  7396519.07  752.30          14.927621 -0.438987  0.478013  0.760785   \n",
       "1  7396519.22  746.82           9.487211 -0.179108 -0.902095  0.392612   \n",
       "2  7396526.45  752.99          15.890000 -0.248443  0.825297  0.507110   \n",
       "3  7396519.17  744.85           7.080000 -0.249948  0.235587  0.939162   \n",
       "4  7396510.44  745.28           7.550000  0.168122 -0.244581  0.954943   \n",
       "\n",
       "   Curvature  ClusterID  \n",
       "0   0.069766          0  \n",
       "1   0.190336         -1  \n",
       "2   0.032076          0  \n",
       "3   0.017181          1  \n",
       "4   0.019062          1  \n",
       "\n",
       "[5 rows x 23 columns]"
      ]
     },
     "execution_count": 5,
     "metadata": {},
     "output_type": "execute_result"
    }
   ],
   "source": [
    "import pandas as pd\n",
    "arr = pipeline.arrays[0]\n",
    "df = pd.DataFrame(arr)\n",
    "# print(df.head().to_latex(index=False))\n",
    "df.head()"
   ]
  },
  {
   "cell_type": "code",
   "execution_count": 6,
   "metadata": {},
   "outputs": [],
   "source": [
    "# Reduzindo valores a mínimos para poderem ser visualizados\n",
    "df[['X', 'Y', 'Z']] = df[['X', 'Y', 'Z']] - df[['X', 'Y', 'Z']].min()"
   ]
  },
  {
   "cell_type": "code",
   "execution_count": 7,
   "metadata": {},
   "outputs": [
    {
     "data": {
      "text/plain": [
       "array([ 5,  6, 20, 19,  2], dtype=uint8)"
      ]
     },
     "execution_count": 7,
     "metadata": {},
     "output_type": "execute_result"
    }
   ],
   "source": [
    "df.Classification.unique()"
   ]
  },
  {
   "cell_type": "code",
   "execution_count": 8,
   "metadata": {},
   "outputs": [],
   "source": [
    "## Separando apenas Buildings\n",
    "bd = df[df.Classification.isin([6])].reset_index()"
   ]
  },
  {
   "cell_type": "code",
   "execution_count": 9,
   "metadata": {},
   "outputs": [
    {
     "data": {
      "text/html": [
       "<div>\n",
       "<style scoped>\n",
       "    .dataframe tbody tr th:only-of-type {\n",
       "        vertical-align: middle;\n",
       "    }\n",
       "\n",
       "    .dataframe tbody tr th {\n",
       "        vertical-align: top;\n",
       "    }\n",
       "\n",
       "    .dataframe thead th {\n",
       "        text-align: right;\n",
       "    }\n",
       "</style>\n",
       "<table border=\"1\" class=\"dataframe\">\n",
       "  <thead>\n",
       "    <tr style=\"text-align: right;\">\n",
       "      <th></th>\n",
       "      <th>index</th>\n",
       "      <th>Blue</th>\n",
       "      <th>Classification</th>\n",
       "      <th>EdgeOfFlightLine</th>\n",
       "      <th>GpsTime</th>\n",
       "      <th>Green</th>\n",
       "      <th>Intensity</th>\n",
       "      <th>NumberOfReturns</th>\n",
       "      <th>OriginId</th>\n",
       "      <th>PointSourceId</th>\n",
       "      <th>...</th>\n",
       "      <th>UserData</th>\n",
       "      <th>X</th>\n",
       "      <th>Y</th>\n",
       "      <th>Z</th>\n",
       "      <th>HeightAboveGround</th>\n",
       "      <th>NormalX</th>\n",
       "      <th>NormalY</th>\n",
       "      <th>NormalZ</th>\n",
       "      <th>Curvature</th>\n",
       "      <th>ClusterID</th>\n",
       "    </tr>\n",
       "  </thead>\n",
       "  <tbody>\n",
       "    <tr>\n",
       "      <th>0</th>\n",
       "      <td>3</td>\n",
       "      <td>38400</td>\n",
       "      <td>6</td>\n",
       "      <td>0</td>\n",
       "      <td>358025.831829</td>\n",
       "      <td>45568</td>\n",
       "      <td>50</td>\n",
       "      <td>1</td>\n",
       "      <td>2416</td>\n",
       "      <td>6</td>\n",
       "      <td>...</td>\n",
       "      <td>7</td>\n",
       "      <td>14.59</td>\n",
       "      <td>19.16</td>\n",
       "      <td>8.14</td>\n",
       "      <td>7.080000</td>\n",
       "      <td>-0.249948</td>\n",
       "      <td>0.235587</td>\n",
       "      <td>0.939162</td>\n",
       "      <td>0.017181</td>\n",
       "      <td>1</td>\n",
       "    </tr>\n",
       "    <tr>\n",
       "      <th>1</th>\n",
       "      <td>4</td>\n",
       "      <td>22272</td>\n",
       "      <td>6</td>\n",
       "      <td>0</td>\n",
       "      <td>358025.831973</td>\n",
       "      <td>26624</td>\n",
       "      <td>38</td>\n",
       "      <td>1</td>\n",
       "      <td>2416</td>\n",
       "      <td>6</td>\n",
       "      <td>...</td>\n",
       "      <td>8</td>\n",
       "      <td>14.02</td>\n",
       "      <td>10.43</td>\n",
       "      <td>8.57</td>\n",
       "      <td>7.550000</td>\n",
       "      <td>0.168122</td>\n",
       "      <td>-0.244581</td>\n",
       "      <td>0.954943</td>\n",
       "      <td>0.019062</td>\n",
       "      <td>1</td>\n",
       "    </tr>\n",
       "    <tr>\n",
       "      <th>2</th>\n",
       "      <td>6</td>\n",
       "      <td>28160</td>\n",
       "      <td>6</td>\n",
       "      <td>0</td>\n",
       "      <td>358025.977241</td>\n",
       "      <td>22016</td>\n",
       "      <td>28</td>\n",
       "      <td>1</td>\n",
       "      <td>2416</td>\n",
       "      <td>6</td>\n",
       "      <td>...</td>\n",
       "      <td>7</td>\n",
       "      <td>7.48</td>\n",
       "      <td>18.17</td>\n",
       "      <td>7.73</td>\n",
       "      <td>6.904500</td>\n",
       "      <td>0.009669</td>\n",
       "      <td>0.195674</td>\n",
       "      <td>0.980621</td>\n",
       "      <td>0.016311</td>\n",
       "      <td>1</td>\n",
       "    </tr>\n",
       "    <tr>\n",
       "      <th>3</th>\n",
       "      <td>10</td>\n",
       "      <td>15872</td>\n",
       "      <td>6</td>\n",
       "      <td>0</td>\n",
       "      <td>358350.361079</td>\n",
       "      <td>10496</td>\n",
       "      <td>20</td>\n",
       "      <td>1</td>\n",
       "      <td>2416</td>\n",
       "      <td>6</td>\n",
       "      <td>...</td>\n",
       "      <td>6</td>\n",
       "      <td>6.28</td>\n",
       "      <td>10.81</td>\n",
       "      <td>7.22</td>\n",
       "      <td>6.450000</td>\n",
       "      <td>-0.273076</td>\n",
       "      <td>-0.216806</td>\n",
       "      <td>0.937243</td>\n",
       "      <td>0.013676</td>\n",
       "      <td>1</td>\n",
       "    </tr>\n",
       "    <tr>\n",
       "      <th>4</th>\n",
       "      <td>12</td>\n",
       "      <td>15616</td>\n",
       "      <td>6</td>\n",
       "      <td>0</td>\n",
       "      <td>358350.506371</td>\n",
       "      <td>10240</td>\n",
       "      <td>13</td>\n",
       "      <td>1</td>\n",
       "      <td>2416</td>\n",
       "      <td>6</td>\n",
       "      <td>...</td>\n",
       "      <td>6</td>\n",
       "      <td>14.29</td>\n",
       "      <td>4.35</td>\n",
       "      <td>7.03</td>\n",
       "      <td>6.144224</td>\n",
       "      <td>0.196875</td>\n",
       "      <td>-0.203835</td>\n",
       "      <td>0.959006</td>\n",
       "      <td>0.013235</td>\n",
       "      <td>1</td>\n",
       "    </tr>\n",
       "    <tr>\n",
       "      <th>...</th>\n",
       "      <td>...</td>\n",
       "      <td>...</td>\n",
       "      <td>...</td>\n",
       "      <td>...</td>\n",
       "      <td>...</td>\n",
       "      <td>...</td>\n",
       "      <td>...</td>\n",
       "      <td>...</td>\n",
       "      <td>...</td>\n",
       "      <td>...</td>\n",
       "      <td>...</td>\n",
       "      <td>...</td>\n",
       "      <td>...</td>\n",
       "      <td>...</td>\n",
       "      <td>...</td>\n",
       "      <td>...</td>\n",
       "      <td>...</td>\n",
       "      <td>...</td>\n",
       "      <td>...</td>\n",
       "      <td>...</td>\n",
       "      <td>...</td>\n",
       "    </tr>\n",
       "    <tr>\n",
       "      <th>2143</th>\n",
       "      <td>13380</td>\n",
       "      <td>50944</td>\n",
       "      <td>6</td>\n",
       "      <td>0</td>\n",
       "      <td>358025.941176</td>\n",
       "      <td>45056</td>\n",
       "      <td>10</td>\n",
       "      <td>2</td>\n",
       "      <td>2416</td>\n",
       "      <td>6</td>\n",
       "      <td>...</td>\n",
       "      <td>3</td>\n",
       "      <td>8.29</td>\n",
       "      <td>1.90</td>\n",
       "      <td>3.72</td>\n",
       "      <td>2.970927</td>\n",
       "      <td>0.010766</td>\n",
       "      <td>0.144222</td>\n",
       "      <td>0.989487</td>\n",
       "      <td>0.009424</td>\n",
       "      <td>10</td>\n",
       "    </tr>\n",
       "    <tr>\n",
       "      <th>2144</th>\n",
       "      <td>13381</td>\n",
       "      <td>40960</td>\n",
       "      <td>6</td>\n",
       "      <td>0</td>\n",
       "      <td>358025.977521</td>\n",
       "      <td>45568</td>\n",
       "      <td>48</td>\n",
       "      <td>1</td>\n",
       "      <td>2416</td>\n",
       "      <td>6</td>\n",
       "      <td>...</td>\n",
       "      <td>3</td>\n",
       "      <td>6.55</td>\n",
       "      <td>1.97</td>\n",
       "      <td>3.80</td>\n",
       "      <td>3.095591</td>\n",
       "      <td>-0.095755</td>\n",
       "      <td>0.112062</td>\n",
       "      <td>0.989077</td>\n",
       "      <td>0.013333</td>\n",
       "      <td>10</td>\n",
       "    </tr>\n",
       "    <tr>\n",
       "      <th>2145</th>\n",
       "      <td>13409</td>\n",
       "      <td>45568</td>\n",
       "      <td>6</td>\n",
       "      <td>0</td>\n",
       "      <td>358350.288205</td>\n",
       "      <td>50176</td>\n",
       "      <td>57</td>\n",
       "      <td>1</td>\n",
       "      <td>2416</td>\n",
       "      <td>6</td>\n",
       "      <td>...</td>\n",
       "      <td>3</td>\n",
       "      <td>6.37</td>\n",
       "      <td>0.54</td>\n",
       "      <td>3.78</td>\n",
       "      <td>3.160000</td>\n",
       "      <td>-0.189538</td>\n",
       "      <td>0.157889</td>\n",
       "      <td>0.969096</td>\n",
       "      <td>0.012453</td>\n",
       "      <td>10</td>\n",
       "    </tr>\n",
       "    <tr>\n",
       "      <th>2146</th>\n",
       "      <td>13414</td>\n",
       "      <td>45056</td>\n",
       "      <td>6</td>\n",
       "      <td>0</td>\n",
       "      <td>358350.342734</td>\n",
       "      <td>48640</td>\n",
       "      <td>67</td>\n",
       "      <td>1</td>\n",
       "      <td>2416</td>\n",
       "      <td>6</td>\n",
       "      <td>...</td>\n",
       "      <td>3</td>\n",
       "      <td>8.42</td>\n",
       "      <td>0.74</td>\n",
       "      <td>3.87</td>\n",
       "      <td>3.080000</td>\n",
       "      <td>0.020241</td>\n",
       "      <td>0.240851</td>\n",
       "      <td>0.970351</td>\n",
       "      <td>0.016951</td>\n",
       "      <td>10</td>\n",
       "    </tr>\n",
       "    <tr>\n",
       "      <th>2147</th>\n",
       "      <td>13420</td>\n",
       "      <td>45568</td>\n",
       "      <td>6</td>\n",
       "      <td>0</td>\n",
       "      <td>358350.397256</td>\n",
       "      <td>49152</td>\n",
       "      <td>61</td>\n",
       "      <td>1</td>\n",
       "      <td>2416</td>\n",
       "      <td>6</td>\n",
       "      <td>...</td>\n",
       "      <td>3</td>\n",
       "      <td>10.71</td>\n",
       "      <td>0.51</td>\n",
       "      <td>3.81</td>\n",
       "      <td>3.121333</td>\n",
       "      <td>0.055814</td>\n",
       "      <td>0.282483</td>\n",
       "      <td>0.957647</td>\n",
       "      <td>0.009766</td>\n",
       "      <td>10</td>\n",
       "    </tr>\n",
       "  </tbody>\n",
       "</table>\n",
       "<p>2148 rows × 24 columns</p>\n",
       "</div>"
      ],
      "text/plain": [
       "      index   Blue  Classification  EdgeOfFlightLine        GpsTime  Green  \\\n",
       "0         3  38400               6                 0  358025.831829  45568   \n",
       "1         4  22272               6                 0  358025.831973  26624   \n",
       "2         6  28160               6                 0  358025.977241  22016   \n",
       "3        10  15872               6                 0  358350.361079  10496   \n",
       "4        12  15616               6                 0  358350.506371  10240   \n",
       "...     ...    ...             ...               ...            ...    ...   \n",
       "2143  13380  50944               6                 0  358025.941176  45056   \n",
       "2144  13381  40960               6                 0  358025.977521  45568   \n",
       "2145  13409  45568               6                 0  358350.288205  50176   \n",
       "2146  13414  45056               6                 0  358350.342734  48640   \n",
       "2147  13420  45568               6                 0  358350.397256  49152   \n",
       "\n",
       "      Intensity  NumberOfReturns  OriginId  PointSourceId  ...  UserData  \\\n",
       "0            50                1      2416              6  ...         7   \n",
       "1            38                1      2416              6  ...         8   \n",
       "2            28                1      2416              6  ...         7   \n",
       "3            20                1      2416              6  ...         6   \n",
       "4            13                1      2416              6  ...         6   \n",
       "...         ...              ...       ...            ...  ...       ...   \n",
       "2143         10                2      2416              6  ...         3   \n",
       "2144         48                1      2416              6  ...         3   \n",
       "2145         57                1      2416              6  ...         3   \n",
       "2146         67                1      2416              6  ...         3   \n",
       "2147         61                1      2416              6  ...         3   \n",
       "\n",
       "          X      Y     Z  HeightAboveGround   NormalX   NormalY   NormalZ  \\\n",
       "0     14.59  19.16  8.14           7.080000 -0.249948  0.235587  0.939162   \n",
       "1     14.02  10.43  8.57           7.550000  0.168122 -0.244581  0.954943   \n",
       "2      7.48  18.17  7.73           6.904500  0.009669  0.195674  0.980621   \n",
       "3      6.28  10.81  7.22           6.450000 -0.273076 -0.216806  0.937243   \n",
       "4     14.29   4.35  7.03           6.144224  0.196875 -0.203835  0.959006   \n",
       "...     ...    ...   ...                ...       ...       ...       ...   \n",
       "2143   8.29   1.90  3.72           2.970927  0.010766  0.144222  0.989487   \n",
       "2144   6.55   1.97  3.80           3.095591 -0.095755  0.112062  0.989077   \n",
       "2145   6.37   0.54  3.78           3.160000 -0.189538  0.157889  0.969096   \n",
       "2146   8.42   0.74  3.87           3.080000  0.020241  0.240851  0.970351   \n",
       "2147  10.71   0.51  3.81           3.121333  0.055814  0.282483  0.957647   \n",
       "\n",
       "      Curvature  ClusterID  \n",
       "0      0.017181          1  \n",
       "1      0.019062          1  \n",
       "2      0.016311          1  \n",
       "3      0.013676          1  \n",
       "4      0.013235          1  \n",
       "...         ...        ...  \n",
       "2143   0.009424         10  \n",
       "2144   0.013333         10  \n",
       "2145   0.012453         10  \n",
       "2146   0.016951         10  \n",
       "2147   0.009766         10  \n",
       "\n",
       "[2148 rows x 24 columns]"
      ]
     },
     "execution_count": 9,
     "metadata": {},
     "output_type": "execute_result"
    }
   ],
   "source": [
    "bd"
   ]
  },
  {
   "cell_type": "code",
   "execution_count": 10,
   "metadata": {},
   "outputs": [
    {
     "data": {
      "text/plain": [
       "array([ 1, -1, 10])"
      ]
     },
     "execution_count": 10,
     "metadata": {},
     "output_type": "execute_result"
    }
   ],
   "source": [
    "bd.ClusterID.unique()"
   ]
  },
  {
   "cell_type": "code",
   "execution_count": 11,
   "metadata": {},
   "outputs": [],
   "source": [
    "color_choices = np.random.rand(bd.ClusterID.max()+1, 3)"
   ]
  },
  {
   "cell_type": "code",
   "execution_count": 12,
   "metadata": {},
   "outputs": [],
   "source": [
    "colors = list(map(lambda x: color_choices[x], bd.ClusterID))"
   ]
  },
  {
   "cell_type": "code",
   "execution_count": 14,
   "metadata": {},
   "outputs": [
    {
     "data": {
      "application/vnd.jupyter.widget-view+json": {
       "model_id": "63e5eac76d464b72af22a6775bd97ddb",
       "version_major": 2,
       "version_minor": 0
      },
      "text/plain": [
       "VBox(children=(Figure(camera=PerspectiveCamera(fov=46.0, position=(0.0, 0.0, 2.0), projectionMatrix=(1.0, 0.0,…"
      ]
     },
     "metadata": {},
     "output_type": "display_data"
    }
   ],
   "source": [
    "import ipyvolume as p3 \n",
    "\n",
    "fig = p3.figure(width=1000)\n",
    "fig.xlabel='Y'\n",
    "fig.ylabel='Z'\n",
    "fig.zlabel='X'\n",
    "all_points = p3.scatter(bd['Y'], bd['Z'], bd['X'], color=colors, size=1)\n",
    "# all_points = p3.scatter(bd['Y'], bd['Z'], bd['X'], color=list(map(lambda x: [x,x,x], bd.Curvature)), size=1, marker='square_2d')\n",
    "\n",
    "p3.squarelim()\n",
    "\n",
    "p3.show()"
   ]
  },
  {
   "cell_type": "markdown",
   "metadata": {},
   "source": [
    "## Gerando o polígono de cada Cluster\n",
    "\n",
    "Utilizando o Alpha Shape https://gist.github.com/dwyerk/10561690"
   ]
  },
  {
   "cell_type": "code",
   "execution_count": 15,
   "metadata": {},
   "outputs": [],
   "source": [
    "import shapely.geometry as geometry\n",
    "from scipy.spatial import Delaunay"
   ]
  },
  {
   "cell_type": "code",
   "execution_count": 16,
   "metadata": {},
   "outputs": [],
   "source": [
    "from shapely.ops import cascaded_union, polygonize\n",
    "from scipy.spatial import Delaunay\n",
    "import numpy as np\n",
    "import math\n",
    "\n",
    "def alpha_shape(points, alpha):\n",
    "    \"\"\"\n",
    "    Compute the alpha shape (concave hull) of a set\n",
    "    of points.\n",
    "    @param points: Iterable container of points.\n",
    "    @param alpha: alpha value to influence the\n",
    "        gooeyness of the border. Smaller numbers\n",
    "        don't fall inward as much as larger numbers.\n",
    "        Too large, and you lose everything!\n",
    "    \"\"\"\n",
    "    if len(points) < 4:\n",
    "        # When you have a triangle, there is no sense\n",
    "        # in computing an alpha shape.\n",
    "        return geometry.MultiPoint(list(points)).convex_hull\n",
    "\n",
    "    coords = np.array([point.coords[0] for point in points])\n",
    "    tri = Delaunay(coords)\n",
    "    triangles = coords[tri.vertices]\n",
    "    a = ((triangles[:,0,0] - triangles[:,1,0]) ** 2 + (triangles[:,0,1] - triangles[:,1,1]) ** 2) ** 0.5\n",
    "    b = ((triangles[:,1,0] - triangles[:,2,0]) ** 2 + (triangles[:,1,1] - triangles[:,2,1]) ** 2) ** 0.5\n",
    "    c = ((triangles[:,2,0] - triangles[:,0,0]) ** 2 + (triangles[:,2,1] - triangles[:,0,1]) ** 2) ** 0.5\n",
    "    s = ( a + b + c ) / 2.0\n",
    "    areas = (s*(s-a)*(s-b)*(s-c)) ** 0.5\n",
    "    circums = a * b * c / (4.0 * areas)\n",
    "    filtered = triangles[circums < (1.0 / alpha)]\n",
    "    edge1 = filtered[:,(0,1)]\n",
    "    edge2 = filtered[:,(1,2)]\n",
    "    edge3 = filtered[:,(2,0)]\n",
    "    edge_points = np.unique(np.concatenate((edge1,edge2,edge3)), axis = 0).tolist()\n",
    "    m = geometry.MultiLineString(edge_points)\n",
    "    triangles = list(polygonize(m))\n",
    "    return cascaded_union(triangles), edge_points"
   ]
  },
  {
   "cell_type": "code",
   "execution_count": 17,
   "metadata": {},
   "outputs": [],
   "source": [
    "points = bd[bd.ClusterID == bd.ClusterID.unique()[0]][['X', 'Y']].to_numpy()"
   ]
  },
  {
   "cell_type": "code",
   "execution_count": 18,
   "metadata": {},
   "outputs": [],
   "source": [
    "poligono = alpha_shape(geometry.MultiPoint(points), 0.5)"
   ]
  },
  {
   "cell_type": "code",
   "execution_count": 19,
   "metadata": {},
   "outputs": [
    {
     "data": {
      "image/svg+xml": [
       "<svg xmlns=\"http://www.w3.org/2000/svg\" xmlns:xlink=\"http://www.w3.org/1999/xlink\" width=\"100.0\" height=\"100.0\" viewBox=\"4.49880000002915 3.6588000005856154 17.80239999993006 18.662399999275806\" preserveAspectRatio=\"xMinYMin meet\"><g transform=\"matrix(1,0,0,-1,0,25.980000000447035)\"><path fill-rule=\"evenodd\" fill=\"#66cc99\" stroke=\"#555555\" stroke-width=\"0.3732479999855161\" opacity=\"0.6\" d=\"M 5.190000000002328,11.4300000006333 L 7.4799999999813735,18.169999999925494 L 12.320000000006985,21.62999999988824 L 18.55999999999767,19.62999999988824 L 21.60999999998603,13.9300000006333 L 19.770000000018626,7.4500000001862645 L 14.289999999979045,4.3500000005587935 L 8.419999999983702,6.169999999925494 L 5.190000000002328,11.4300000006333 z\" /></g></svg>"
      ],
      "text/plain": [
       "<shapely.geometry.polygon.Polygon at 0x7f94a5a54310>"
      ]
     },
     "execution_count": 19,
     "metadata": {},
     "output_type": "execute_result"
    }
   ],
   "source": [
    "poligono[0].simplify(0.75)"
   ]
  },
  {
   "cell_type": "code",
   "execution_count": null,
   "metadata": {},
   "outputs": [],
   "source": []
  },
  {
   "cell_type": "code",
   "execution_count": null,
   "metadata": {},
   "outputs": [],
   "source": []
  },
  {
   "cell_type": "code",
   "execution_count": null,
   "metadata": {},
   "outputs": [],
   "source": []
  },
  {
   "cell_type": "code",
   "execution_count": null,
   "metadata": {},
   "outputs": [],
   "source": []
  },
  {
   "cell_type": "markdown",
   "metadata": {},
   "source": [
    "## Agrupando as faces"
   ]
  },
  {
   "cell_type": "code",
   "execution_count": 20,
   "metadata": {},
   "outputs": [
    {
     "ename": "ModuleNotFoundError",
     "evalue": "No module named 'sklearn'",
     "output_type": "error",
     "traceback": [
      "\u001b[0;31m---------------------------------------------------------------------------\u001b[0m",
      "\u001b[0;31mModuleNotFoundError\u001b[0m                       Traceback (most recent call last)",
      "\u001b[0;32m<ipython-input-20-b3ad9b1fea2f>\u001b[0m in \u001b[0;36m<module>\u001b[0;34m\u001b[0m\n\u001b[0;32m----> 1\u001b[0;31m \u001b[0;32mfrom\u001b[0m \u001b[0msklearn\u001b[0m\u001b[0;34m.\u001b[0m\u001b[0mcluster\u001b[0m \u001b[0;32mimport\u001b[0m \u001b[0mDBSCAN\u001b[0m\u001b[0;34m,\u001b[0m \u001b[0mOPTICS\u001b[0m\u001b[0;34m,\u001b[0m \u001b[0mSpectralClustering\u001b[0m\u001b[0;34m,\u001b[0m \u001b[0mestimate_bandwidth\u001b[0m\u001b[0;34m,\u001b[0m \u001b[0mMeanShift\u001b[0m\u001b[0;34m\u001b[0m\u001b[0;34m\u001b[0m\u001b[0m\n\u001b[0m\u001b[1;32m      2\u001b[0m \u001b[0;32mfrom\u001b[0m \u001b[0msklearn\u001b[0m \u001b[0;32mimport\u001b[0m \u001b[0mpreprocessing\u001b[0m\u001b[0;34m\u001b[0m\u001b[0;34m\u001b[0m\u001b[0m\n",
      "\u001b[0;31mModuleNotFoundError\u001b[0m: No module named 'sklearn'"
     ]
    }
   ],
   "source": [
    "from sklearn.cluster import DBSCAN, OPTICS, SpectralClustering, estimate_bandwidth, MeanShift\n",
    "from sklearn import preprocessing"
   ]
  },
  {
   "cell_type": "code",
   "execution_count": 21,
   "metadata": {},
   "outputs": [],
   "source": [
    "X = bd[bd.ClusterID == bd.ClusterID.unique()[0]][['NormalX', 'NormalY', 'NormalZ']]"
   ]
  },
  {
   "cell_type": "code",
   "execution_count": 22,
   "metadata": {},
   "outputs": [
    {
     "data": {
      "text/plain": [
       "<AxesSubplot:xlabel='NormalX', ylabel='NormalY'>"
      ]
     },
     "execution_count": 22,
     "metadata": {},
     "output_type": "execute_result"
    },
    {
     "data": {
      "image/png": "[encoded data removed]",
      "text/plain": [
       "<Figure size 432x288 with 1 Axes>"
      ]
     },
     "metadata": {
      "needs_background": "light"
     },
     "output_type": "display_data"
    }
   ],
   "source": [
    "X.plot.scatter(x='NormalX', y='NormalY')"
   ]
  },
  {
   "cell_type": "code",
   "execution_count": 23,
   "metadata": {},
   "outputs": [
    {
     "ename": "NameError",
     "evalue": "name 'preprocessing' is not defined",
     "output_type": "error",
     "traceback": [
      "\u001b[0;31m---------------------------------------------------------------------------\u001b[0m",
      "\u001b[0;31mNameError\u001b[0m                                 Traceback (most recent call last)",
      "\u001b[0;32m<ipython-input-23-b89a6abc1bd6>\u001b[0m in \u001b[0;36m<module>\u001b[0;34m\u001b[0m\n\u001b[0;32m----> 1\u001b[0;31m \u001b[0mmin_max_scaler\u001b[0m \u001b[0;34m=\u001b[0m \u001b[0mpreprocessing\u001b[0m\u001b[0;34m.\u001b[0m\u001b[0mMinMaxScaler\u001b[0m\u001b[0;34m(\u001b[0m\u001b[0;34m)\u001b[0m\u001b[0;34m\u001b[0m\u001b[0;34m\u001b[0m\u001b[0m\n\u001b[0m\u001b[1;32m      2\u001b[0m \u001b[0mX\u001b[0m \u001b[0;34m=\u001b[0m \u001b[0mmin_max_scaler\u001b[0m\u001b[0;34m.\u001b[0m\u001b[0mfit_transform\u001b[0m\u001b[0;34m(\u001b[0m\u001b[0mX\u001b[0m\u001b[0;34m)\u001b[0m\u001b[0;34m\u001b[0m\u001b[0;34m\u001b[0m\u001b[0m\n",
      "\u001b[0;31mNameError\u001b[0m: name 'preprocessing' is not defined"
     ]
    }
   ],
   "source": [
    "min_max_scaler = preprocessing.MinMaxScaler()\n",
    "X = min_max_scaler.fit_transform(X)"
   ]
  },
  {
   "cell_type": "code",
   "execution_count": 24,
   "metadata": {},
   "outputs": [
    {
     "ename": "NameError",
     "evalue": "name 'estimate_bandwidth' is not defined",
     "output_type": "error",
     "traceback": [
      "\u001b[0;31m---------------------------------------------------------------------------\u001b[0m",
      "\u001b[0;31mNameError\u001b[0m                                 Traceback (most recent call last)",
      "\u001b[0;32m<ipython-input-24-7167648767aa>\u001b[0m in \u001b[0;36m<module>\u001b[0;34m\u001b[0m\n\u001b[0;32m----> 1\u001b[0;31m \u001b[0mestimate_bandwidth\u001b[0m\u001b[0;34m(\u001b[0m\u001b[0mX\u001b[0m\u001b[0;34m)\u001b[0m\u001b[0;34m\u001b[0m\u001b[0;34m\u001b[0m\u001b[0m\n\u001b[0m",
      "\u001b[0;31mNameError\u001b[0m: name 'estimate_bandwidth' is not defined"
     ]
    }
   ],
   "source": [
    "estimate_bandwidth(X)"
   ]
  },
  {
   "cell_type": "code",
   "execution_count": 168,
   "metadata": {},
   "outputs": [],
   "source": [
    "# clustering = DBSCAN(eps=0.05, min_samples=6).fit(X)\n",
    "# clustering = SpectralClustering().fit(X)\n",
    "clustering = MeanShift(bandwidth=0.3, cluster_all=False).fit(X)"
   ]
  },
  {
   "cell_type": "code",
   "execution_count": 169,
   "metadata": {},
   "outputs": [
    {
     "data": {
      "text/plain": [
       "array([-1,  0,  1,  2,  3])"
      ]
     },
     "execution_count": 169,
     "metadata": {},
     "output_type": "execute_result"
    }
   ],
   "source": [
    "np.unique(clustering.labels_)"
   ]
  },
  {
   "cell_type": "code",
   "execution_count": 170,
   "metadata": {},
   "outputs": [
    {
     "data": {
      "text/plain": [
       "array([2, 1, 2, ..., 2, 2, 2])"
      ]
     },
     "execution_count": 170,
     "metadata": {},
     "output_type": "execute_result"
    }
   ],
   "source": [
    "clustering.labels_ "
   ]
  },
  {
   "cell_type": "code",
   "execution_count": 171,
   "metadata": {},
   "outputs": [
    {
     "data": {
      "text/plain": [
       "array([[8.81520170e-01, 8.95640580e-01, 6.68248161e-01],\n",
       "       [4.55054477e-01, 1.45013442e-01, 2.51331922e-01],\n",
       "       [1.87910196e-01, 5.58995343e-01, 4.86271635e-02],\n",
       "       [6.61492367e-01, 1.67854033e-04, 9.82888383e-01],\n",
       "       [1.99479272e-02, 5.11510990e-01, 5.07241413e-01]])"
      ]
     },
     "execution_count": 171,
     "metadata": {},
     "output_type": "execute_result"
    }
   ],
   "source": [
    "colors = np.random.rand(len(np.unique(clustering.labels_)), 3)\n",
    "colors"
   ]
  },
  {
   "cell_type": "code",
   "execution_count": 172,
   "metadata": {},
   "outputs": [
    {
     "data": {
      "text/plain": [
       "<matplotlib.axes._subplots.AxesSubplot at 0x7fabcee20a90>"
      ]
     },
     "execution_count": 172,
     "metadata": {},
     "output_type": "execute_result"
    },
    {
     "data": {
      "image/png": "[encoded data removed]",
      "text/plain": [
       "<Figure size 432x288 with 1 Axes>"
      ]
     },
     "metadata": {
      "needs_background": "light"
     },
     "output_type": "display_data"
    }
   ],
   "source": [
    "bd[bd.ClusterID == bd.ClusterID.unique()[0]].plot.scatter(x='X', y='Y', c=colors[clustering.labels_])"
   ]
  },
  {
   "cell_type": "code",
   "execution_count": null,
   "metadata": {},
   "outputs": [],
   "source": []
  },
  {
   "cell_type": "code",
   "execution_count": null,
   "metadata": {},
   "outputs": [],
   "source": []
  },
  {
   "cell_type": "code",
   "execution_count": null,
   "metadata": {},
   "outputs": [],
   "source": []
  },
  {
   "cell_type": "code",
   "execution_count": null,
   "metadata": {},
   "outputs": [],
   "source": []
  },
  {
   "cell_type": "code",
   "execution_count": null,
   "metadata": {},
   "outputs": [],
   "source": []
  },
  {
   "cell_type": "code",
   "execution_count": 295,
   "metadata": {},
   "outputs": [],
   "source": [
    "import open3d as o3d"
   ]
  },
  {
   "cell_type": "code",
   "execution_count": 296,
   "metadata": {},
   "outputs": [
    {
     "data": {
      "text/plain": [
       "array([[20.2 , 17.27,  6.96],\n",
       "       [16.56,  8.33,  7.56],\n",
       "       [16.54, 17.53,  7.78],\n",
       "       ...,\n",
       "       [21.16, 12.3 ,  7.64],\n",
       "       [21.38, 12.56,  7.28],\n",
       "       [20.11, 16.58,  7.1 ]])"
      ]
     },
     "execution_count": 296,
     "metadata": {},
     "output_type": "execute_result"
    }
   ],
   "source": [
    "bd[['X', 'Y', 'Z']].to_numpy()"
   ]
  },
  {
   "cell_type": "code",
   "execution_count": 297,
   "metadata": {},
   "outputs": [],
   "source": [
    "pcd = o3d.geometry.PointCloud()\n",
    "pcd.points = o3d.utility.Vector3dVector(bd[['X', 'Y', 'Z']].to_numpy())"
   ]
  },
  {
   "cell_type": "code",
   "execution_count": 298,
   "metadata": {},
   "outputs": [],
   "source": [
    "pcd.normals = o3d.utility.Vector3dVector((bd[['NormalX', 'NormalY', 'NormalZ']].to_numpy()))"
   ]
  },
  {
   "cell_type": "code",
   "execution_count": 299,
   "metadata": {},
   "outputs": [
    {
     "data": {
      "text/plain": [
       "geometry::PointCloud with 2148 points."
      ]
     },
     "execution_count": 299,
     "metadata": {},
     "output_type": "execute_result"
    }
   ],
   "source": [
    "pcd"
   ]
  },
  {
   "cell_type": "code",
   "execution_count": 300,
   "metadata": {},
   "outputs": [],
   "source": [
    "o3d.visualization.draw_geometries([pcd])"
   ]
  },
  {
   "cell_type": "code",
   "execution_count": null,
   "metadata": {},
   "outputs": [],
   "source": [
    "o3d.visualization.draw_geometries([pcd], point_show_normal=True)"
   ]
  },
  {
   "cell_type": "code",
   "execution_count": 302,
   "metadata": {},
   "outputs": [],
   "source": [
    "plane_model, inliers = pcd.segment_plane(distance_threshold=0.50,\n",
    "                                         ransac_n=8,\n",
    "                                         num_iterations=1000)"
   ]
  },
  {
   "cell_type": "code",
   "execution_count": 303,
   "metadata": {},
   "outputs": [
    {
     "name": "stdout",
     "output_type": "stream",
     "text": [
      "Plane equation: 0.01x + -0.02y + 1.00z + -7.66 = 0\n"
     ]
    }
   ],
   "source": [
    "[a, b, c, d] = plane_model\n",
    "print(f\"Plane equation: {a:.2f}x + {b:.2f}y + {c:.2f}z + {d:.2f} = 0\")"
   ]
  },
  {
   "cell_type": "code",
   "execution_count": 304,
   "metadata": {},
   "outputs": [],
   "source": [
    "inlier_cloud = pcd.select_by_index(inliers)\n",
    "inlier_cloud.paint_uniform_color([1.0, 0, 0])\n",
    "outlier_cloud = pcd.select_by_index(inliers, invert=True)\n",
    "o3d.visualization.draw_geometries([outlier_cloud])"
   ]
  },
  {
   "cell_type": "code",
   "execution_count": 149,
   "metadata": {},
   "outputs": [
    {
     "data": {
      "text/plain": [
       "array([ 0.02802781,  0.01395864,  0.99950968, -8.44516883])"
      ]
     },
     "execution_count": 149,
     "metadata": {},
     "output_type": "execute_result"
    }
   ],
   "source": [
    "plane_model"
   ]
  },
  {
   "cell_type": "code",
   "execution_count": 101,
   "metadata": {},
   "outputs": [],
   "source": [
    "import trimesh"
   ]
  },
  {
   "cell_type": "code",
   "execution_count": 107,
   "metadata": {},
   "outputs": [],
   "source": [
    "# test on a sphere primitive\n",
    "mesh = trimesh.creation.icosphere()"
   ]
  },
  {
   "cell_type": "code",
   "execution_count": 102,
   "metadata": {},
   "outputs": [],
   "source": [
    "tri_points = trimesh.PointCloud(bd[['X', 'Y', 'Z']].to_numpy())"
   ]
  },
  {
   "cell_type": "code",
   "execution_count": 103,
   "metadata": {},
   "outputs": [
    {
     "data": {
      "image/png": "[encoded data removed]",
      "text/plain": [
       "<Figure size 432x288 with 1 Axes>"
      ]
     },
     "metadata": {
      "needs_background": "light"
     },
     "output_type": "display_data"
    }
   ],
   "source": [
    "trimesh.points.plot_points(bd[['X', 'Y', 'Z']].to_numpy(), show=True)"
   ]
  },
  {
   "cell_type": "code",
   "execution_count": 119,
   "metadata": {},
   "outputs": [
    {
     "data": {
      "text/plain": [
       "<trimesh.Scene(len(geometry)=1)>"
      ]
     },
     "execution_count": 119,
     "metadata": {},
     "output_type": "execute_result"
    }
   ],
   "source": [
    "# create a visualization scene with rays, hits, and mesh\n",
    "tri_points.scene()"
   ]
  },
  {
   "cell_type": "code",
   "execution_count": 116,
   "metadata": {},
   "outputs": [
    {
     "data": {
      "text/plain": [
       "<trimesh.PointCloud(vertices.shape=(2148, 3))>"
      ]
     },
     "execution_count": 116,
     "metadata": {},
     "output_type": "execute_result"
    }
   ],
   "source": [
    "tri_points\n"
   ]
  },
  {
   "cell_type": "code",
   "execution_count": null,
   "metadata": {},
   "outputs": [],
   "source": []
  },
  {
   "cell_type": "code",
   "execution_count": null,
   "metadata": {},
   "outputs": [],
   "source": []
  },
  {
   "cell_type": "code",
   "execution_count": null,
   "metadata": {},
   "outputs": [],
   "source": []
  },
  {
   "cell_type": "code",
   "execution_count": 49,
   "metadata": {},
   "outputs": [],
   "source": [
    "\n",
    "# estimate radius for rolling ball\n",
    "distances = pcd.compute_nearest_neighbor_distance()\n",
    "avg_dist = np.mean(distances)\n",
    "radius = 3 * avg_dist   \n",
    "\n",
    "mesh = o3d.geometry.TriangleMesh.create_from_point_cloud_ball_pivoting(\n",
    "           pcd,\n",
    "           o3d.utility.DoubleVector([radius, radius * 4]))"
   ]
  },
  {
   "cell_type": "code",
   "execution_count": 50,
   "metadata": {},
   "outputs": [],
   "source": [
    "o3d.visualization.draw_geometries([mesh])"
   ]
  },
  {
   "cell_type": "code",
   "execution_count": null,
   "metadata": {},
   "outputs": [],
   "source": []
  },
  {
   "cell_type": "code",
   "execution_count": 54,
   "metadata": {},
   "outputs": [],
   "source": [
    "mesh2 = o3d.geometry.TriangleMesh.create_from_point_cloud_poisson(pcd)"
   ]
  },
  {
   "cell_type": "code",
   "execution_count": null,
   "metadata": {},
   "outputs": [],
   "source": []
  },
  {
   "cell_type": "code",
   "execution_count": 48,
   "metadata": {},
   "outputs": [
    {
     "data": {
      "text/plain": [
       "False"
      ]
     },
     "execution_count": 48,
     "metadata": {},
     "output_type": "execute_result"
    }
   ],
   "source": [
    "# create the triangular mesh with the vertices and faces from open3d\n",
    "tri_mesh = trimesh.Trimesh(np.asarray(mesh.vertices), np.asarray(mesh.triangles),\n",
    "                          vertex_normals=np.asarray(mesh.vertex_normals))\n",
    "\n",
    "trimesh.convex.is_convex(tri_mesh)"
   ]
  },
  {
   "cell_type": "code",
   "execution_count": 64,
   "metadata": {},
   "outputs": [
    {
     "data": {
      "text/plain": [
       "141.7112839975847"
      ]
     },
     "execution_count": 64,
     "metadata": {},
     "output_type": "execute_result"
    }
   ],
   "source": [
    "tri_mesh.volume"
   ]
  },
  {
   "cell_type": "code",
   "execution_count": null,
   "metadata": {},
   "outputs": [],
   "source": []
  },
  {
   "cell_type": "code",
   "execution_count": null,
   "metadata": {},
   "outputs": [],
   "source": []
  },
  {
   "cell_type": "code",
   "execution_count": null,
   "metadata": {},
   "outputs": [],
   "source": []
  },
  {
   "cell_type": "code",
   "execution_count": null,
   "metadata": {},
   "outputs": [],
   "source": []
  },
  {
   "cell_type": "code",
   "execution_count": null,
   "metadata": {},
   "outputs": [],
   "source": []
  },
  {
   "cell_type": "code",
   "execution_count": null,
   "metadata": {},
   "outputs": [],
   "source": []
  },
  {
   "cell_type": "code",
   "execution_count": null,
   "metadata": {},
   "outputs": [],
   "source": []
  },
  {
   "cell_type": "code",
   "execution_count": 16,
   "metadata": {},
   "outputs": [],
   "source": [
    "roof_quiver = p3.quiver(bd['Y'], bd['Z'], bd['X'], bd['NormalY'], bd['NormalZ'], bd['NormalX'], color='orange', size=5)\n",
    "fig.scatters.append(roof_quiver)"
   ]
  },
  {
   "cell_type": "code",
   "execution_count": 15,
   "metadata": {},
   "outputs": [
    {
     "data": {
      "text/plain": [
       "array([[<matplotlib.axes._subplots.AxesSubplot object at 0x7fc048c9fbd0>,\n",
       "        <matplotlib.axes._subplots.AxesSubplot object at 0x7fc04804cf50>,\n",
       "        <matplotlib.axes._subplots.AxesSubplot object at 0x7fc041fd7610>],\n",
       "       [<matplotlib.axes._subplots.AxesSubplot object at 0x7fc041f8ec90>,\n",
       "        <matplotlib.axes._subplots.AxesSubplot object at 0x7fc041f4f350>,\n",
       "        <matplotlib.axes._subplots.AxesSubplot object at 0x7fc041f029d0>],\n",
       "       [<matplotlib.axes._subplots.AxesSubplot object at 0x7fc041f2fb50>,\n",
       "        <matplotlib.axes._subplots.AxesSubplot object at 0x7fc041efb6d0>,\n",
       "        <matplotlib.axes._subplots.AxesSubplot object at 0x7fc041efb710>]],\n",
       "      dtype=object)"
      ]
     },
     "execution_count": 15,
     "metadata": {},
     "output_type": "execute_result"
    },
    {
     "data": {
      "image/png": "[encoded data removed]",
      "text/plain": [
       "<Figure size 432x288 with 9 Axes>"
      ]
     },
     "metadata": {
      "needs_background": "light"
     },
     "output_type": "display_data"
    }
   ],
   "source": [
    "bd[['X', 'Y','Z', 'NormalX', 'NormalY', 'NormalZ', 'Curvature']].hist()"
   ]
  },
  {
   "cell_type": "code",
   "execution_count": 16,
   "metadata": {},
   "outputs": [
    {
     "data": {
      "text/plain": [
       "<matplotlib.axes._subplots.AxesSubplot at 0x7fc041e242d0>"
      ]
     },
     "execution_count": 16,
     "metadata": {},
     "output_type": "execute_result"
    },
    {
     "data": {
      "image/png": "[encoded data removed]",
      "text/plain": [
       "<Figure size 432x288 with 1 Axes>"
      ]
     },
     "metadata": {
      "needs_background": "light"
     },
     "output_type": "display_data"
    }
   ],
   "source": [
    "bd.Curvature.hist()"
   ]
  },
  {
   "cell_type": "code",
   "execution_count": 18,
   "metadata": {},
   "outputs": [],
   "source": [
    "roof_model = p3.plot_trisurf(bd['Y'], bd['Z'], bd['X'], tri.simplices, color='red')\n",
    "fig.meshes.append(roof_model)\n",
    "roof_quiver.visible = False"
   ]
  },
  {
   "cell_type": "code",
   "execution_count": null,
   "metadata": {},
   "outputs": [],
   "source": []
  }
 ],
 "metadata": {
  "kernelspec": {
   "display_name": "Python 3",
   "language": "python",
   "name": "python3"
  },
  "language_info": {
   "codemirror_mode": {
    "name": "ipython",
    "version": 3
   },
   "file_extension": ".py",
   "mimetype": "text/x-python",
   "name": "python",
   "nbconvert_exporter": "python",
   "pygments_lexer": "ipython3",
   "version": "3.8.6"
  }
 },
 "nbformat": 4,
 "nbformat_minor": 4
}
